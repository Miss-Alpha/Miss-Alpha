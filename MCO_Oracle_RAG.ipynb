{
  "nbformat": 4,
  "nbformat_minor": 0,
  "metadata": {
    "colab": {
      "provenance": [],
      "toc_visible": true,
      "authorship_tag": "ABX9TyOMhFsJvHghOQP6C8rlemMC",
      "include_colab_link": true
    },
    "kernelspec": {
      "name": "python3",
      "display_name": "Python 3"
    },
    "language_info": {
      "name": "python"
    },
    "widgets": {
      "application/vnd.jupyter.widget-state+json": {
        "6063e0fb4dfc4abea3092107034ee61f": {
          "model_module": "@jupyter-widgets/controls",
          "model_name": "HBoxModel",
          "model_module_version": "1.5.0",
          "state": {
            "_dom_classes": [],
            "_model_module": "@jupyter-widgets/controls",
            "_model_module_version": "1.5.0",
            "_model_name": "HBoxModel",
            "_view_count": null,
            "_view_module": "@jupyter-widgets/controls",
            "_view_module_version": "1.5.0",
            "_view_name": "HBoxView",
            "box_style": "",
            "children": [
              "IPY_MODEL_e3f369e077d34ba19d27873dbbdeb9ed",
              "IPY_MODEL_e855256783574896a8825b9ce928dd47",
              "IPY_MODEL_72c893609f474f21ab1c8c57ef183e0c"
            ],
            "layout": "IPY_MODEL_2cfeebcc393643b686c44a9cf29be45c"
          }
        },
        "e3f369e077d34ba19d27873dbbdeb9ed": {
          "model_module": "@jupyter-widgets/controls",
          "model_name": "HTMLModel",
          "model_module_version": "1.5.0",
          "state": {
            "_dom_classes": [],
            "_model_module": "@jupyter-widgets/controls",
            "_model_module_version": "1.5.0",
            "_model_name": "HTMLModel",
            "_view_count": null,
            "_view_module": "@jupyter-widgets/controls",
            "_view_module_version": "1.5.0",
            "_view_name": "HTMLView",
            "description": "",
            "description_tooltip": null,
            "layout": "IPY_MODEL_08b7afe9e9424140b15b4d6576027c6a",
            "placeholder": "​",
            "style": "IPY_MODEL_fdb946ac4af84beea9de6bdbc8f9398f",
            "value": "Parsing nodes: 100%"
          }
        },
        "e855256783574896a8825b9ce928dd47": {
          "model_module": "@jupyter-widgets/controls",
          "model_name": "FloatProgressModel",
          "model_module_version": "1.5.0",
          "state": {
            "_dom_classes": [],
            "_model_module": "@jupyter-widgets/controls",
            "_model_module_version": "1.5.0",
            "_model_name": "FloatProgressModel",
            "_view_count": null,
            "_view_module": "@jupyter-widgets/controls",
            "_view_module_version": "1.5.0",
            "_view_name": "ProgressView",
            "bar_style": "success",
            "description": "",
            "description_tooltip": null,
            "layout": "IPY_MODEL_93f72a622a934ff8909d233414988af2",
            "max": 1,
            "min": 0,
            "orientation": "horizontal",
            "style": "IPY_MODEL_03bd503a419942c6b68bc7aa68dc4441",
            "value": 1
          }
        },
        "72c893609f474f21ab1c8c57ef183e0c": {
          "model_module": "@jupyter-widgets/controls",
          "model_name": "HTMLModel",
          "model_module_version": "1.5.0",
          "state": {
            "_dom_classes": [],
            "_model_module": "@jupyter-widgets/controls",
            "_model_module_version": "1.5.0",
            "_model_name": "HTMLModel",
            "_view_count": null,
            "_view_module": "@jupyter-widgets/controls",
            "_view_module_version": "1.5.0",
            "_view_name": "HTMLView",
            "description": "",
            "description_tooltip": null,
            "layout": "IPY_MODEL_5416f3d9394f4d48bd0ec2e520038cc6",
            "placeholder": "​",
            "style": "IPY_MODEL_105fe0545ead43caa2cf7aaae49794b3",
            "value": " 1/1 [00:00&lt;00:00, 16.54it/s]"
          }
        },
        "2cfeebcc393643b686c44a9cf29be45c": {
          "model_module": "@jupyter-widgets/base",
          "model_name": "LayoutModel",
          "model_module_version": "1.2.0",
          "state": {
            "_model_module": "@jupyter-widgets/base",
            "_model_module_version": "1.2.0",
            "_model_name": "LayoutModel",
            "_view_count": null,
            "_view_module": "@jupyter-widgets/base",
            "_view_module_version": "1.2.0",
            "_view_name": "LayoutView",
            "align_content": null,
            "align_items": null,
            "align_self": null,
            "border": null,
            "bottom": null,
            "display": null,
            "flex": null,
            "flex_flow": null,
            "grid_area": null,
            "grid_auto_columns": null,
            "grid_auto_flow": null,
            "grid_auto_rows": null,
            "grid_column": null,
            "grid_gap": null,
            "grid_row": null,
            "grid_template_areas": null,
            "grid_template_columns": null,
            "grid_template_rows": null,
            "height": null,
            "justify_content": null,
            "justify_items": null,
            "left": null,
            "margin": null,
            "max_height": null,
            "max_width": null,
            "min_height": null,
            "min_width": null,
            "object_fit": null,
            "object_position": null,
            "order": null,
            "overflow": null,
            "overflow_x": null,
            "overflow_y": null,
            "padding": null,
            "right": null,
            "top": null,
            "visibility": null,
            "width": null
          }
        },
        "08b7afe9e9424140b15b4d6576027c6a": {
          "model_module": "@jupyter-widgets/base",
          "model_name": "LayoutModel",
          "model_module_version": "1.2.0",
          "state": {
            "_model_module": "@jupyter-widgets/base",
            "_model_module_version": "1.2.0",
            "_model_name": "LayoutModel",
            "_view_count": null,
            "_view_module": "@jupyter-widgets/base",
            "_view_module_version": "1.2.0",
            "_view_name": "LayoutView",
            "align_content": null,
            "align_items": null,
            "align_self": null,
            "border": null,
            "bottom": null,
            "display": null,
            "flex": null,
            "flex_flow": null,
            "grid_area": null,
            "grid_auto_columns": null,
            "grid_auto_flow": null,
            "grid_auto_rows": null,
            "grid_column": null,
            "grid_gap": null,
            "grid_row": null,
            "grid_template_areas": null,
            "grid_template_columns": null,
            "grid_template_rows": null,
            "height": null,
            "justify_content": null,
            "justify_items": null,
            "left": null,
            "margin": null,
            "max_height": null,
            "max_width": null,
            "min_height": null,
            "min_width": null,
            "object_fit": null,
            "object_position": null,
            "order": null,
            "overflow": null,
            "overflow_x": null,
            "overflow_y": null,
            "padding": null,
            "right": null,
            "top": null,
            "visibility": null,
            "width": null
          }
        },
        "fdb946ac4af84beea9de6bdbc8f9398f": {
          "model_module": "@jupyter-widgets/controls",
          "model_name": "DescriptionStyleModel",
          "model_module_version": "1.5.0",
          "state": {
            "_model_module": "@jupyter-widgets/controls",
            "_model_module_version": "1.5.0",
            "_model_name": "DescriptionStyleModel",
            "_view_count": null,
            "_view_module": "@jupyter-widgets/base",
            "_view_module_version": "1.2.0",
            "_view_name": "StyleView",
            "description_width": ""
          }
        },
        "93f72a622a934ff8909d233414988af2": {
          "model_module": "@jupyter-widgets/base",
          "model_name": "LayoutModel",
          "model_module_version": "1.2.0",
          "state": {
            "_model_module": "@jupyter-widgets/base",
            "_model_module_version": "1.2.0",
            "_model_name": "LayoutModel",
            "_view_count": null,
            "_view_module": "@jupyter-widgets/base",
            "_view_module_version": "1.2.0",
            "_view_name": "LayoutView",
            "align_content": null,
            "align_items": null,
            "align_self": null,
            "border": null,
            "bottom": null,
            "display": null,
            "flex": null,
            "flex_flow": null,
            "grid_area": null,
            "grid_auto_columns": null,
            "grid_auto_flow": null,
            "grid_auto_rows": null,
            "grid_column": null,
            "grid_gap": null,
            "grid_row": null,
            "grid_template_areas": null,
            "grid_template_columns": null,
            "grid_template_rows": null,
            "height": null,
            "justify_content": null,
            "justify_items": null,
            "left": null,
            "margin": null,
            "max_height": null,
            "max_width": null,
            "min_height": null,
            "min_width": null,
            "object_fit": null,
            "object_position": null,
            "order": null,
            "overflow": null,
            "overflow_x": null,
            "overflow_y": null,
            "padding": null,
            "right": null,
            "top": null,
            "visibility": null,
            "width": null
          }
        },
        "03bd503a419942c6b68bc7aa68dc4441": {
          "model_module": "@jupyter-widgets/controls",
          "model_name": "ProgressStyleModel",
          "model_module_version": "1.5.0",
          "state": {
            "_model_module": "@jupyter-widgets/controls",
            "_model_module_version": "1.5.0",
            "_model_name": "ProgressStyleModel",
            "_view_count": null,
            "_view_module": "@jupyter-widgets/base",
            "_view_module_version": "1.2.0",
            "_view_name": "StyleView",
            "bar_color": null,
            "description_width": ""
          }
        },
        "5416f3d9394f4d48bd0ec2e520038cc6": {
          "model_module": "@jupyter-widgets/base",
          "model_name": "LayoutModel",
          "model_module_version": "1.2.0",
          "state": {
            "_model_module": "@jupyter-widgets/base",
            "_model_module_version": "1.2.0",
            "_model_name": "LayoutModel",
            "_view_count": null,
            "_view_module": "@jupyter-widgets/base",
            "_view_module_version": "1.2.0",
            "_view_name": "LayoutView",
            "align_content": null,
            "align_items": null,
            "align_self": null,
            "border": null,
            "bottom": null,
            "display": null,
            "flex": null,
            "flex_flow": null,
            "grid_area": null,
            "grid_auto_columns": null,
            "grid_auto_flow": null,
            "grid_auto_rows": null,
            "grid_column": null,
            "grid_gap": null,
            "grid_row": null,
            "grid_template_areas": null,
            "grid_template_columns": null,
            "grid_template_rows": null,
            "height": null,
            "justify_content": null,
            "justify_items": null,
            "left": null,
            "margin": null,
            "max_height": null,
            "max_width": null,
            "min_height": null,
            "min_width": null,
            "object_fit": null,
            "object_position": null,
            "order": null,
            "overflow": null,
            "overflow_x": null,
            "overflow_y": null,
            "padding": null,
            "right": null,
            "top": null,
            "visibility": null,
            "width": null
          }
        },
        "105fe0545ead43caa2cf7aaae49794b3": {
          "model_module": "@jupyter-widgets/controls",
          "model_name": "DescriptionStyleModel",
          "model_module_version": "1.5.0",
          "state": {
            "_model_module": "@jupyter-widgets/controls",
            "_model_module_version": "1.5.0",
            "_model_name": "DescriptionStyleModel",
            "_view_count": null,
            "_view_module": "@jupyter-widgets/base",
            "_view_module_version": "1.2.0",
            "_view_name": "StyleView",
            "description_width": ""
          }
        },
        "985732ae406749e1845aa1c543a87d2f": {
          "model_module": "@jupyter-widgets/controls",
          "model_name": "HBoxModel",
          "model_module_version": "1.5.0",
          "state": {
            "_dom_classes": [],
            "_model_module": "@jupyter-widgets/controls",
            "_model_module_version": "1.5.0",
            "_model_name": "HBoxModel",
            "_view_count": null,
            "_view_module": "@jupyter-widgets/controls",
            "_view_module_version": "1.5.0",
            "_view_name": "HBoxView",
            "box_style": "",
            "children": [
              "IPY_MODEL_c9aef983263048daa23daa78cd92e572",
              "IPY_MODEL_3cd336e20c504c45a9f958863dd91a6f",
              "IPY_MODEL_e37be76156d346c3acf6e9e90db84d8a"
            ],
            "layout": "IPY_MODEL_5a8a7c2ca7ec4003873421f09398afd8"
          }
        },
        "c9aef983263048daa23daa78cd92e572": {
          "model_module": "@jupyter-widgets/controls",
          "model_name": "HTMLModel",
          "model_module_version": "1.5.0",
          "state": {
            "_dom_classes": [],
            "_model_module": "@jupyter-widgets/controls",
            "_model_module_version": "1.5.0",
            "_model_name": "HTMLModel",
            "_view_count": null,
            "_view_module": "@jupyter-widgets/controls",
            "_view_module_version": "1.5.0",
            "_view_name": "HTMLView",
            "description": "",
            "description_tooltip": null,
            "layout": "IPY_MODEL_d29f2014933e448ca895ac513060dee0",
            "placeholder": "​",
            "style": "IPY_MODEL_920d22daf92f473d9fdc0a00cb4e1f1e",
            "value": "Generating embeddings: 100%"
          }
        },
        "3cd336e20c504c45a9f958863dd91a6f": {
          "model_module": "@jupyter-widgets/controls",
          "model_name": "FloatProgressModel",
          "model_module_version": "1.5.0",
          "state": {
            "_dom_classes": [],
            "_model_module": "@jupyter-widgets/controls",
            "_model_module_version": "1.5.0",
            "_model_name": "FloatProgressModel",
            "_view_count": null,
            "_view_module": "@jupyter-widgets/controls",
            "_view_module_version": "1.5.0",
            "_view_name": "ProgressView",
            "bar_style": "success",
            "description": "",
            "description_tooltip": null,
            "layout": "IPY_MODEL_c46a826d33aa4f92893f6a3d8ee947d5",
            "max": 5,
            "min": 0,
            "orientation": "horizontal",
            "style": "IPY_MODEL_4e0701bbf37d471d8893a8be6ccc4f55",
            "value": 5
          }
        },
        "e37be76156d346c3acf6e9e90db84d8a": {
          "model_module": "@jupyter-widgets/controls",
          "model_name": "HTMLModel",
          "model_module_version": "1.5.0",
          "state": {
            "_dom_classes": [],
            "_model_module": "@jupyter-widgets/controls",
            "_model_module_version": "1.5.0",
            "_model_name": "HTMLModel",
            "_view_count": null,
            "_view_module": "@jupyter-widgets/controls",
            "_view_module_version": "1.5.0",
            "_view_name": "HTMLView",
            "description": "",
            "description_tooltip": null,
            "layout": "IPY_MODEL_8ab3772485664e6da135186c5873d36b",
            "placeholder": "​",
            "style": "IPY_MODEL_71ab139bbd9248ff8a4b2a72a31526d6",
            "value": " 5/5 [00:00&lt;00:00, 10.92it/s]"
          }
        },
        "5a8a7c2ca7ec4003873421f09398afd8": {
          "model_module": "@jupyter-widgets/base",
          "model_name": "LayoutModel",
          "model_module_version": "1.2.0",
          "state": {
            "_model_module": "@jupyter-widgets/base",
            "_model_module_version": "1.2.0",
            "_model_name": "LayoutModel",
            "_view_count": null,
            "_view_module": "@jupyter-widgets/base",
            "_view_module_version": "1.2.0",
            "_view_name": "LayoutView",
            "align_content": null,
            "align_items": null,
            "align_self": null,
            "border": null,
            "bottom": null,
            "display": null,
            "flex": null,
            "flex_flow": null,
            "grid_area": null,
            "grid_auto_columns": null,
            "grid_auto_flow": null,
            "grid_auto_rows": null,
            "grid_column": null,
            "grid_gap": null,
            "grid_row": null,
            "grid_template_areas": null,
            "grid_template_columns": null,
            "grid_template_rows": null,
            "height": null,
            "justify_content": null,
            "justify_items": null,
            "left": null,
            "margin": null,
            "max_height": null,
            "max_width": null,
            "min_height": null,
            "min_width": null,
            "object_fit": null,
            "object_position": null,
            "order": null,
            "overflow": null,
            "overflow_x": null,
            "overflow_y": null,
            "padding": null,
            "right": null,
            "top": null,
            "visibility": null,
            "width": null
          }
        },
        "d29f2014933e448ca895ac513060dee0": {
          "model_module": "@jupyter-widgets/base",
          "model_name": "LayoutModel",
          "model_module_version": "1.2.0",
          "state": {
            "_model_module": "@jupyter-widgets/base",
            "_model_module_version": "1.2.0",
            "_model_name": "LayoutModel",
            "_view_count": null,
            "_view_module": "@jupyter-widgets/base",
            "_view_module_version": "1.2.0",
            "_view_name": "LayoutView",
            "align_content": null,
            "align_items": null,
            "align_self": null,
            "border": null,
            "bottom": null,
            "display": null,
            "flex": null,
            "flex_flow": null,
            "grid_area": null,
            "grid_auto_columns": null,
            "grid_auto_flow": null,
            "grid_auto_rows": null,
            "grid_column": null,
            "grid_gap": null,
            "grid_row": null,
            "grid_template_areas": null,
            "grid_template_columns": null,
            "grid_template_rows": null,
            "height": null,
            "justify_content": null,
            "justify_items": null,
            "left": null,
            "margin": null,
            "max_height": null,
            "max_width": null,
            "min_height": null,
            "min_width": null,
            "object_fit": null,
            "object_position": null,
            "order": null,
            "overflow": null,
            "overflow_x": null,
            "overflow_y": null,
            "padding": null,
            "right": null,
            "top": null,
            "visibility": null,
            "width": null
          }
        },
        "920d22daf92f473d9fdc0a00cb4e1f1e": {
          "model_module": "@jupyter-widgets/controls",
          "model_name": "DescriptionStyleModel",
          "model_module_version": "1.5.0",
          "state": {
            "_model_module": "@jupyter-widgets/controls",
            "_model_module_version": "1.5.0",
            "_model_name": "DescriptionStyleModel",
            "_view_count": null,
            "_view_module": "@jupyter-widgets/base",
            "_view_module_version": "1.2.0",
            "_view_name": "StyleView",
            "description_width": ""
          }
        },
        "c46a826d33aa4f92893f6a3d8ee947d5": {
          "model_module": "@jupyter-widgets/base",
          "model_name": "LayoutModel",
          "model_module_version": "1.2.0",
          "state": {
            "_model_module": "@jupyter-widgets/base",
            "_model_module_version": "1.2.0",
            "_model_name": "LayoutModel",
            "_view_count": null,
            "_view_module": "@jupyter-widgets/base",
            "_view_module_version": "1.2.0",
            "_view_name": "LayoutView",
            "align_content": null,
            "align_items": null,
            "align_self": null,
            "border": null,
            "bottom": null,
            "display": null,
            "flex": null,
            "flex_flow": null,
            "grid_area": null,
            "grid_auto_columns": null,
            "grid_auto_flow": null,
            "grid_auto_rows": null,
            "grid_column": null,
            "grid_gap": null,
            "grid_row": null,
            "grid_template_areas": null,
            "grid_template_columns": null,
            "grid_template_rows": null,
            "height": null,
            "justify_content": null,
            "justify_items": null,
            "left": null,
            "margin": null,
            "max_height": null,
            "max_width": null,
            "min_height": null,
            "min_width": null,
            "object_fit": null,
            "object_position": null,
            "order": null,
            "overflow": null,
            "overflow_x": null,
            "overflow_y": null,
            "padding": null,
            "right": null,
            "top": null,
            "visibility": null,
            "width": null
          }
        },
        "4e0701bbf37d471d8893a8be6ccc4f55": {
          "model_module": "@jupyter-widgets/controls",
          "model_name": "ProgressStyleModel",
          "model_module_version": "1.5.0",
          "state": {
            "_model_module": "@jupyter-widgets/controls",
            "_model_module_version": "1.5.0",
            "_model_name": "ProgressStyleModel",
            "_view_count": null,
            "_view_module": "@jupyter-widgets/base",
            "_view_module_version": "1.2.0",
            "_view_name": "StyleView",
            "bar_color": null,
            "description_width": ""
          }
        },
        "8ab3772485664e6da135186c5873d36b": {
          "model_module": "@jupyter-widgets/base",
          "model_name": "LayoutModel",
          "model_module_version": "1.2.0",
          "state": {
            "_model_module": "@jupyter-widgets/base",
            "_model_module_version": "1.2.0",
            "_model_name": "LayoutModel",
            "_view_count": null,
            "_view_module": "@jupyter-widgets/base",
            "_view_module_version": "1.2.0",
            "_view_name": "LayoutView",
            "align_content": null,
            "align_items": null,
            "align_self": null,
            "border": null,
            "bottom": null,
            "display": null,
            "flex": null,
            "flex_flow": null,
            "grid_area": null,
            "grid_auto_columns": null,
            "grid_auto_flow": null,
            "grid_auto_rows": null,
            "grid_column": null,
            "grid_gap": null,
            "grid_row": null,
            "grid_template_areas": null,
            "grid_template_columns": null,
            "grid_template_rows": null,
            "height": null,
            "justify_content": null,
            "justify_items": null,
            "left": null,
            "margin": null,
            "max_height": null,
            "max_width": null,
            "min_height": null,
            "min_width": null,
            "object_fit": null,
            "object_position": null,
            "order": null,
            "overflow": null,
            "overflow_x": null,
            "overflow_y": null,
            "padding": null,
            "right": null,
            "top": null,
            "visibility": null,
            "width": null
          }
        },
        "71ab139bbd9248ff8a4b2a72a31526d6": {
          "model_module": "@jupyter-widgets/controls",
          "model_name": "DescriptionStyleModel",
          "model_module_version": "1.5.0",
          "state": {
            "_model_module": "@jupyter-widgets/controls",
            "_model_module_version": "1.5.0",
            "_model_name": "DescriptionStyleModel",
            "_view_count": null,
            "_view_module": "@jupyter-widgets/base",
            "_view_module_version": "1.2.0",
            "_view_name": "StyleView",
            "description_width": ""
          }
        }
      }
    }
  },
  "cells": [
    {
      "cell_type": "markdown",
      "metadata": {
        "id": "view-in-github",
        "colab_type": "text"
      },
      "source": [
        "<a href=\"https://colab.research.google.com/github/Miss-Alpha/Miss-Alpha/blob/main/MCO_Oracle_RAG.ipynb\" target=\"_parent\"><img src=\"https://colab.research.google.com/assets/colab-badge.svg\" alt=\"Open In Colab\"/></a>"
      ]
    },
    {
      "cell_type": "markdown",
      "source": [
        "# **Creating a RAG (Retrieval-Augmented Generation) with Oracle Generative AI Service**"
      ],
      "metadata": {
        "id": "gR73KFG2T7Ru"
      }
    },
    {
      "cell_type": "markdown",
      "source": [
        "The following codes were an attempt to reproduce [this document](https://github.com/oracle-devrel/technology-engineering/tree/main/ai-and-app-modernisation/ai-services/generative-ai-service/rag-genai/files).\n",
        "\n",
        "There were two problems with the current document,\n",
        "- **Not Thourugh:** they are so many libraries that haven't been imported in the code exmaples and we have to add them.\n",
        "- **Outdated:** since the code was written, so many modules have changed.\n",
        "\n",
        "Below I added the necessary libraries, and made the changes in the module names. I still kept the original code in the comments.\n",
        "\n",
        "The only missing part is the `compartment_id` which is basically an Oracle ID. I believe being able to access that and by making few changes we are able to make the final model work.\n",
        "\n",
        "I added the OpenAI part for illustrative purposes.\n",
        "\n",
        "🌟 This notebook has been last updated on **12th of March.**"
      ],
      "metadata": {
        "id": "izdk-GWjTYGr"
      }
    },
    {
      "cell_type": "markdown",
      "source": [
        "## 0 Requirements"
      ],
      "metadata": {
        "id": "NbJdthBX5xYu"
      }
    },
    {
      "cell_type": "code",
      "source": [
        "!pip install llama-index\n",
        "!pip install llama-index-vector-stores-qdrant\n",
        "!pip install qdrant-client\n",
        "!pip install sentence-transformers\n",
        "!pip install llama-hub\n",
        "!pip install llama-index-readers-web\n",
        "!pip install langchain"
      ],
      "metadata": {
        "id": "oXsTKb7pmuG9"
      },
      "execution_count": null,
      "outputs": []
    },
    {
      "cell_type": "code",
      "source": [
        "!pip install langchain"
      ],
      "metadata": {
        "id": "eRCq5ojpN549"
      },
      "execution_count": null,
      "outputs": []
    },
    {
      "cell_type": "code",
      "source": [
        "from langchain_community.llms import OCIGenAI\n",
        "\n",
        "#from llama_index import VectorStoreIndex\n",
        "from llama_index.core import VectorStoreIndex\n",
        "\n",
        "#from llama_index import ServiceContext\n",
        "from llama_index.core import ServiceContext\n",
        "\n",
        "from llama_index.vector_stores.qdrant import QdrantVectorStore\n",
        "\n",
        "#from llama_index.storage.storage_context import StorageContext\n",
        "from llama_index.core import StorageContext\n",
        "\n",
        "from qdrant_client import qdrant_client\n",
        "from langchain.embeddings import SentenceTransformerEmbeddings\n",
        "\n",
        "#from llama_hub.web.sitemap import SitemapReader\n",
        "from llama_index.readers.web import SimpleWebPageReader\n",
        "\n",
        "from llama_index.core import SummaryIndex\n",
        "\n",
        "import openai"
      ],
      "metadata": {
        "id": "_0yqBP7yirbN"
      },
      "execution_count": null,
      "outputs": []
    },
    {
      "cell_type": "code",
      "source": [
        "web_address = 'https://mco.mycomplianceoffice.com/solutions/compliance-oversight?_gl=1*15vxh5d*_up*MQ..&gclid=Cj0KCQiA84CvBhCaARIsAMkAvkKpo1rs5ZpjH0F02I9wwiAenOtU89_o5DTLd3oxhoo1CIq8KdRXzF4aAg27EALw_wcB'\n",
        "documents = SimpleWebPageReader(html_to_text=True).load_data(\n",
        "    [web_address]\n",
        ")"
      ],
      "metadata": {
        "id": "kPKlPfJ4qrrD"
      },
      "execution_count": null,
      "outputs": []
    },
    {
      "cell_type": "markdown",
      "source": [
        "## 0.1 Data Ingestion"
      ],
      "metadata": {
        "id": "e0dcWUCNNw6F"
      }
    },
    {
      "cell_type": "code",
      "source": [
        "from google.colab import drive\n",
        "drive.mount('/content/drive/')"
      ],
      "metadata": {
        "colab": {
          "base_uri": "https://localhost:8080/"
        },
        "id": "1f397N2qNmYb",
        "outputId": "18f3cf26-f763-4559-cf76-85b1863338cd"
      },
      "execution_count": null,
      "outputs": [
        {
          "output_type": "stream",
          "name": "stdout",
          "text": [
            "Drive already mounted at /content/drive/; to attempt to forcibly remount, call drive.mount(\"/content/drive/\", force_remount=True).\n"
          ]
        }
      ]
    },
    {
      "cell_type": "code",
      "source": [
        "%cd /content/drive/My Drive/Colab Notebooks/"
      ],
      "metadata": {
        "colab": {
          "base_uri": "https://localhost:8080/"
        },
        "id": "aSUfWq0NSnFk",
        "outputId": "3bef2843-2310-4614-a7d4-1e8bc2a47a8c"
      },
      "execution_count": null,
      "outputs": [
        {
          "output_type": "stream",
          "name": "stdout",
          "text": [
            "/content/drive/My Drive/Colab Notebooks\n"
          ]
        }
      ]
    },
    {
      "cell_type": "code",
      "source": [
        "!ls \"/content/drive/My Drive/Colab Notebooks/\""
      ],
      "metadata": {
        "colab": {
          "base_uri": "https://localhost:8080/"
        },
        "id": "1DoYez-4TBO6",
        "outputId": "925e656a-13b6-4a5c-a85f-4d1038e79063"
      },
      "execution_count": null,
      "outputs": [
        {
          "output_type": "stream",
          "name": "stdout",
          "text": [
            "3.pdf  Oracle_RAG.ipynb\n"
          ]
        }
      ]
    },
    {
      "cell_type": "code",
      "source": [
        "from llama_index.core import SimpleDirectoryReader\n",
        "\n",
        "reader = SimpleDirectoryReader(input_dir='/content/drive/My Drive/Colab Notebooks/3220. Rewarding Employees.html')\n",
        "documents = reader.load_data()"
      ],
      "metadata": {
        "colab": {
          "base_uri": "https://localhost:8080/",
          "height": 332
        },
        "id": "JzGq2X-gQ6C_",
        "outputId": "7e9992ce-6a23-4522-91c7-e8d7c160f386"
      },
      "execution_count": null,
      "outputs": [
        {
          "output_type": "error",
          "ename": "ValueError",
          "evalue": "Directory /content/drive/My Drive/Colab Notebooks/3220. Rewarding Employees.html does not exist.",
          "traceback": [
            "\u001b[0;31m---------------------------------------------------------------------------\u001b[0m",
            "\u001b[0;31mValueError\u001b[0m                                Traceback (most recent call last)",
            "\u001b[0;32m<ipython-input-41-ea8a275392cb>\u001b[0m in \u001b[0;36m<cell line: 3>\u001b[0;34m()\u001b[0m\n\u001b[1;32m      1\u001b[0m \u001b[0;32mfrom\u001b[0m \u001b[0mllama_index\u001b[0m\u001b[0;34m.\u001b[0m\u001b[0mcore\u001b[0m \u001b[0;32mimport\u001b[0m \u001b[0mSimpleDirectoryReader\u001b[0m\u001b[0;34m\u001b[0m\u001b[0;34m\u001b[0m\u001b[0m\n\u001b[1;32m      2\u001b[0m \u001b[0;34m\u001b[0m\u001b[0m\n\u001b[0;32m----> 3\u001b[0;31m \u001b[0mreader\u001b[0m \u001b[0;34m=\u001b[0m \u001b[0mSimpleDirectoryReader\u001b[0m\u001b[0;34m(\u001b[0m\u001b[0minput_dir\u001b[0m\u001b[0;34m=\u001b[0m\u001b[0;34m'/content/drive/My Drive/Colab Notebooks/3220. Rewarding Employees.html'\u001b[0m\u001b[0;34m)\u001b[0m\u001b[0;34m\u001b[0m\u001b[0;34m\u001b[0m\u001b[0m\n\u001b[0m\u001b[1;32m      4\u001b[0m \u001b[0mdocuments\u001b[0m \u001b[0;34m=\u001b[0m \u001b[0mreader\u001b[0m\u001b[0;34m.\u001b[0m\u001b[0mload_data\u001b[0m\u001b[0;34m(\u001b[0m\u001b[0;34m)\u001b[0m\u001b[0;34m\u001b[0m\u001b[0;34m\u001b[0m\u001b[0m\n",
            "\u001b[0;32m/usr/local/lib/python3.10/dist-packages/llama_index/core/readers/file/base.py\u001b[0m in \u001b[0;36m__init__\u001b[0;34m(self, input_dir, input_files, exclude, exclude_hidden, errors, recursive, encoding, filename_as_id, required_exts, file_extractor, num_files_limit, file_metadata, fs)\u001b[0m\n\u001b[1;32m    207\u001b[0m         \u001b[0;32melif\u001b[0m \u001b[0minput_dir\u001b[0m\u001b[0;34m:\u001b[0m\u001b[0;34m\u001b[0m\u001b[0;34m\u001b[0m\u001b[0m\n\u001b[1;32m    208\u001b[0m             \u001b[0;32mif\u001b[0m \u001b[0;32mnot\u001b[0m \u001b[0mself\u001b[0m\u001b[0;34m.\u001b[0m\u001b[0mfs\u001b[0m\u001b[0;34m.\u001b[0m\u001b[0misdir\u001b[0m\u001b[0;34m(\u001b[0m\u001b[0minput_dir\u001b[0m\u001b[0;34m)\u001b[0m\u001b[0;34m:\u001b[0m\u001b[0;34m\u001b[0m\u001b[0;34m\u001b[0m\u001b[0m\n\u001b[0;32m--> 209\u001b[0;31m                 \u001b[0;32mraise\u001b[0m \u001b[0mValueError\u001b[0m\u001b[0;34m(\u001b[0m\u001b[0;34mf\"Directory {input_dir} does not exist.\"\u001b[0m\u001b[0;34m)\u001b[0m\u001b[0;34m\u001b[0m\u001b[0;34m\u001b[0m\u001b[0m\n\u001b[0m\u001b[1;32m    210\u001b[0m             \u001b[0mself\u001b[0m\u001b[0;34m.\u001b[0m\u001b[0minput_dir\u001b[0m \u001b[0;34m=\u001b[0m \u001b[0mPath\u001b[0m\u001b[0;34m(\u001b[0m\u001b[0minput_dir\u001b[0m\u001b[0;34m)\u001b[0m\u001b[0;34m\u001b[0m\u001b[0;34m\u001b[0m\u001b[0m\n\u001b[1;32m    211\u001b[0m             \u001b[0mself\u001b[0m\u001b[0;34m.\u001b[0m\u001b[0mexclude\u001b[0m \u001b[0;34m=\u001b[0m \u001b[0mexclude\u001b[0m\u001b[0;34m\u001b[0m\u001b[0;34m\u001b[0m\u001b[0m\n",
            "\u001b[0;31mValueError\u001b[0m: Directory /content/drive/My Drive/Colab Notebooks/3220. Rewarding Employees.html does not exist."
          ]
        }
      ]
    },
    {
      "cell_type": "code",
      "source": [
        "from langchain_community.document_loaders import UnstructuredHTMLLoader\n",
        "rewarding_document_loader = UnstructuredHTMLLoader(\"/content/drive/My Drive/Colab Notebooks/3220. Rewarding Employees.html\")"
      ],
      "metadata": {
        "id": "ntizBtqrTiSL"
      },
      "execution_count": null,
      "outputs": []
    },
    {
      "cell_type": "code",
      "source": [
        "rewarding_data = rewarding_document_loader.load()\n",
        "rewarding_data"
      ],
      "metadata": {
        "colab": {
          "base_uri": "https://localhost:8080/"
        },
        "id": "3L7PBMaH-aY6",
        "outputId": "88a912ed-7270-4e9d-d088-5f20c6c96628"
      },
      "execution_count": null,
      "outputs": [
        {
          "output_type": "execute_result",
          "data": {
            "text/plain": [
              "[Document(page_content=\"3220. Influencing or Rewarding Employees of Others\\n\\nThe Rule\\n\\nNotices\\n\\nGuidance\\n\\nNews Releases\\n\\nFAQs\\n\\n(a) No member or person associated with a member shall, directly or indirectly, give or permit to be given anything of value, including gratuities, in excess of one hundred dollars per individual per year to any person, principal, proprietor, employee, agent or representative of another person where such payment or gratuity is in relation to the business of the employer of the recipient of the payment or gratuity. A gift of any kind is considered a gratuity.\\n\\n(b) This Rule shall not apply to contracts of employment with or to compensation for services rendered by persons enumerated in paragraph (a) provided that there is in existence prior to the time of employment or before the services are rendered, a written agreement between the member and the person who is to be employed to perform such services. Such agreement shall include the nature of the proposed employment, the amount of the proposed compensation, and the written consent of such person's employer or principal.\\n\\n(c) A separate record of all payments or gratuities in any amount known to the member, the employment agreement referred to in paragraph (b) and any employment compensation paid as a result thereof shall be retained by the member for the period specified by SEA Rule 17a-4.\\n\\nAmended by SR-FINRA-2008-027 eff. Dec. 15, 2008. Amended by SR-NASD-92-40 eff. Dec. 28, 1992. Amended by SR-NASD-84-8 eff. June 20, 1984. Amended eff. Sept. 1, 1969. Selected Notices: 82-44, 93-8 , 08-57 .\\n\\nRegulatory Notice 16-29FINRA Requests Comment on Proposed Amendments to Its Gifts, Gratuities and Non-Cash Compensation RulesAugust 08, 2016\\n\\nRegulatory Notice 14-15FINRA Requests Comment on the Effectiveness and Efficiency of its Gifts and Gratuities and Non-Cash Compensation RulesApril 08, 2014\\n\\nRegulatory Notice 08-57FINRA Announces SEC Approval and Effective Date for New Consolidated FINRA RulesOctober 16, 2008\\n\\nNo Results Found\\n\\nNo Results Found\\n\\nNo Results Found\\n\\nBook traversal links for 3220. Influencing or Rewarding Employees of Others\\n\\n‹ 3210. Accounts At Other Broker-Dealers and Financial Institutions\\n\\nUp\\n\\n3230. Telemarketing ›\", metadata={'source': '/content/drive/My Drive/Colab Notebooks/3220. Rewarding Employees.html'})]"
            ]
          },
          "metadata": {},
          "execution_count": 49
        }
      ]
    },
    {
      "cell_type": "code",
      "source": [
        "FAISS.from_documents(rewarding_data, embedding=OpenAIEmbeddings())"
      ],
      "metadata": {
        "colab": {
          "base_uri": "https://localhost:8080/"
        },
        "id": "u2rFYX2s_hKx",
        "outputId": "2cb0d14c-f659-40df-eb5a-50aa19c2f1f3"
      },
      "execution_count": null,
      "outputs": [
        {
          "output_type": "execute_result",
          "data": {
            "text/plain": [
              "<langchain_community.vectorstores.faiss.FAISS at 0x7d0a47e04b20>"
            ]
          },
          "metadata": {},
          "execution_count": 50
        }
      ]
    },
    {
      "cell_type": "markdown",
      "source": [
        "### Link Reader"
      ],
      "metadata": {
        "id": "0LT9VZqEV3HZ"
      }
    },
    {
      "cell_type": "markdown",
      "source": [
        "**Source:**\n",
        "\n",
        "[Using VectorStoreIndex](https://docs.llamaindex.ai/en/stable/module_guides/indexing/vector_store_index.html)"
      ],
      "metadata": {
        "id": "blLJXbkNt4Vx"
      }
    },
    {
      "cell_type": "code",
      "source": [
        "web_address = 'https://www.finra.org/rules-guidance/rulebooks/finra-rules/3220'\n",
        "rewarding_documents = SimpleWebPageReader(html_to_text=True).load_data(\n",
        "    [web_address]\n",
        ")"
      ],
      "metadata": {
        "id": "rhFmtWESVd-y"
      },
      "execution_count": null,
      "outputs": []
    },
    {
      "cell_type": "code",
      "source": [
        "from google.colab import userdata\n",
        "import os\n",
        "os.environ[\"OPENAI_API_KEY\"] = userdata.get('openai_key')"
      ],
      "metadata": {
        "id": "Vt8b5wykZCa7"
      },
      "execution_count": null,
      "outputs": []
    },
    {
      "cell_type": "code",
      "source": [
        "rewarding_document_vector_index = VectorStoreIndex.from_documents(rewarding_documents, show_progress=True)"
      ],
      "metadata": {
        "colab": {
          "base_uri": "https://localhost:8080/",
          "height": 81,
          "referenced_widgets": [
            "6063e0fb4dfc4abea3092107034ee61f",
            "e3f369e077d34ba19d27873dbbdeb9ed",
            "e855256783574896a8825b9ce928dd47",
            "72c893609f474f21ab1c8c57ef183e0c",
            "2cfeebcc393643b686c44a9cf29be45c",
            "08b7afe9e9424140b15b4d6576027c6a",
            "fdb946ac4af84beea9de6bdbc8f9398f",
            "93f72a622a934ff8909d233414988af2",
            "03bd503a419942c6b68bc7aa68dc4441",
            "5416f3d9394f4d48bd0ec2e520038cc6",
            "105fe0545ead43caa2cf7aaae49794b3",
            "985732ae406749e1845aa1c543a87d2f",
            "c9aef983263048daa23daa78cd92e572",
            "3cd336e20c504c45a9f958863dd91a6f",
            "e37be76156d346c3acf6e9e90db84d8a",
            "5a8a7c2ca7ec4003873421f09398afd8",
            "d29f2014933e448ca895ac513060dee0",
            "920d22daf92f473d9fdc0a00cb4e1f1e",
            "c46a826d33aa4f92893f6a3d8ee947d5",
            "4e0701bbf37d471d8893a8be6ccc4f55",
            "8ab3772485664e6da135186c5873d36b",
            "71ab139bbd9248ff8a4b2a72a31526d6"
          ]
        },
        "id": "wNH-SkKpY127",
        "outputId": "e395473e-3dc5-4207-ade4-616d5138e632"
      },
      "execution_count": null,
      "outputs": [
        {
          "output_type": "display_data",
          "data": {
            "text/plain": [
              "Parsing nodes:   0%|          | 0/1 [00:00<?, ?it/s]"
            ],
            "application/vnd.jupyter.widget-view+json": {
              "version_major": 2,
              "version_minor": 0,
              "model_id": "6063e0fb4dfc4abea3092107034ee61f"
            }
          },
          "metadata": {}
        },
        {
          "output_type": "display_data",
          "data": {
            "text/plain": [
              "Generating embeddings:   0%|          | 0/5 [00:00<?, ?it/s]"
            ],
            "application/vnd.jupyter.widget-view+json": {
              "version_major": 2,
              "version_minor": 0,
              "model_id": "985732ae406749e1845aa1c543a87d2f"
            }
          },
          "metadata": {}
        }
      ]
    },
    {
      "cell_type": "code",
      "source": [
        "loader = UnstructuredHTMLLoader(\"https://www.finra.org/rules-guidance/rulebooks/finra-rules/3220\")\n",
        "data = loader.load()"
      ],
      "metadata": {
        "colab": {
          "base_uri": "https://localhost:8080/",
          "height": 304
        },
        "id": "UH3MPN8OvXzK",
        "outputId": "59934b50-7aba-4b1d-e606-11fa56e93c7f"
      },
      "execution_count": null,
      "outputs": [
        {
          "output_type": "error",
          "ename": "FileNotFoundError",
          "evalue": "[Errno 2] No such file or directory: 'https://www.finra.org/rules-guidance/rulebooks/finra-rules/3220'",
          "traceback": [
            "\u001b[0;31m---------------------------------------------------------------------------\u001b[0m",
            "\u001b[0;31mFileNotFoundError\u001b[0m                         Traceback (most recent call last)",
            "\u001b[0;32m<ipython-input-33-a3b1aa3c8c44>\u001b[0m in \u001b[0;36m<cell line: 2>\u001b[0;34m()\u001b[0m\n\u001b[1;32m      1\u001b[0m \u001b[0mloader\u001b[0m \u001b[0;34m=\u001b[0m \u001b[0mUnstructuredHTMLLoader\u001b[0m\u001b[0;34m(\u001b[0m\u001b[0;34m\"https://www.finra.org/rules-guidance/rulebooks/finra-rules/3220\"\u001b[0m\u001b[0;34m)\u001b[0m\u001b[0;34m\u001b[0m\u001b[0;34m\u001b[0m\u001b[0m\n\u001b[0;32m----> 2\u001b[0;31m \u001b[0mdata\u001b[0m \u001b[0;34m=\u001b[0m \u001b[0mloader\u001b[0m\u001b[0;34m.\u001b[0m\u001b[0mload\u001b[0m\u001b[0;34m(\u001b[0m\u001b[0;34m)\u001b[0m\u001b[0;34m\u001b[0m\u001b[0;34m\u001b[0m\u001b[0m\n\u001b[0m",
            "\u001b[0;32m/usr/local/lib/python3.10/dist-packages/langchain_core/document_loaders/base.py\u001b[0m in \u001b[0;36mload\u001b[0;34m(self)\u001b[0m\n\u001b[1;32m     27\u001b[0m     \u001b[0;32mdef\u001b[0m \u001b[0mload\u001b[0m\u001b[0;34m(\u001b[0m\u001b[0mself\u001b[0m\u001b[0;34m)\u001b[0m \u001b[0;34m->\u001b[0m \u001b[0mList\u001b[0m\u001b[0;34m[\u001b[0m\u001b[0mDocument\u001b[0m\u001b[0;34m]\u001b[0m\u001b[0;34m:\u001b[0m\u001b[0;34m\u001b[0m\u001b[0;34m\u001b[0m\u001b[0m\n\u001b[1;32m     28\u001b[0m         \u001b[0;34m\"\"\"Load data into Document objects.\"\"\"\u001b[0m\u001b[0;34m\u001b[0m\u001b[0;34m\u001b[0m\u001b[0m\n\u001b[0;32m---> 29\u001b[0;31m         \u001b[0;32mreturn\u001b[0m \u001b[0mlist\u001b[0m\u001b[0;34m(\u001b[0m\u001b[0mself\u001b[0m\u001b[0;34m.\u001b[0m\u001b[0mlazy_load\u001b[0m\u001b[0;34m(\u001b[0m\u001b[0;34m)\u001b[0m\u001b[0;34m)\u001b[0m\u001b[0;34m\u001b[0m\u001b[0;34m\u001b[0m\u001b[0m\n\u001b[0m\u001b[1;32m     30\u001b[0m \u001b[0;34m\u001b[0m\u001b[0m\n\u001b[1;32m     31\u001b[0m     def load_and_split(\n",
            "\u001b[0;32m/usr/local/lib/python3.10/dist-packages/langchain_community/document_loaders/unstructured.py\u001b[0m in \u001b[0;36mlazy_load\u001b[0;34m(self)\u001b[0m\n\u001b[1;32m     85\u001b[0m     \u001b[0;32mdef\u001b[0m \u001b[0mlazy_load\u001b[0m\u001b[0;34m(\u001b[0m\u001b[0mself\u001b[0m\u001b[0;34m)\u001b[0m \u001b[0;34m->\u001b[0m \u001b[0mIterator\u001b[0m\u001b[0;34m[\u001b[0m\u001b[0mDocument\u001b[0m\u001b[0;34m]\u001b[0m\u001b[0;34m:\u001b[0m\u001b[0;34m\u001b[0m\u001b[0;34m\u001b[0m\u001b[0m\n\u001b[1;32m     86\u001b[0m         \u001b[0;34m\"\"\"Load file.\"\"\"\u001b[0m\u001b[0;34m\u001b[0m\u001b[0;34m\u001b[0m\u001b[0m\n\u001b[0;32m---> 87\u001b[0;31m         \u001b[0melements\u001b[0m \u001b[0;34m=\u001b[0m \u001b[0mself\u001b[0m\u001b[0;34m.\u001b[0m\u001b[0m_get_elements\u001b[0m\u001b[0;34m(\u001b[0m\u001b[0;34m)\u001b[0m\u001b[0;34m\u001b[0m\u001b[0;34m\u001b[0m\u001b[0m\n\u001b[0m\u001b[1;32m     88\u001b[0m         \u001b[0mself\u001b[0m\u001b[0;34m.\u001b[0m\u001b[0m_post_process_elements\u001b[0m\u001b[0;34m(\u001b[0m\u001b[0melements\u001b[0m\u001b[0;34m)\u001b[0m\u001b[0;34m\u001b[0m\u001b[0;34m\u001b[0m\u001b[0m\n\u001b[1;32m     89\u001b[0m         \u001b[0;32mif\u001b[0m \u001b[0mself\u001b[0m\u001b[0;34m.\u001b[0m\u001b[0mmode\u001b[0m \u001b[0;34m==\u001b[0m \u001b[0;34m\"elements\"\u001b[0m\u001b[0;34m:\u001b[0m\u001b[0;34m\u001b[0m\u001b[0;34m\u001b[0m\u001b[0m\n",
            "\u001b[0;32m/usr/local/lib/python3.10/dist-packages/langchain_community/document_loaders/html.py\u001b[0m in \u001b[0;36m_get_elements\u001b[0;34m(self)\u001b[0m\n\u001b[1;32m     31\u001b[0m         \u001b[0;32mfrom\u001b[0m \u001b[0munstructured\u001b[0m\u001b[0;34m.\u001b[0m\u001b[0mpartition\u001b[0m\u001b[0;34m.\u001b[0m\u001b[0mhtml\u001b[0m \u001b[0;32mimport\u001b[0m \u001b[0mpartition_html\u001b[0m\u001b[0;34m\u001b[0m\u001b[0;34m\u001b[0m\u001b[0m\n\u001b[1;32m     32\u001b[0m \u001b[0;34m\u001b[0m\u001b[0m\n\u001b[0;32m---> 33\u001b[0;31m         \u001b[0;32mreturn\u001b[0m \u001b[0mpartition_html\u001b[0m\u001b[0;34m(\u001b[0m\u001b[0mfilename\u001b[0m\u001b[0;34m=\u001b[0m\u001b[0mself\u001b[0m\u001b[0;34m.\u001b[0m\u001b[0mfile_path\u001b[0m\u001b[0;34m,\u001b[0m \u001b[0;34m**\u001b[0m\u001b[0mself\u001b[0m\u001b[0;34m.\u001b[0m\u001b[0munstructured_kwargs\u001b[0m\u001b[0;34m)\u001b[0m\u001b[0;34m\u001b[0m\u001b[0;34m\u001b[0m\u001b[0m\n\u001b[0m",
            "\u001b[0;32m/usr/local/lib/python3.10/dist-packages/unstructured/documents/elements.py\u001b[0m in \u001b[0;36mwrapper\u001b[0;34m(*args, **kwargs)\u001b[0m\n\u001b[1;32m    524\u001b[0m         \u001b[0;34m@\u001b[0m\u001b[0mfunctools\u001b[0m\u001b[0;34m.\u001b[0m\u001b[0mwraps\u001b[0m\u001b[0;34m(\u001b[0m\u001b[0mfunc\u001b[0m\u001b[0;34m)\u001b[0m\u001b[0;34m\u001b[0m\u001b[0;34m\u001b[0m\u001b[0m\n\u001b[1;32m    525\u001b[0m         \u001b[0;32mdef\u001b[0m \u001b[0mwrapper\u001b[0m\u001b[0;34m(\u001b[0m\u001b[0;34m*\u001b[0m\u001b[0margs\u001b[0m\u001b[0;34m:\u001b[0m \u001b[0m_P\u001b[0m\u001b[0;34m.\u001b[0m\u001b[0margs\u001b[0m\u001b[0;34m,\u001b[0m \u001b[0;34m**\u001b[0m\u001b[0mkwargs\u001b[0m\u001b[0;34m:\u001b[0m \u001b[0m_P\u001b[0m\u001b[0;34m.\u001b[0m\u001b[0mkwargs\u001b[0m\u001b[0;34m)\u001b[0m \u001b[0;34m->\u001b[0m \u001b[0mList\u001b[0m\u001b[0;34m[\u001b[0m\u001b[0mElement\u001b[0m\u001b[0;34m]\u001b[0m\u001b[0;34m:\u001b[0m\u001b[0;34m\u001b[0m\u001b[0;34m\u001b[0m\u001b[0m\n\u001b[0;32m--> 526\u001b[0;31m             \u001b[0melements\u001b[0m \u001b[0;34m=\u001b[0m \u001b[0mfunc\u001b[0m\u001b[0;34m(\u001b[0m\u001b[0;34m*\u001b[0m\u001b[0margs\u001b[0m\u001b[0;34m,\u001b[0m \u001b[0;34m**\u001b[0m\u001b[0mkwargs\u001b[0m\u001b[0;34m)\u001b[0m\u001b[0;34m\u001b[0m\u001b[0;34m\u001b[0m\u001b[0m\n\u001b[0m\u001b[1;32m    527\u001b[0m             \u001b[0msig\u001b[0m \u001b[0;34m=\u001b[0m \u001b[0minspect\u001b[0m\u001b[0;34m.\u001b[0m\u001b[0msignature\u001b[0m\u001b[0;34m(\u001b[0m\u001b[0mfunc\u001b[0m\u001b[0;34m)\u001b[0m\u001b[0;34m\u001b[0m\u001b[0;34m\u001b[0m\u001b[0m\n\u001b[1;32m    528\u001b[0m             \u001b[0mparams\u001b[0m\u001b[0;34m:\u001b[0m \u001b[0mDict\u001b[0m\u001b[0;34m[\u001b[0m\u001b[0mstr\u001b[0m\u001b[0;34m,\u001b[0m \u001b[0mAny\u001b[0m\u001b[0;34m]\u001b[0m \u001b[0;34m=\u001b[0m \u001b[0mdict\u001b[0m\u001b[0;34m(\u001b[0m\u001b[0;34m**\u001b[0m\u001b[0mdict\u001b[0m\u001b[0;34m(\u001b[0m\u001b[0mzip\u001b[0m\u001b[0;34m(\u001b[0m\u001b[0msig\u001b[0m\u001b[0;34m.\u001b[0m\u001b[0mparameters\u001b[0m\u001b[0;34m,\u001b[0m \u001b[0margs\u001b[0m\u001b[0;34m)\u001b[0m\u001b[0;34m)\u001b[0m\u001b[0;34m,\u001b[0m \u001b[0;34m**\u001b[0m\u001b[0mkwargs\u001b[0m\u001b[0;34m)\u001b[0m\u001b[0;34m\u001b[0m\u001b[0;34m\u001b[0m\u001b[0m\n",
            "\u001b[0;32m/usr/local/lib/python3.10/dist-packages/unstructured/file_utils/filetype.py\u001b[0m in \u001b[0;36mwrapper\u001b[0;34m(*args, **kwargs)\u001b[0m\n\u001b[1;32m    620\u001b[0m         \u001b[0;34m@\u001b[0m\u001b[0mfunctools\u001b[0m\u001b[0;34m.\u001b[0m\u001b[0mwraps\u001b[0m\u001b[0;34m(\u001b[0m\u001b[0mfunc\u001b[0m\u001b[0;34m)\u001b[0m\u001b[0;34m\u001b[0m\u001b[0;34m\u001b[0m\u001b[0m\n\u001b[1;32m    621\u001b[0m         \u001b[0;32mdef\u001b[0m \u001b[0mwrapper\u001b[0m\u001b[0;34m(\u001b[0m\u001b[0;34m*\u001b[0m\u001b[0margs\u001b[0m\u001b[0;34m:\u001b[0m \u001b[0m_P\u001b[0m\u001b[0;34m.\u001b[0m\u001b[0margs\u001b[0m\u001b[0;34m,\u001b[0m \u001b[0;34m**\u001b[0m\u001b[0mkwargs\u001b[0m\u001b[0;34m:\u001b[0m \u001b[0m_P\u001b[0m\u001b[0;34m.\u001b[0m\u001b[0mkwargs\u001b[0m\u001b[0;34m)\u001b[0m \u001b[0;34m->\u001b[0m \u001b[0mList\u001b[0m\u001b[0;34m[\u001b[0m\u001b[0mElement\u001b[0m\u001b[0;34m]\u001b[0m\u001b[0;34m:\u001b[0m\u001b[0;34m\u001b[0m\u001b[0;34m\u001b[0m\u001b[0m\n\u001b[0;32m--> 622\u001b[0;31m             \u001b[0melements\u001b[0m \u001b[0;34m=\u001b[0m \u001b[0mfunc\u001b[0m\u001b[0;34m(\u001b[0m\u001b[0;34m*\u001b[0m\u001b[0margs\u001b[0m\u001b[0;34m,\u001b[0m \u001b[0;34m**\u001b[0m\u001b[0mkwargs\u001b[0m\u001b[0;34m)\u001b[0m\u001b[0;34m\u001b[0m\u001b[0;34m\u001b[0m\u001b[0m\n\u001b[0m\u001b[1;32m    623\u001b[0m             \u001b[0msig\u001b[0m \u001b[0;34m=\u001b[0m \u001b[0minspect\u001b[0m\u001b[0;34m.\u001b[0m\u001b[0msignature\u001b[0m\u001b[0;34m(\u001b[0m\u001b[0mfunc\u001b[0m\u001b[0;34m)\u001b[0m\u001b[0;34m\u001b[0m\u001b[0;34m\u001b[0m\u001b[0m\n\u001b[1;32m    624\u001b[0m             \u001b[0mparams\u001b[0m\u001b[0;34m:\u001b[0m \u001b[0mDict\u001b[0m\u001b[0;34m[\u001b[0m\u001b[0mstr\u001b[0m\u001b[0;34m,\u001b[0m \u001b[0mAny\u001b[0m\u001b[0;34m]\u001b[0m \u001b[0;34m=\u001b[0m \u001b[0mdict\u001b[0m\u001b[0;34m(\u001b[0m\u001b[0;34m**\u001b[0m\u001b[0mdict\u001b[0m\u001b[0;34m(\u001b[0m\u001b[0mzip\u001b[0m\u001b[0;34m(\u001b[0m\u001b[0msig\u001b[0m\u001b[0;34m.\u001b[0m\u001b[0mparameters\u001b[0m\u001b[0;34m,\u001b[0m \u001b[0margs\u001b[0m\u001b[0;34m)\u001b[0m\u001b[0;34m)\u001b[0m\u001b[0;34m,\u001b[0m \u001b[0;34m**\u001b[0m\u001b[0mkwargs\u001b[0m\u001b[0;34m)\u001b[0m\u001b[0;34m\u001b[0m\u001b[0;34m\u001b[0m\u001b[0m\n",
            "\u001b[0;32m/usr/local/lib/python3.10/dist-packages/unstructured/file_utils/filetype.py\u001b[0m in \u001b[0;36mwrapper\u001b[0;34m(*args, **kwargs)\u001b[0m\n\u001b[1;32m    580\u001b[0m     \u001b[0;34m@\u001b[0m\u001b[0mfunctools\u001b[0m\u001b[0;34m.\u001b[0m\u001b[0mwraps\u001b[0m\u001b[0;34m(\u001b[0m\u001b[0mfunc\u001b[0m\u001b[0;34m)\u001b[0m\u001b[0;34m\u001b[0m\u001b[0;34m\u001b[0m\u001b[0m\n\u001b[1;32m    581\u001b[0m     \u001b[0;32mdef\u001b[0m \u001b[0mwrapper\u001b[0m\u001b[0;34m(\u001b[0m\u001b[0;34m*\u001b[0m\u001b[0margs\u001b[0m\u001b[0;34m:\u001b[0m \u001b[0m_P\u001b[0m\u001b[0;34m.\u001b[0m\u001b[0margs\u001b[0m\u001b[0;34m,\u001b[0m \u001b[0;34m**\u001b[0m\u001b[0mkwargs\u001b[0m\u001b[0;34m:\u001b[0m \u001b[0m_P\u001b[0m\u001b[0;34m.\u001b[0m\u001b[0mkwargs\u001b[0m\u001b[0;34m)\u001b[0m \u001b[0;34m->\u001b[0m \u001b[0mList\u001b[0m\u001b[0;34m[\u001b[0m\u001b[0mElement\u001b[0m\u001b[0;34m]\u001b[0m\u001b[0;34m:\u001b[0m\u001b[0;34m\u001b[0m\u001b[0;34m\u001b[0m\u001b[0m\n\u001b[0;32m--> 582\u001b[0;31m         \u001b[0melements\u001b[0m \u001b[0;34m=\u001b[0m \u001b[0mfunc\u001b[0m\u001b[0;34m(\u001b[0m\u001b[0;34m*\u001b[0m\u001b[0margs\u001b[0m\u001b[0;34m,\u001b[0m \u001b[0;34m**\u001b[0m\u001b[0mkwargs\u001b[0m\u001b[0;34m)\u001b[0m\u001b[0;34m\u001b[0m\u001b[0;34m\u001b[0m\u001b[0m\n\u001b[0m\u001b[1;32m    583\u001b[0m         \u001b[0msig\u001b[0m \u001b[0;34m=\u001b[0m \u001b[0minspect\u001b[0m\u001b[0;34m.\u001b[0m\u001b[0msignature\u001b[0m\u001b[0;34m(\u001b[0m\u001b[0mfunc\u001b[0m\u001b[0;34m)\u001b[0m\u001b[0;34m\u001b[0m\u001b[0;34m\u001b[0m\u001b[0m\n\u001b[1;32m    584\u001b[0m         \u001b[0mparams\u001b[0m\u001b[0;34m:\u001b[0m \u001b[0mDict\u001b[0m\u001b[0;34m[\u001b[0m\u001b[0mstr\u001b[0m\u001b[0;34m,\u001b[0m \u001b[0mAny\u001b[0m\u001b[0;34m]\u001b[0m \u001b[0;34m=\u001b[0m \u001b[0mdict\u001b[0m\u001b[0;34m(\u001b[0m\u001b[0;34m**\u001b[0m\u001b[0mdict\u001b[0m\u001b[0;34m(\u001b[0m\u001b[0mzip\u001b[0m\u001b[0;34m(\u001b[0m\u001b[0msig\u001b[0m\u001b[0;34m.\u001b[0m\u001b[0mparameters\u001b[0m\u001b[0;34m,\u001b[0m \u001b[0margs\u001b[0m\u001b[0;34m)\u001b[0m\u001b[0;34m)\u001b[0m\u001b[0;34m,\u001b[0m \u001b[0;34m**\u001b[0m\u001b[0mkwargs\u001b[0m\u001b[0;34m)\u001b[0m\u001b[0;34m\u001b[0m\u001b[0;34m\u001b[0m\u001b[0m\n",
            "\u001b[0;32m/usr/local/lib/python3.10/dist-packages/unstructured/chunking/dispatch.py\u001b[0m in \u001b[0;36mwrapper\u001b[0;34m(*args, **kwargs)\u001b[0m\n\u001b[1;32m     81\u001b[0m \u001b[0;34m\u001b[0m\u001b[0m\n\u001b[1;32m     82\u001b[0m         \u001b[0;31m# -- call the partitioning function to get the elements --\u001b[0m\u001b[0;34m\u001b[0m\u001b[0;34m\u001b[0m\u001b[0m\n\u001b[0;32m---> 83\u001b[0;31m         \u001b[0melements\u001b[0m \u001b[0;34m=\u001b[0m \u001b[0mfunc\u001b[0m\u001b[0;34m(\u001b[0m\u001b[0;34m*\u001b[0m\u001b[0margs\u001b[0m\u001b[0;34m,\u001b[0m \u001b[0;34m**\u001b[0m\u001b[0mkwargs\u001b[0m\u001b[0;34m)\u001b[0m\u001b[0;34m\u001b[0m\u001b[0;34m\u001b[0m\u001b[0m\n\u001b[0m\u001b[1;32m     84\u001b[0m \u001b[0;34m\u001b[0m\u001b[0m\n\u001b[1;32m     85\u001b[0m         \u001b[0;31m# -- look for a chunking-strategy argument --\u001b[0m\u001b[0;34m\u001b[0m\u001b[0;34m\u001b[0m\u001b[0m\n",
            "\u001b[0;32m/usr/local/lib/python3.10/dist-packages/unstructured/partition/html.py\u001b[0m in \u001b[0;36mpartition_html\u001b[0;34m(filename, file, text, url, encoding, include_page_breaks, include_metadata, headers, ssl_verify, parser, source_format, html_assemble_articles, metadata_filename, metadata_last_modified, skip_headers_and_footers, chunking_strategy, languages, detect_language_per_element, detection_origin, **kwargs)\u001b[0m\n\u001b[1;32m     99\u001b[0m     \u001b[0;32mif\u001b[0m \u001b[0mfilename\u001b[0m \u001b[0;32mis\u001b[0m \u001b[0;32mnot\u001b[0m \u001b[0;32mNone\u001b[0m\u001b[0;34m:\u001b[0m\u001b[0;34m\u001b[0m\u001b[0;34m\u001b[0m\u001b[0m\n\u001b[1;32m    100\u001b[0m         \u001b[0mlast_modification_date\u001b[0m \u001b[0;34m=\u001b[0m \u001b[0mget_last_modified_date\u001b[0m\u001b[0;34m(\u001b[0m\u001b[0mfilename\u001b[0m\u001b[0;34m)\u001b[0m\u001b[0;34m\u001b[0m\u001b[0;34m\u001b[0m\u001b[0m\n\u001b[0;32m--> 101\u001b[0;31m         document = HTMLDocument.from_file(\n\u001b[0m\u001b[1;32m    102\u001b[0m             \u001b[0mfilename\u001b[0m\u001b[0;34m,\u001b[0m\u001b[0;34m\u001b[0m\u001b[0;34m\u001b[0m\u001b[0m\n\u001b[1;32m    103\u001b[0m             \u001b[0mparser\u001b[0m\u001b[0;34m=\u001b[0m\u001b[0mparser\u001b[0m\u001b[0;34m,\u001b[0m\u001b[0;34m\u001b[0m\u001b[0;34m\u001b[0m\u001b[0m\n",
            "\u001b[0;32m/usr/local/lib/python3.10/dist-packages/unstructured/documents/xml.py\u001b[0m in \u001b[0;36mfrom_file\u001b[0;34m(cls, filename, parser, stylesheet, encoding, **kwargs)\u001b[0m\n\u001b[1;32m    117\u001b[0m         \u001b[0;34m**\u001b[0m\u001b[0mkwargs\u001b[0m\u001b[0;34m:\u001b[0m \u001b[0mAny\u001b[0m\u001b[0;34m,\u001b[0m\u001b[0;34m\u001b[0m\u001b[0;34m\u001b[0m\u001b[0m\n\u001b[1;32m    118\u001b[0m     ) -> Self:\n\u001b[0;32m--> 119\u001b[0;31m         \u001b[0m_\u001b[0m\u001b[0;34m,\u001b[0m \u001b[0mcontent\u001b[0m \u001b[0;34m=\u001b[0m \u001b[0mread_txt_file\u001b[0m\u001b[0;34m(\u001b[0m\u001b[0mfilename\u001b[0m\u001b[0;34m=\u001b[0m\u001b[0mfilename\u001b[0m\u001b[0;34m,\u001b[0m \u001b[0mencoding\u001b[0m\u001b[0;34m=\u001b[0m\u001b[0mencoding\u001b[0m\u001b[0;34m)\u001b[0m\u001b[0;34m\u001b[0m\u001b[0;34m\u001b[0m\u001b[0m\n\u001b[0m\u001b[1;32m    120\u001b[0m \u001b[0;34m\u001b[0m\u001b[0m\n\u001b[1;32m    121\u001b[0m         \u001b[0;32mreturn\u001b[0m \u001b[0mcls\u001b[0m\u001b[0;34m.\u001b[0m\u001b[0mfrom_string\u001b[0m\u001b[0;34m(\u001b[0m\u001b[0mcontent\u001b[0m\u001b[0;34m,\u001b[0m \u001b[0mparser\u001b[0m\u001b[0;34m=\u001b[0m\u001b[0mparser\u001b[0m\u001b[0;34m,\u001b[0m \u001b[0mstylesheet\u001b[0m\u001b[0;34m=\u001b[0m\u001b[0mstylesheet\u001b[0m\u001b[0;34m,\u001b[0m \u001b[0;34m**\u001b[0m\u001b[0mkwargs\u001b[0m\u001b[0;34m)\u001b[0m\u001b[0;34m\u001b[0m\u001b[0;34m\u001b[0m\u001b[0m\n",
            "\u001b[0;32m/usr/local/lib/python3.10/dist-packages/unstructured/file_utils/encoding.py\u001b[0m in \u001b[0;36mread_txt_file\u001b[0;34m(filename, file, encoding)\u001b[0m\n\u001b[1;32m    121\u001b[0m                     \u001b[0;32mraise\u001b[0m \u001b[0merror\u001b[0m\u001b[0;34m\u001b[0m\u001b[0;34m\u001b[0m\u001b[0m\n\u001b[1;32m    122\u001b[0m         \u001b[0;32melse\u001b[0m\u001b[0;34m:\u001b[0m\u001b[0;34m\u001b[0m\u001b[0;34m\u001b[0m\u001b[0m\n\u001b[0;32m--> 123\u001b[0;31m             \u001b[0mformatted_encoding\u001b[0m\u001b[0;34m,\u001b[0m \u001b[0mfile_text\u001b[0m \u001b[0;34m=\u001b[0m \u001b[0mdetect_file_encoding\u001b[0m\u001b[0;34m(\u001b[0m\u001b[0mfilename\u001b[0m\u001b[0;34m)\u001b[0m\u001b[0;34m\u001b[0m\u001b[0;34m\u001b[0m\u001b[0m\n\u001b[0m\u001b[1;32m    124\u001b[0m     \u001b[0;32melif\u001b[0m \u001b[0mfile\u001b[0m\u001b[0;34m:\u001b[0m\u001b[0;34m\u001b[0m\u001b[0;34m\u001b[0m\u001b[0m\n\u001b[1;32m    125\u001b[0m         \u001b[0;32mif\u001b[0m \u001b[0mencoding\u001b[0m\u001b[0;34m:\u001b[0m\u001b[0;34m\u001b[0m\u001b[0;34m\u001b[0m\u001b[0m\n",
            "\u001b[0;32m/usr/local/lib/python3.10/dist-packages/unstructured/file_utils/encoding.py\u001b[0m in \u001b[0;36mdetect_file_encoding\u001b[0;34m(filename, file)\u001b[0m\n\u001b[1;32m     64\u001b[0m ) -> Tuple[str, str]:\n\u001b[1;32m     65\u001b[0m     \u001b[0;32mif\u001b[0m \u001b[0mfilename\u001b[0m\u001b[0;34m:\u001b[0m\u001b[0;34m\u001b[0m\u001b[0;34m\u001b[0m\u001b[0m\n\u001b[0;32m---> 66\u001b[0;31m         \u001b[0;32mwith\u001b[0m \u001b[0mopen\u001b[0m\u001b[0;34m(\u001b[0m\u001b[0mfilename\u001b[0m\u001b[0;34m,\u001b[0m \u001b[0;34m\"rb\"\u001b[0m\u001b[0;34m)\u001b[0m \u001b[0;32mas\u001b[0m \u001b[0mf\u001b[0m\u001b[0;34m:\u001b[0m\u001b[0;34m\u001b[0m\u001b[0;34m\u001b[0m\u001b[0m\n\u001b[0m\u001b[1;32m     67\u001b[0m             \u001b[0mbyte_data\u001b[0m \u001b[0;34m=\u001b[0m \u001b[0mf\u001b[0m\u001b[0;34m.\u001b[0m\u001b[0mread\u001b[0m\u001b[0;34m(\u001b[0m\u001b[0;34m)\u001b[0m\u001b[0;34m\u001b[0m\u001b[0;34m\u001b[0m\u001b[0m\n\u001b[1;32m     68\u001b[0m     \u001b[0;32melif\u001b[0m \u001b[0mfile\u001b[0m\u001b[0;34m:\u001b[0m\u001b[0;34m\u001b[0m\u001b[0;34m\u001b[0m\u001b[0m\n",
            "\u001b[0;31mFileNotFoundError\u001b[0m: [Errno 2] No such file or directory: 'https://www.finra.org/rules-guidance/rulebooks/finra-rules/3220'"
          ]
        }
      ]
    },
    {
      "cell_type": "code",
      "source": [
        "UnstructuredHTMLLoader(\"https://www.finra.org/rules-guidance/rulebooks/finra-rules/3220\")"
      ],
      "metadata": {
        "colab": {
          "base_uri": "https://localhost:8080/"
        },
        "id": "_J5tUx4HvRqc",
        "outputId": "1fa1d4b7-1eb5-4968-800d-16e9f563cd97"
      },
      "execution_count": null,
      "outputs": [
        {
          "output_type": "execute_result",
          "data": {
            "text/plain": [
              "<langchain_community.document_loaders.html.UnstructuredHTMLLoader at 0x7d0a472bcd60>"
            ]
          },
          "metadata": {},
          "execution_count": 31
        }
      ]
    },
    {
      "cell_type": "markdown",
      "source": [
        "## 1 OCI GenAI Library"
      ],
      "metadata": {
        "id": "L6-iubTtXWNW"
      }
    },
    {
      "cell_type": "code",
      "source": [
        "# preview is not recognized\n",
        "!pip install oci==2.118.1 #+preview.1.1697"
      ],
      "metadata": {
        "id": "Ruit1-HVNGZx",
        "colab": {
          "base_uri": "https://localhost:8080/"
        },
        "outputId": "83437290-2a15-48fa-8d94-6aa88e59f4be"
      },
      "execution_count": null,
      "outputs": [
        {
          "output_type": "stream",
          "name": "stdout",
          "text": [
            "Collecting oci==2.118.1\n",
            "  Downloading oci-2.118.1-py3-none-any.whl (24.9 MB)\n",
            "\u001b[2K     \u001b[90m━━━━━━━━━━━━━━━━━━━━━━━━━━━━━━━━━━━━━━━━\u001b[0m \u001b[32m24.9/24.9 MB\u001b[0m \u001b[31m7.3 MB/s\u001b[0m eta \u001b[36m0:00:00\u001b[0m\n",
            "\u001b[?25hRequirement already satisfied: certifi in /usr/local/lib/python3.10/dist-packages (from oci==2.118.1) (2024.2.2)\n",
            "Collecting cryptography<42.0.0,>=3.2.1 (from oci==2.118.1)\n",
            "  Downloading cryptography-41.0.7-cp37-abi3-manylinux_2_28_x86_64.whl (4.4 MB)\n",
            "\u001b[2K     \u001b[90m━━━━━━━━━━━━━━━━━━━━━━━━━━━━━━━━━━━━━━━━\u001b[0m \u001b[32m4.4/4.4 MB\u001b[0m \u001b[31m29.6 MB/s\u001b[0m eta \u001b[36m0:00:00\u001b[0m\n",
            "\u001b[?25hCollecting pyOpenSSL<24.0.0,>=17.5.0 (from oci==2.118.1)\n",
            "  Downloading pyOpenSSL-23.3.0-py3-none-any.whl (58 kB)\n",
            "\u001b[2K     \u001b[90m━━━━━━━━━━━━━━━━━━━━━━━━━━━━━━━━━━━━━━━━\u001b[0m \u001b[32m58.8/58.8 kB\u001b[0m \u001b[31m8.3 MB/s\u001b[0m eta \u001b[36m0:00:00\u001b[0m\n",
            "\u001b[?25hRequirement already satisfied: python-dateutil<3.0.0,>=2.5.3 in /usr/local/lib/python3.10/dist-packages (from oci==2.118.1) (2.8.2)\n",
            "Requirement already satisfied: pytz>=2016.10 in /usr/local/lib/python3.10/dist-packages (from oci==2.118.1) (2023.4)\n",
            "Collecting circuitbreaker<2.0.0,>=1.3.1 (from oci==2.118.1)\n",
            "  Downloading circuitbreaker-1.4.0.tar.gz (9.7 kB)\n",
            "  Preparing metadata (setup.py) ... \u001b[?25l\u001b[?25hdone\n",
            "Collecting python-pkcs11==0.7.0 (from oci==2.118.1)\n",
            "  Downloading python-pkcs11-0.7.0.tar.gz (106 kB)\n",
            "\u001b[2K     \u001b[90m━━━━━━━━━━━━━━━━━━━━━━━━━━━━━━━━━━━━━━━━\u001b[0m \u001b[32m106.5/106.5 kB\u001b[0m \u001b[31m14.0 MB/s\u001b[0m eta \u001b[36m0:00:00\u001b[0m\n",
            "\u001b[?25h  Preparing metadata (setup.py) ... \u001b[?25l\u001b[?25hdone\n",
            "Collecting asn1crypto (from python-pkcs11==0.7.0->oci==2.118.1)\n",
            "  Downloading asn1crypto-1.5.1-py2.py3-none-any.whl (105 kB)\n",
            "\u001b[2K     \u001b[90m━━━━━━━━━━━━━━━━━━━━━━━━━━━━━━━━━━━━━━━━\u001b[0m \u001b[32m105.0/105.0 kB\u001b[0m \u001b[31m13.3 MB/s\u001b[0m eta \u001b[36m0:00:00\u001b[0m\n",
            "\u001b[?25hCollecting cached-property (from python-pkcs11==0.7.0->oci==2.118.1)\n",
            "  Downloading cached_property-1.5.2-py2.py3-none-any.whl (7.6 kB)\n",
            "Requirement already satisfied: cffi>=1.12 in /usr/local/lib/python3.10/dist-packages (from cryptography<42.0.0,>=3.2.1->oci==2.118.1) (1.16.0)\n",
            "Requirement already satisfied: six>=1.5 in /usr/local/lib/python3.10/dist-packages (from python-dateutil<3.0.0,>=2.5.3->oci==2.118.1) (1.16.0)\n",
            "Requirement already satisfied: pycparser in /usr/local/lib/python3.10/dist-packages (from cffi>=1.12->cryptography<42.0.0,>=3.2.1->oci==2.118.1) (2.21)\n",
            "Building wheels for collected packages: python-pkcs11, circuitbreaker\n",
            "  Building wheel for python-pkcs11 (setup.py) ... \u001b[?25l\u001b[?25hdone\n",
            "  Created wheel for python-pkcs11: filename=python_pkcs11-0.7.0-cp310-cp310-linux_x86_64.whl size=1309796 sha256=bf2b54a3d707b571d5efa1bdccaa635894f5a7d8d2ee634d07ea583d9ccd3ff6\n",
            "  Stored in directory: /root/.cache/pip/wheels/4d/e8/c8/c7cae4f78cf7a1dee289c476922f407b026aa76ffddcd474a5\n",
            "  Building wheel for circuitbreaker (setup.py) ... \u001b[?25l\u001b[?25hdone\n",
            "  Created wheel for circuitbreaker: filename=circuitbreaker-1.4.0-py3-none-any.whl size=7519 sha256=2be8124b8fb02179ca0769c00da27329f4a463c6764e0d6afd56d4add28b5868\n",
            "  Stored in directory: /root/.cache/pip/wheels/3c/be/64/266b6ce2ef1130de5e419f04805acbb2df5a4ab1b91348f25b\n",
            "Successfully built python-pkcs11 circuitbreaker\n",
            "Installing collected packages: circuitbreaker, cached-property, asn1crypto, python-pkcs11, cryptography, pyOpenSSL, oci\n",
            "  Attempting uninstall: cryptography\n",
            "    Found existing installation: cryptography 42.0.5\n",
            "    Uninstalling cryptography-42.0.5:\n",
            "      Successfully uninstalled cryptography-42.0.5\n",
            "  Attempting uninstall: pyOpenSSL\n",
            "    Found existing installation: pyOpenSSL 24.0.0\n",
            "    Uninstalling pyOpenSSL-24.0.0:\n",
            "      Successfully uninstalled pyOpenSSL-24.0.0\n",
            "Successfully installed asn1crypto-1.5.1 cached-property-1.5.2 circuitbreaker-1.4.0 cryptography-41.0.7 oci-2.118.1 pyOpenSSL-23.3.0 python-pkcs11-0.7.0\n"
          ]
        }
      ]
    },
    {
      "cell_type": "code",
      "source": [
        "client = qdrant_client.QdrantClient(location=\":memory:\")\n",
        "embeddings = SentenceTransformerEmbeddings(model_name=\"all-MiniLM-L6-v2\")\n",
        "llm = OCIGenAI(model_id=\"cohere.command\",service_endpoint=\"https://generativeai.aiservice.us-chicago-1.oci.oraclecloud.com\",compartment_id = \"ocid1.tenancy.oc1..aaaaaaaa5hwtrus75rauufcfvtnjnz3mc4xm2bzibbigva2bw4ne7ezkvzha\",temperature=0.0)\n",
        "system_prompt=\"As a support engineer, your role is to leverage the information in the context provided. Your task is to respond to queries based strictly on the information available in the provided context. Do not create new information under any circumstances. Refrain from repeating yourself. Extract your response solely from the context mentioned above. If the context does not contain relevant information for the question, respond with 'How can I assist you with questions related to the document?\"\n",
        "service_context = ServiceContext.from_defaults(llm=llm, chunk_size=1000, chunk_overlap=100, embed_model=embeddings,system_prompt=system_prompt)\n",
        "vector_store = QdrantVectorStore(client=client, collection_name=\"ansh\")\n",
        "storage_context = StorageContext.from_defaults(vector_store=vector_store)\n",
        "index = VectorStoreIndex.from_documents(documents, storage_context=storage_context, service_context=service_context)\n",
        "query_engine = index.as_query_engine()\n",
        "response = query_engine.query(\"can i use OCI document understanding for files in french ?\")\n",
        "print(response)"
      ],
      "metadata": {
        "colab": {
          "base_uri": "https://localhost:8080/",
          "height": 512
        },
        "id": "xwo2rdUKwcAd",
        "outputId": "067f3a88-378e-440c-910e-2d625b4a2345"
      },
      "execution_count": null,
      "outputs": [
        {
          "output_type": "error",
          "ename": "ValidationError",
          "evalue": "2 validation errors for OCIGenAI\ntemperature\n  extra fields not permitted (type=value_error.extra)\n__root__\n  Could not authenticate with OCI client. Please check if ~/.oci/config exists. If INSTANCE_PRINCIPLE or RESOURCE_PRINCIPLE is used, Please check the specified auth_profile and auth_type are valid. (type=value_error)",
          "traceback": [
            "\u001b[0;31m---------------------------------------------------------------------------\u001b[0m",
            "\u001b[0;31mValidationError\u001b[0m                           Traceback (most recent call last)",
            "\u001b[0;32m<ipython-input-80-8f5f74453004>\u001b[0m in \u001b[0;36m<cell line: 3>\u001b[0;34m()\u001b[0m\n\u001b[1;32m      1\u001b[0m \u001b[0mclient\u001b[0m \u001b[0;34m=\u001b[0m \u001b[0mqdrant_client\u001b[0m\u001b[0;34m.\u001b[0m\u001b[0mQdrantClient\u001b[0m\u001b[0;34m(\u001b[0m\u001b[0mlocation\u001b[0m\u001b[0;34m=\u001b[0m\u001b[0;34m\":memory:\"\u001b[0m\u001b[0;34m)\u001b[0m\u001b[0;34m\u001b[0m\u001b[0;34m\u001b[0m\u001b[0m\n\u001b[1;32m      2\u001b[0m \u001b[0membeddings\u001b[0m \u001b[0;34m=\u001b[0m \u001b[0mSentenceTransformerEmbeddings\u001b[0m\u001b[0;34m(\u001b[0m\u001b[0mmodel_name\u001b[0m\u001b[0;34m=\u001b[0m\u001b[0;34m\"all-MiniLM-L6-v2\"\u001b[0m\u001b[0;34m)\u001b[0m\u001b[0;34m\u001b[0m\u001b[0;34m\u001b[0m\u001b[0m\n\u001b[0;32m----> 3\u001b[0;31m \u001b[0mllm\u001b[0m \u001b[0;34m=\u001b[0m \u001b[0mOCIGenAI\u001b[0m\u001b[0;34m(\u001b[0m\u001b[0mmodel_id\u001b[0m\u001b[0;34m=\u001b[0m\u001b[0;34m\"cohere.command\"\u001b[0m\u001b[0;34m,\u001b[0m\u001b[0mservice_endpoint\u001b[0m\u001b[0;34m=\u001b[0m\u001b[0;34m\"https://generativeai.aiservice.us-chicago-1.oci.oraclecloud.com\"\u001b[0m\u001b[0;34m,\u001b[0m\u001b[0mcompartment_id\u001b[0m \u001b[0;34m=\u001b[0m \u001b[0;34m\"ocid1.tenancy.oc1..aaaaaaaa5hwtrus75rauufcfvtnjnz3mc4xm2bzibbigva2bw4ne7ezkvzha\"\u001b[0m\u001b[0;34m,\u001b[0m\u001b[0mtemperature\u001b[0m\u001b[0;34m=\u001b[0m\u001b[0;36m0.0\u001b[0m\u001b[0;34m)\u001b[0m\u001b[0;34m\u001b[0m\u001b[0;34m\u001b[0m\u001b[0m\n\u001b[0m\u001b[1;32m      4\u001b[0m \u001b[0msystem_prompt\u001b[0m\u001b[0;34m=\u001b[0m\u001b[0;34m\"As a support engineer, your role is to leverage the information in the context provided. Your task is to respond to queries based strictly on the information available in the provided context. Do not create new information under any circumstances. Refrain from repeating yourself. Extract your response solely from the context mentioned above. If the context does not contain relevant information for the question, respond with 'How can I assist you with questions related to the document?\"\u001b[0m\u001b[0;34m\u001b[0m\u001b[0;34m\u001b[0m\u001b[0m\n\u001b[1;32m      5\u001b[0m \u001b[0mservice_context\u001b[0m \u001b[0;34m=\u001b[0m \u001b[0mServiceContext\u001b[0m\u001b[0;34m.\u001b[0m\u001b[0mfrom_defaults\u001b[0m\u001b[0;34m(\u001b[0m\u001b[0mllm\u001b[0m\u001b[0;34m=\u001b[0m\u001b[0mllm\u001b[0m\u001b[0;34m,\u001b[0m \u001b[0mchunk_size\u001b[0m\u001b[0;34m=\u001b[0m\u001b[0;36m1000\u001b[0m\u001b[0;34m,\u001b[0m \u001b[0mchunk_overlap\u001b[0m\u001b[0;34m=\u001b[0m\u001b[0;36m100\u001b[0m\u001b[0;34m,\u001b[0m \u001b[0membed_model\u001b[0m\u001b[0;34m=\u001b[0m\u001b[0membeddings\u001b[0m\u001b[0;34m,\u001b[0m\u001b[0msystem_prompt\u001b[0m\u001b[0;34m=\u001b[0m\u001b[0msystem_prompt\u001b[0m\u001b[0;34m)\u001b[0m\u001b[0;34m\u001b[0m\u001b[0;34m\u001b[0m\u001b[0m\n",
            "\u001b[0;32m/usr/local/lib/python3.10/dist-packages/langchain_core/load/serializable.py\u001b[0m in \u001b[0;36m__init__\u001b[0;34m(self, **kwargs)\u001b[0m\n\u001b[1;32m    118\u001b[0m \u001b[0;34m\u001b[0m\u001b[0m\n\u001b[1;32m    119\u001b[0m     \u001b[0;32mdef\u001b[0m \u001b[0m__init__\u001b[0m\u001b[0;34m(\u001b[0m\u001b[0mself\u001b[0m\u001b[0;34m,\u001b[0m \u001b[0;34m**\u001b[0m\u001b[0mkwargs\u001b[0m\u001b[0;34m:\u001b[0m \u001b[0mAny\u001b[0m\u001b[0;34m)\u001b[0m \u001b[0;34m->\u001b[0m \u001b[0;32mNone\u001b[0m\u001b[0;34m:\u001b[0m\u001b[0;34m\u001b[0m\u001b[0;34m\u001b[0m\u001b[0m\n\u001b[0;32m--> 120\u001b[0;31m         \u001b[0msuper\u001b[0m\u001b[0;34m(\u001b[0m\u001b[0;34m)\u001b[0m\u001b[0;34m.\u001b[0m\u001b[0m__init__\u001b[0m\u001b[0;34m(\u001b[0m\u001b[0;34m**\u001b[0m\u001b[0mkwargs\u001b[0m\u001b[0;34m)\u001b[0m\u001b[0;34m\u001b[0m\u001b[0;34m\u001b[0m\u001b[0m\n\u001b[0m\u001b[1;32m    121\u001b[0m         \u001b[0mself\u001b[0m\u001b[0;34m.\u001b[0m\u001b[0m_lc_kwargs\u001b[0m \u001b[0;34m=\u001b[0m \u001b[0mkwargs\u001b[0m\u001b[0;34m\u001b[0m\u001b[0;34m\u001b[0m\u001b[0m\n\u001b[1;32m    122\u001b[0m \u001b[0;34m\u001b[0m\u001b[0m\n",
            "\u001b[0;32m/usr/local/lib/python3.10/dist-packages/pydantic/v1/main.py\u001b[0m in \u001b[0;36m__init__\u001b[0;34m(__pydantic_self__, **data)\u001b[0m\n\u001b[1;32m    339\u001b[0m         \u001b[0mvalues\u001b[0m\u001b[0;34m,\u001b[0m \u001b[0mfields_set\u001b[0m\u001b[0;34m,\u001b[0m \u001b[0mvalidation_error\u001b[0m \u001b[0;34m=\u001b[0m \u001b[0mvalidate_model\u001b[0m\u001b[0;34m(\u001b[0m\u001b[0m__pydantic_self__\u001b[0m\u001b[0;34m.\u001b[0m\u001b[0m__class__\u001b[0m\u001b[0;34m,\u001b[0m \u001b[0mdata\u001b[0m\u001b[0;34m)\u001b[0m\u001b[0;34m\u001b[0m\u001b[0;34m\u001b[0m\u001b[0m\n\u001b[1;32m    340\u001b[0m         \u001b[0;32mif\u001b[0m \u001b[0mvalidation_error\u001b[0m\u001b[0;34m:\u001b[0m\u001b[0;34m\u001b[0m\u001b[0;34m\u001b[0m\u001b[0m\n\u001b[0;32m--> 341\u001b[0;31m             \u001b[0;32mraise\u001b[0m \u001b[0mvalidation_error\u001b[0m\u001b[0;34m\u001b[0m\u001b[0;34m\u001b[0m\u001b[0m\n\u001b[0m\u001b[1;32m    342\u001b[0m         \u001b[0;32mtry\u001b[0m\u001b[0;34m:\u001b[0m\u001b[0;34m\u001b[0m\u001b[0;34m\u001b[0m\u001b[0m\n\u001b[1;32m    343\u001b[0m             \u001b[0mobject_setattr\u001b[0m\u001b[0;34m(\u001b[0m\u001b[0m__pydantic_self__\u001b[0m\u001b[0;34m,\u001b[0m \u001b[0;34m'__dict__'\u001b[0m\u001b[0;34m,\u001b[0m \u001b[0mvalues\u001b[0m\u001b[0;34m)\u001b[0m\u001b[0;34m\u001b[0m\u001b[0;34m\u001b[0m\u001b[0m\n",
            "\u001b[0;31mValidationError\u001b[0m: 2 validation errors for OCIGenAI\ntemperature\n  extra fields not permitted (type=value_error.extra)\n__root__\n  Could not authenticate with OCI client. Please check if ~/.oci/config exists. If INSTANCE_PRINCIPLE or RESOURCE_PRINCIPLE is used, Please check the specified auth_profile and auth_type are valid. (type=value_error)"
          ]
        }
      ]
    },
    {
      "cell_type": "markdown",
      "source": [
        "More information can be found on [Langchain OCI document](https://python.langchain.com/docs/integrations/llms/oci_generative_ai)."
      ],
      "metadata": {
        "id": "KcyEh8qNaBjw"
      }
    },
    {
      "cell_type": "markdown",
      "source": [
        "## 2 OpenAI Approach"
      ],
      "metadata": {
        "id": "SRGokHufTRp6"
      }
    },
    {
      "cell_type": "code",
      "source": [
        "from google.colab import userdata\n",
        "import os\n",
        "os.environ[\"OPENAI_API_KEY\"] = userdata.get('openai_key')"
      ],
      "metadata": {
        "id": "tTaEMmkb1JRU"
      },
      "execution_count": null,
      "outputs": []
    },
    {
      "cell_type": "code",
      "source": [
        "index = SummaryIndex.from_documents(documents)"
      ],
      "metadata": {
        "id": "pAKFBVg_wrVe"
      },
      "execution_count": null,
      "outputs": []
    },
    {
      "cell_type": "code",
      "source": [
        "query_engine = index.as_query_engine()\n",
        "response = query_engine.query(\"What are Compliance Oversight solutions?\")"
      ],
      "metadata": {
        "id": "R-vzHozkw4DK"
      },
      "execution_count": null,
      "outputs": []
    },
    {
      "cell_type": "code",
      "source": [
        "print(response)"
      ],
      "metadata": {
        "colab": {
          "base_uri": "https://localhost:8080/"
        },
        "id": "FSmcuxoGSqjR",
        "outputId": "6feea56a-a1f0-4262-cf64-b50ee95e014a"
      },
      "execution_count": null,
      "outputs": [
        {
          "output_type": "stream",
          "name": "stdout",
          "text": [
            "Compliance Oversight solutions are essential tools for firms to manage their regulatory obligations effectively. These solutions facilitate communication of obligations, assessment of compliance status, corrective actions, and demonstration of compliance both internally and externally. They offer a structured framework for overseeing regulatory obligations, tracking changes, recording compliance, and identifying areas of concern. By visualizing obligations, integrating risk information, and providing real-time feedback, Compliance Oversight solutions streamline compliance management.\n"
          ]
        }
      ]
    },
    {
      "cell_type": "markdown",
      "source": [
        "## 3 Building a Web Application"
      ],
      "metadata": {
        "id": "alC5s6_M2P36"
      }
    },
    {
      "cell_type": "markdown",
      "source": [
        "### 3.1 Quickstart"
      ],
      "metadata": {
        "id": "HSEJvIAq_WiC"
      }
    },
    {
      "cell_type": "code",
      "source": [
        "!pip install gradio"
      ],
      "metadata": {
        "id": "Tf1-xOmX2N1D",
        "colab": {
          "base_uri": "https://localhost:8080/"
        },
        "outputId": "eb0216b4-5765-41a7-a231-3a80bc121a69"
      },
      "execution_count": null,
      "outputs": [
        {
          "output_type": "stream",
          "name": "stdout",
          "text": [
            "Collecting gradio\n",
            "  Downloading gradio-4.19.2-py3-none-any.whl (16.9 MB)\n",
            "\u001b[2K     \u001b[90m━━━━━━━━━━━━━━━━━━━━━━━━━━━━━━━━━━━━━━━━\u001b[0m \u001b[32m16.9/16.9 MB\u001b[0m \u001b[31m52.8 MB/s\u001b[0m eta \u001b[36m0:00:00\u001b[0m\n",
            "\u001b[?25hCollecting aiofiles<24.0,>=22.0 (from gradio)\n",
            "  Downloading aiofiles-23.2.1-py3-none-any.whl (15 kB)\n",
            "Requirement already satisfied: altair<6.0,>=4.2.0 in /usr/local/lib/python3.10/dist-packages (from gradio) (4.2.2)\n",
            "Requirement already satisfied: fastapi in /usr/local/lib/python3.10/dist-packages (from gradio) (0.110.0)\n",
            "Collecting ffmpy (from gradio)\n",
            "  Downloading ffmpy-0.3.2.tar.gz (5.5 kB)\n",
            "  Preparing metadata (setup.py) ... \u001b[?25l\u001b[?25hdone\n",
            "Collecting gradio-client==0.10.1 (from gradio)\n",
            "  Downloading gradio_client-0.10.1-py3-none-any.whl (307 kB)\n",
            "\u001b[2K     \u001b[90m━━━━━━━━━━━━━━━━━━━━━━━━━━━━━━━━━━━━━━━━\u001b[0m \u001b[32m307.9/307.9 kB\u001b[0m \u001b[31m27.6 MB/s\u001b[0m eta \u001b[36m0:00:00\u001b[0m\n",
            "\u001b[?25hRequirement already satisfied: httpx>=0.24.1 in /usr/local/lib/python3.10/dist-packages (from gradio) (0.27.0)\n",
            "Requirement already satisfied: huggingface-hub>=0.19.3 in /usr/local/lib/python3.10/dist-packages (from gradio) (0.20.3)\n",
            "Requirement already satisfied: importlib-resources<7.0,>=1.3 in /usr/local/lib/python3.10/dist-packages (from gradio) (6.1.2)\n",
            "Requirement already satisfied: jinja2<4.0 in /usr/local/lib/python3.10/dist-packages (from gradio) (3.1.3)\n",
            "Requirement already satisfied: markupsafe~=2.0 in /usr/local/lib/python3.10/dist-packages (from gradio) (2.1.5)\n",
            "Requirement already satisfied: matplotlib~=3.0 in /usr/local/lib/python3.10/dist-packages (from gradio) (3.7.1)\n",
            "Requirement already satisfied: numpy~=1.0 in /usr/local/lib/python3.10/dist-packages (from gradio) (1.25.2)\n",
            "Requirement already satisfied: orjson~=3.0 in /usr/local/lib/python3.10/dist-packages (from gradio) (3.9.15)\n",
            "Requirement already satisfied: packaging in /usr/local/lib/python3.10/dist-packages (from gradio) (23.2)\n",
            "Requirement already satisfied: pandas<3.0,>=1.0 in /usr/local/lib/python3.10/dist-packages (from gradio) (1.5.3)\n",
            "Requirement already satisfied: pillow<11.0,>=8.0 in /usr/local/lib/python3.10/dist-packages (from gradio) (9.4.0)\n",
            "Requirement already satisfied: pydantic>=2.0 in /usr/local/lib/python3.10/dist-packages (from gradio) (2.6.3)\n",
            "Collecting pydub (from gradio)\n",
            "  Downloading pydub-0.25.1-py2.py3-none-any.whl (32 kB)\n",
            "Collecting python-multipart>=0.0.9 (from gradio)\n",
            "  Downloading python_multipart-0.0.9-py3-none-any.whl (22 kB)\n",
            "Requirement already satisfied: pyyaml<7.0,>=5.0 in /usr/local/lib/python3.10/dist-packages (from gradio) (6.0.1)\n",
            "Collecting ruff>=0.2.2 (from gradio)\n",
            "  Downloading ruff-0.3.0-py3-none-manylinux_2_17_x86_64.manylinux2014_x86_64.whl (7.8 MB)\n",
            "\u001b[2K     \u001b[90m━━━━━━━━━━━━━━━━━━━━━━━━━━━━━━━━━━━━━━━━\u001b[0m \u001b[32m7.8/7.8 MB\u001b[0m \u001b[31m57.7 MB/s\u001b[0m eta \u001b[36m0:00:00\u001b[0m\n",
            "\u001b[?25hCollecting semantic-version~=2.0 (from gradio)\n",
            "  Downloading semantic_version-2.10.0-py2.py3-none-any.whl (15 kB)\n",
            "Collecting tomlkit==0.12.0 (from gradio)\n",
            "  Downloading tomlkit-0.12.0-py3-none-any.whl (37 kB)\n",
            "Requirement already satisfied: typer[all]<1.0,>=0.9 in /usr/local/lib/python3.10/dist-packages (from gradio) (0.9.0)\n",
            "Requirement already satisfied: typing-extensions~=4.0 in /usr/local/lib/python3.10/dist-packages (from gradio) (4.10.0)\n",
            "Requirement already satisfied: uvicorn>=0.14.0 in /usr/local/lib/python3.10/dist-packages (from gradio) (0.27.1)\n",
            "Requirement already satisfied: fsspec in /usr/local/lib/python3.10/dist-packages (from gradio-client==0.10.1->gradio) (2023.6.0)\n",
            "Collecting websockets<12.0,>=10.0 (from gradio-client==0.10.1->gradio)\n",
            "  Downloading websockets-11.0.3-cp310-cp310-manylinux_2_5_x86_64.manylinux1_x86_64.manylinux_2_17_x86_64.manylinux2014_x86_64.whl (129 kB)\n",
            "\u001b[2K     \u001b[90m━━━━━━━━━━━━━━━━━━━━━━━━━━━━━━━━━━━━━━━━\u001b[0m \u001b[32m129.9/129.9 kB\u001b[0m \u001b[31m15.7 MB/s\u001b[0m eta \u001b[36m0:00:00\u001b[0m\n",
            "\u001b[?25hRequirement already satisfied: entrypoints in /usr/local/lib/python3.10/dist-packages (from altair<6.0,>=4.2.0->gradio) (0.4)\n",
            "Requirement already satisfied: jsonschema>=3.0 in /usr/local/lib/python3.10/dist-packages (from altair<6.0,>=4.2.0->gradio) (4.19.2)\n",
            "Requirement already satisfied: toolz in /usr/local/lib/python3.10/dist-packages (from altair<6.0,>=4.2.0->gradio) (0.12.1)\n",
            "Requirement already satisfied: anyio in /usr/local/lib/python3.10/dist-packages (from httpx>=0.24.1->gradio) (3.7.1)\n",
            "Requirement already satisfied: certifi in /usr/local/lib/python3.10/dist-packages (from httpx>=0.24.1->gradio) (2024.2.2)\n",
            "Requirement already satisfied: httpcore==1.* in /usr/local/lib/python3.10/dist-packages (from httpx>=0.24.1->gradio) (1.0.4)\n",
            "Requirement already satisfied: idna in /usr/local/lib/python3.10/dist-packages (from httpx>=0.24.1->gradio) (3.6)\n",
            "Requirement already satisfied: sniffio in /usr/local/lib/python3.10/dist-packages (from httpx>=0.24.1->gradio) (1.3.1)\n",
            "Requirement already satisfied: h11<0.15,>=0.13 in /usr/local/lib/python3.10/dist-packages (from httpcore==1.*->httpx>=0.24.1->gradio) (0.14.0)\n",
            "Requirement already satisfied: filelock in /usr/local/lib/python3.10/dist-packages (from huggingface-hub>=0.19.3->gradio) (3.13.1)\n",
            "Requirement already satisfied: requests in /usr/local/lib/python3.10/dist-packages (from huggingface-hub>=0.19.3->gradio) (2.31.0)\n",
            "Requirement already satisfied: tqdm>=4.42.1 in /usr/local/lib/python3.10/dist-packages (from huggingface-hub>=0.19.3->gradio) (4.66.2)\n",
            "Requirement already satisfied: contourpy>=1.0.1 in /usr/local/lib/python3.10/dist-packages (from matplotlib~=3.0->gradio) (1.2.0)\n",
            "Requirement already satisfied: cycler>=0.10 in /usr/local/lib/python3.10/dist-packages (from matplotlib~=3.0->gradio) (0.12.1)\n",
            "Requirement already satisfied: fonttools>=4.22.0 in /usr/local/lib/python3.10/dist-packages (from matplotlib~=3.0->gradio) (4.49.0)\n",
            "Requirement already satisfied: kiwisolver>=1.0.1 in /usr/local/lib/python3.10/dist-packages (from matplotlib~=3.0->gradio) (1.4.5)\n",
            "Requirement already satisfied: pyparsing>=2.3.1 in /usr/local/lib/python3.10/dist-packages (from matplotlib~=3.0->gradio) (3.1.1)\n",
            "Requirement already satisfied: python-dateutil>=2.7 in /usr/local/lib/python3.10/dist-packages (from matplotlib~=3.0->gradio) (2.8.2)\n",
            "Requirement already satisfied: pytz>=2020.1 in /usr/local/lib/python3.10/dist-packages (from pandas<3.0,>=1.0->gradio) (2023.4)\n",
            "Requirement already satisfied: annotated-types>=0.4.0 in /usr/local/lib/python3.10/dist-packages (from pydantic>=2.0->gradio) (0.6.0)\n",
            "Requirement already satisfied: pydantic-core==2.16.3 in /usr/local/lib/python3.10/dist-packages (from pydantic>=2.0->gradio) (2.16.3)\n",
            "Requirement already satisfied: click<9.0.0,>=7.1.1 in /usr/local/lib/python3.10/dist-packages (from typer[all]<1.0,>=0.9->gradio) (8.1.7)\n",
            "Collecting colorama<0.5.0,>=0.4.3 (from typer[all]<1.0,>=0.9->gradio)\n",
            "  Downloading colorama-0.4.6-py2.py3-none-any.whl (25 kB)\n",
            "Collecting shellingham<2.0.0,>=1.3.0 (from typer[all]<1.0,>=0.9->gradio)\n",
            "  Downloading shellingham-1.5.4-py2.py3-none-any.whl (9.8 kB)\n",
            "Requirement already satisfied: rich<14.0.0,>=10.11.0 in /usr/local/lib/python3.10/dist-packages (from typer[all]<1.0,>=0.9->gradio) (13.7.1)\n",
            "Requirement already satisfied: starlette<0.37.0,>=0.36.3 in /usr/local/lib/python3.10/dist-packages (from fastapi->gradio) (0.36.3)\n",
            "Requirement already satisfied: attrs>=22.2.0 in /usr/local/lib/python3.10/dist-packages (from jsonschema>=3.0->altair<6.0,>=4.2.0->gradio) (23.2.0)\n",
            "Requirement already satisfied: jsonschema-specifications>=2023.03.6 in /usr/local/lib/python3.10/dist-packages (from jsonschema>=3.0->altair<6.0,>=4.2.0->gradio) (2023.12.1)\n",
            "Requirement already satisfied: referencing>=0.28.4 in /usr/local/lib/python3.10/dist-packages (from jsonschema>=3.0->altair<6.0,>=4.2.0->gradio) (0.33.0)\n",
            "Requirement already satisfied: rpds-py>=0.7.1 in /usr/local/lib/python3.10/dist-packages (from jsonschema>=3.0->altair<6.0,>=4.2.0->gradio) (0.18.0)\n",
            "Requirement already satisfied: six>=1.5 in /usr/local/lib/python3.10/dist-packages (from python-dateutil>=2.7->matplotlib~=3.0->gradio) (1.16.0)\n",
            "Requirement already satisfied: markdown-it-py>=2.2.0 in /usr/local/lib/python3.10/dist-packages (from rich<14.0.0,>=10.11.0->typer[all]<1.0,>=0.9->gradio) (3.0.0)\n",
            "Requirement already satisfied: pygments<3.0.0,>=2.13.0 in /usr/local/lib/python3.10/dist-packages (from rich<14.0.0,>=10.11.0->typer[all]<1.0,>=0.9->gradio) (2.16.1)\n",
            "Requirement already satisfied: exceptiongroup in /usr/local/lib/python3.10/dist-packages (from anyio->httpx>=0.24.1->gradio) (1.2.0)\n",
            "Requirement already satisfied: charset-normalizer<4,>=2 in /usr/local/lib/python3.10/dist-packages (from requests->huggingface-hub>=0.19.3->gradio) (3.3.2)\n",
            "Requirement already satisfied: urllib3<3,>=1.21.1 in /usr/local/lib/python3.10/dist-packages (from requests->huggingface-hub>=0.19.3->gradio) (2.0.7)\n",
            "Requirement already satisfied: mdurl~=0.1 in /usr/local/lib/python3.10/dist-packages (from markdown-it-py>=2.2.0->rich<14.0.0,>=10.11.0->typer[all]<1.0,>=0.9->gradio) (0.1.2)\n",
            "Building wheels for collected packages: ffmpy\n",
            "  Building wheel for ffmpy (setup.py) ... \u001b[?25l\u001b[?25hdone\n",
            "  Created wheel for ffmpy: filename=ffmpy-0.3.2-py3-none-any.whl size=5584 sha256=bdbbf0e45f2dd1705ad6b30888e03ebbaab82b80461afa95a9decbba1959331c\n",
            "  Stored in directory: /root/.cache/pip/wheels/bd/65/9a/671fc6dcde07d4418df0c592f8df512b26d7a0029c2a23dd81\n",
            "Successfully built ffmpy\n",
            "Installing collected packages: pydub, ffmpy, websockets, tomlkit, shellingham, semantic-version, ruff, python-multipart, colorama, aiofiles, gradio-client, gradio\n",
            "  Attempting uninstall: websockets\n",
            "    Found existing installation: websockets 12.0\n",
            "    Uninstalling websockets-12.0:\n",
            "      Successfully uninstalled websockets-12.0\n",
            "Successfully installed aiofiles-23.2.1 colorama-0.4.6 ffmpy-0.3.2 gradio-4.19.2 gradio-client-0.10.1 pydub-0.25.1 python-multipart-0.0.9 ruff-0.3.0 semantic-version-2.10.0 shellingham-1.5.4 tomlkit-0.12.0 websockets-11.0.3\n"
          ]
        }
      ]
    },
    {
      "cell_type": "code",
      "source": [
        "import gradio as gr\n",
        "\n",
        "def greet(name, intensity):\n",
        "    return \"Hello, \" + name + \"!\" * int(intensity)\n",
        "\n",
        "demo = gr.Interface(\n",
        "    fn=greet,\n",
        "    inputs=[\"text\", \"slider\"],\n",
        "    outputs=[\"text\"],\n",
        ")\n",
        "\n",
        "demo.launch()"
      ],
      "metadata": {
        "id": "AC3LhKbR2gqI"
      },
      "execution_count": null,
      "outputs": []
    },
    {
      "cell_type": "code",
      "source": [
        "import gradio as gr\n",
        "\n",
        "def greet(question):\n",
        "    return query_engine.query(question)\n",
        "\n",
        "demo = gr.Interface(\n",
        "    fn=greet,\n",
        "    inputs=[\"text\"],\n",
        "    outputs=[\"text\"],\n",
        "    thumbnail = 'https://mco.mycomplianceoffice.com/hubfs/_mco2018/Logos/mco-color-logo.svg',\n",
        "\n",
        ")\n",
        "\n",
        "demo.launch()"
      ],
      "metadata": {
        "id": "bQ0qU8IS5YnI",
        "colab": {
          "base_uri": "https://localhost:8080/",
          "height": 645
        },
        "outputId": "2e13b194-3864-4238-fd90-98065bd4080b"
      },
      "execution_count": null,
      "outputs": [
        {
          "output_type": "stream",
          "name": "stdout",
          "text": [
            "Setting queue=True in a Colab notebook requires sharing enabled. Setting `share=True` (you can turn this off by setting `share=False` in `launch()` explicitly).\n",
            "\n",
            "Colab notebook detected. To show errors in colab notebook, set debug=True in launch()\n",
            "Running on public URL: https://058e1d02e9eeb59359.gradio.live\n",
            "\n",
            "This share link expires in 72 hours. For free permanent hosting and GPU upgrades, run `gradio deploy` from Terminal to deploy to Spaces (https://huggingface.co/spaces)\n"
          ]
        },
        {
          "output_type": "display_data",
          "data": {
            "text/plain": [
              "<IPython.core.display.HTML object>"
            ],
            "text/html": [
              "<div><iframe src=\"https://058e1d02e9eeb59359.gradio.live\" width=\"100%\" height=\"500\" allow=\"autoplay; camera; microphone; clipboard-read; clipboard-write;\" frameborder=\"0\" allowfullscreen></iframe></div>"
            ]
          },
          "metadata": {}
        },
        {
          "output_type": "execute_result",
          "data": {
            "text/plain": []
          },
          "metadata": {},
          "execution_count": 14
        }
      ]
    },
    {
      "cell_type": "markdown",
      "source": [
        "### 3.2 Gradio Block Function"
      ],
      "metadata": {
        "id": "pBPwj1-s6d08"
      }
    },
    {
      "cell_type": "code",
      "source": [
        "import gradio as gr\n",
        "import random\n",
        "import time\n",
        "\n",
        "with gr.Blocks() as demo:\n",
        "    chatbot = gr.Chatbot()\n",
        "    msg = gr.Textbox()\n",
        "    clear = gr.Button(\"Clear\")\n",
        "\n",
        "    def user(user_message, history):\n",
        "        return \"\", history + [[user_message, None]]\n",
        "\n",
        "    def bot(history):\n",
        "        bot_message = random.choice([\"How are you?\", \"I love you\", \"I'm very hungry\"])\n",
        "        history[-1][1] = \"\"\n",
        "        for character in bot_message:\n",
        "            history[-1][1] += character\n",
        "            time.sleep(0.05)\n",
        "            yield history\n",
        "\n",
        "    msg.submit(user, [msg, chatbot], [msg, chatbot], queue=False).then(\n",
        "        bot, chatbot, chatbot\n",
        "    )\n",
        "    clear.click(lambda: None, None, chatbot, queue=False)\n",
        "\n",
        "demo.queue()\n",
        "demo.launch()"
      ],
      "metadata": {
        "colab": {
          "base_uri": "https://localhost:8080/",
          "height": 645
        },
        "id": "8q2AO6TV6TaL",
        "outputId": "74476a21-7fda-40bc-fa4a-b57b871a3f1e"
      },
      "execution_count": null,
      "outputs": [
        {
          "output_type": "stream",
          "name": "stdout",
          "text": [
            "Setting queue=True in a Colab notebook requires sharing enabled. Setting `share=True` (you can turn this off by setting `share=False` in `launch()` explicitly).\n",
            "\n",
            "Colab notebook detected. To show errors in colab notebook, set debug=True in launch()\n",
            "Running on public URL: https://48f49a6a168ef776cd.gradio.live\n",
            "\n",
            "This share link expires in 72 hours. For free permanent hosting and GPU upgrades, run `gradio deploy` from Terminal to deploy to Spaces (https://huggingface.co/spaces)\n"
          ]
        },
        {
          "output_type": "display_data",
          "data": {
            "text/plain": [
              "<IPython.core.display.HTML object>"
            ],
            "text/html": [
              "<div><iframe src=\"https://48f49a6a168ef776cd.gradio.live\" width=\"100%\" height=\"500\" allow=\"autoplay; camera; microphone; clipboard-read; clipboard-write;\" frameborder=\"0\" allowfullscreen></iframe></div>"
            ]
          },
          "metadata": {}
        },
        {
          "output_type": "execute_result",
          "data": {
            "text/plain": []
          },
          "metadata": {},
          "execution_count": 15
        }
      ]
    },
    {
      "cell_type": "markdown",
      "source": [
        "### 3.3 Gradio ChatInterface Function"
      ],
      "metadata": {
        "id": "7OySB17k5DAS"
      }
    },
    {
      "cell_type": "markdown",
      "source": [
        "#### 3.3.1 ChatInterface Without an LLM"
      ],
      "metadata": {
        "id": "iiwLDNkuSo8s"
      }
    },
    {
      "cell_type": "code",
      "source": [
        "!pip install gradio"
      ],
      "metadata": {
        "id": "eTgLTiquBHxB"
      },
      "execution_count": null,
      "outputs": []
    },
    {
      "cell_type": "code",
      "source": [
        "import gradio as gr\n",
        "\n",
        "def greet(message, history):\n",
        "    #return query_engine.query(message)\n",
        "    return print(query_engine.query(message))\n",
        "\n",
        "demo = gr.ChatInterface(fn=greet, examples=[\"What are Compliance Oversight solutions?\", \"hola\", \"merhaba\"], title=\"MCO Assitant\")\n",
        "demo.launch()"
      ],
      "metadata": {
        "colab": {
          "base_uri": "https://localhost:8080/",
          "height": 645
        },
        "id": "VTZAYGdI6B7F",
        "outputId": "19869ab1-8428-4ac0-f535-0ea958d36037"
      },
      "execution_count": null,
      "outputs": [
        {
          "output_type": "stream",
          "name": "stdout",
          "text": [
            "Setting queue=True in a Colab notebook requires sharing enabled. Setting `share=True` (you can turn this off by setting `share=False` in `launch()` explicitly).\n",
            "\n",
            "Colab notebook detected. To show errors in colab notebook, set debug=True in launch()\n",
            "Running on public URL: https://b48c4fdf354917fa0f.gradio.live\n",
            "\n",
            "This share link expires in 72 hours. For free permanent hosting and GPU upgrades, run `gradio deploy` from Terminal to deploy to Spaces (https://huggingface.co/spaces)\n"
          ]
        },
        {
          "output_type": "display_data",
          "data": {
            "text/plain": [
              "<IPython.core.display.HTML object>"
            ],
            "text/html": [
              "<div><iframe src=\"https://b48c4fdf354917fa0f.gradio.live\" width=\"100%\" height=\"500\" allow=\"autoplay; camera; microphone; clipboard-read; clipboard-write;\" frameborder=\"0\" allowfullscreen></iframe></div>"
            ]
          },
          "metadata": {}
        },
        {
          "output_type": "execute_result",
          "data": {
            "text/plain": []
          },
          "metadata": {},
          "execution_count": 4
        }
      ]
    },
    {
      "cell_type": "markdown",
      "source": [
        "#### 3.3.2 ChatInterface With an LLM"
      ],
      "metadata": {
        "id": "b_i966aSSyw1"
      }
    },
    {
      "cell_type": "markdown",
      "source": [
        "##### 3.3.2.1 Simple LLM Example"
      ],
      "metadata": {
        "id": "LUXPKNccTwWa"
      }
    },
    {
      "cell_type": "markdown",
      "source": [
        "**Resources: **\n",
        "- https://www.gradio.app/guides/creating-a-chatbot-fast"
      ],
      "metadata": {
        "id": "sQcdQrzWSQZ0"
      }
    },
    {
      "cell_type": "code",
      "source": [
        "from langchain.chat_models import ChatOpenAI\n",
        "from langchain.schema import AIMessage, HumanMessage\n",
        "import openai\n",
        "import gradio as gr\n",
        "\n",
        "llm = ChatOpenAI(temperature=1.0, model='gpt-3.5-turbo-0613')\n",
        "\n",
        "def predict(message, history):\n",
        "    history_langchain_format = []\n",
        "    for human, ai in history:\n",
        "        history_langchain_format.append(HumanMessage(content=human))\n",
        "        history_langchain_format.append(AIMessage(content=ai))\n",
        "    history_langchain_format.append(HumanMessage(content=message))\n",
        "\n",
        "    gpt_response = llm(history_langchain_format)\n",
        "    return gpt_response.content\n",
        "\n",
        "    #query_engine = index.as_query_engine()\n",
        "    #response = query_engine.query(history_langchain_format)\n",
        "    #return response.response\n",
        "\n",
        "\n",
        "gr.ChatInterface(predict).launch()"
      ],
      "metadata": {
        "colab": {
          "base_uri": "https://localhost:8080/",
          "height": 680
        },
        "id": "NY2e36nu9cSd",
        "outputId": "23efce47-efdd-47fd-f420-d1b2d38e67cb"
      },
      "execution_count": null,
      "outputs": [
        {
          "output_type": "stream",
          "name": "stderr",
          "text": [
            "/usr/local/lib/python3.10/dist-packages/langchain_core/_api/deprecation.py:117: LangChainDeprecationWarning: The class `langchain_community.chat_models.openai.ChatOpenAI` was deprecated in langchain-community 0.0.10 and will be removed in 0.2.0. An updated version of the class exists in the langchain-openai package and should be used instead. To use it run `pip install -U langchain-openai` and import as `from langchain_openai import ChatOpenAI`.\n",
            "  warn_deprecated(\n"
          ]
        },
        {
          "output_type": "stream",
          "name": "stdout",
          "text": [
            "Setting queue=True in a Colab notebook requires sharing enabled. Setting `share=True` (you can turn this off by setting `share=False` in `launch()` explicitly).\n",
            "\n",
            "Colab notebook detected. To show errors in colab notebook, set debug=True in launch()\n",
            "Running on public URL: https://92883f26b8d71a62c3.gradio.live\n",
            "\n",
            "This share link expires in 72 hours. For free permanent hosting and GPU upgrades, run `gradio deploy` from Terminal to deploy to Spaces (https://huggingface.co/spaces)\n"
          ]
        },
        {
          "output_type": "display_data",
          "data": {
            "text/plain": [
              "<IPython.core.display.HTML object>"
            ],
            "text/html": [
              "<div><iframe src=\"https://92883f26b8d71a62c3.gradio.live\" width=\"100%\" height=\"500\" allow=\"autoplay; camera; microphone; clipboard-read; clipboard-write;\" frameborder=\"0\" allowfullscreen></iframe></div>"
            ]
          },
          "metadata": {}
        },
        {
          "output_type": "execute_result",
          "data": {
            "text/plain": []
          },
          "metadata": {},
          "execution_count": 37
        }
      ]
    },
    {
      "cell_type": "markdown",
      "source": [
        "###### GPT4"
      ],
      "metadata": {
        "id": "gIjdPb_7RS16"
      }
    },
    {
      "cell_type": "code",
      "source": [
        "from langchain.chat_models import ChatOpenAI\n",
        "from langchain.schema import AIMessage, HumanMessage\n",
        "import openai\n",
        "import gradio as gr\n",
        "\n",
        "llm = ChatOpenAI(temperature=0.5, model='gpt-4-0125-preview')\n",
        "\n",
        "def predict(message, history):\n",
        "    history_langchain_format = []\n",
        "    for human, ai in history:\n",
        "        history_langchain_format.append(HumanMessage(content=human))\n",
        "        history_langchain_format.append(AIMessage(content=ai))\n",
        "    history_langchain_format.append(HumanMessage(content=message))\n",
        "\n",
        "    gpt_response = llm(history_langchain_format)\n",
        "    return gpt_response.content\n",
        "\n",
        "    #query_engine = index.as_query_engine()\n",
        "    #response = query_engine.query(history_langchain_format)\n",
        "    #return response.response\n",
        "\n",
        "\n",
        "gr.ChatInterface(predict).launch()"
      ],
      "metadata": {
        "colab": {
          "base_uri": "https://localhost:8080/",
          "height": 680
        },
        "id": "P4difIRRRCuL",
        "outputId": "ec1bdd76-f8bb-460a-907d-7306313ae0fb"
      },
      "execution_count": null,
      "outputs": [
        {
          "output_type": "stream",
          "name": "stderr",
          "text": [
            "/usr/local/lib/python3.10/dist-packages/langchain_core/_api/deprecation.py:117: LangChainDeprecationWarning: The class `langchain_community.chat_models.openai.ChatOpenAI` was deprecated in langchain-community 0.0.10 and will be removed in 0.2.0. An updated version of the class exists in the langchain-openai package and should be used instead. To use it run `pip install -U langchain-openai` and import as `from langchain_openai import ChatOpenAI`.\n",
            "  warn_deprecated(\n"
          ]
        },
        {
          "output_type": "stream",
          "name": "stdout",
          "text": [
            "Setting queue=True in a Colab notebook requires sharing enabled. Setting `share=True` (you can turn this off by setting `share=False` in `launch()` explicitly).\n",
            "\n",
            "Colab notebook detected. To show errors in colab notebook, set debug=True in launch()\n",
            "Running on public URL: https://ae63ae288dfc66399a.gradio.live\n",
            "\n",
            "This share link expires in 72 hours. For free permanent hosting and GPU upgrades, run `gradio deploy` from Terminal to deploy to Spaces (https://huggingface.co/spaces)\n"
          ]
        },
        {
          "output_type": "display_data",
          "data": {
            "text/plain": [
              "<IPython.core.display.HTML object>"
            ],
            "text/html": [
              "<div><iframe src=\"https://ae63ae288dfc66399a.gradio.live\" width=\"100%\" height=\"500\" allow=\"autoplay; camera; microphone; clipboard-read; clipboard-write;\" frameborder=\"0\" allowfullscreen></iframe></div>"
            ]
          },
          "metadata": {}
        },
        {
          "output_type": "execute_result",
          "data": {
            "text/plain": []
          },
          "metadata": {},
          "execution_count": 35
        }
      ]
    },
    {
      "cell_type": "markdown",
      "source": [
        "##### 3.3.2.2 RAG Example"
      ],
      "metadata": {
        "id": "1sTRqaEsTrHg"
      }
    },
    {
      "cell_type": "markdown",
      "source": [
        "**Resources: **\n",
        "- https://www.gradio.app/guides/creating-a-chatbot-fast\n",
        "- https://python.langchain.com/docs/expression_language/cookbook/retrieval"
      ],
      "metadata": {
        "id": "I_1eWCzPXcFG"
      }
    },
    {
      "cell_type": "code",
      "source": [
        "!pip install gradio"
      ],
      "metadata": {
        "id": "Gc9ztXVpSZmQ"
      },
      "execution_count": null,
      "outputs": []
    },
    {
      "cell_type": "code",
      "source": [
        "from langchain_core.messages import AIMessage, HumanMessage, get_buffer_string\n",
        "from langchain_core.prompts import format_document\n",
        "from langchain_core.runnables import RunnableParallel"
      ],
      "metadata": {
        "id": "OnRd24blNvtx"
      },
      "execution_count": null,
      "outputs": []
    },
    {
      "cell_type": "code",
      "source": [
        "!pip install langchain_openai"
      ],
      "metadata": {
        "id": "WJNXoIpBOPqm"
      },
      "execution_count": null,
      "outputs": []
    },
    {
      "cell_type": "code",
      "source": [
        "!pip install faiss-gpu"
      ],
      "metadata": {
        "id": "FWICQ5ZdOloJ",
        "colab": {
          "base_uri": "https://localhost:8080/"
        },
        "outputId": "a71ca60b-44cf-429e-fc40-34d2878da59d"
      },
      "execution_count": null,
      "outputs": [
        {
          "output_type": "stream",
          "name": "stdout",
          "text": [
            "Collecting faiss-gpu\n",
            "  Downloading faiss_gpu-1.7.2-cp310-cp310-manylinux_2_17_x86_64.manylinux2014_x86_64.whl (85.5 MB)\n",
            "\u001b[2K     \u001b[90m━━━━━━━━━━━━━━━━━━━━━━━━━━━━━━━━━━━━━━━━\u001b[0m \u001b[32m85.5/85.5 MB\u001b[0m \u001b[31m7.4 MB/s\u001b[0m eta \u001b[36m0:00:00\u001b[0m\n",
            "\u001b[?25hInstalling collected packages: faiss-gpu\n",
            "Successfully installed faiss-gpu-1.7.2\n"
          ]
        }
      ]
    },
    {
      "cell_type": "code",
      "source": [
        "from operator import itemgetter\n",
        "\n",
        "from langchain_community.vectorstores import FAISS\n",
        "from langchain_core.output_parsers import StrOutputParser\n",
        "from langchain_core.prompts import ChatPromptTemplate\n",
        "from langchain_core.runnables import RunnableLambda, RunnablePassthrough\n",
        "from langchain_openai import ChatOpenAI, OpenAIEmbeddings"
      ],
      "metadata": {
        "id": "HBV8nChxOMaA"
      },
      "execution_count": null,
      "outputs": []
    },
    {
      "cell_type": "code",
      "source": [
        "from google.colab import userdata\n",
        "import os\n",
        "os.environ[\"OPENAI_API_KEY\"] = userdata.get('openai_key')"
      ],
      "metadata": {
        "id": "cjcH36YnTph6"
      },
      "execution_count": null,
      "outputs": []
    },
    {
      "cell_type": "code",
      "source": [
        "MCO_info = \"MCO provides integrated and comprehensive compliance software for financial services firms worldwide. Our mission is to help these firms effectively manage and mitigate compliance risk on a singular platform. MCO offers a unique combination of employee surveillance, transaction monitoring, and third-party oversight, ensuring that compliance obligations are not only met but exceeded.With clients in over 105 countries and employees around the world, we are committed to delivering affordable, easy-to-use, compliance technology, which we create and deliver with a passion for excellence.\""
      ],
      "metadata": {
        "id": "FONbDx7jV64y"
      },
      "execution_count": null,
      "outputs": []
    },
    {
      "cell_type": "code",
      "source": [
        "vectorstore = FAISS.from_texts(\n",
        "    #[\"harrison worked at kensho\"], embedding=OpenAIEmbeddings()\n",
        "    [MCO_info], embedding=OpenAIEmbeddings()\n",
        ")\n",
        "retriever = vectorstore.as_retriever()\n",
        "\n",
        "#template = \"\"\"Answer the question based only on the following context:\n",
        "#{context}\n",
        "\n",
        "#Question: {question}\n",
        "#\"\"\"\n",
        "#prompt = ChatPromptTemplate.from_template(template)\n",
        "\n",
        "#model = ChatOpenAI()"
      ],
      "metadata": {
        "id": "RtSlmxmAUr3j"
      },
      "execution_count": null,
      "outputs": []
    },
    {
      "cell_type": "code",
      "source": [
        "retriever"
      ],
      "metadata": {
        "colab": {
          "base_uri": "https://localhost:8080/"
        },
        "id": "P8ddhQrldnup",
        "outputId": "08f9df1f-5a0e-4c7f-ebe6-0db64b280759"
      },
      "execution_count": null,
      "outputs": [
        {
          "output_type": "execute_result",
          "data": {
            "text/plain": [
              "VectorStoreRetriever(tags=['FAISS', 'OpenAIEmbeddings'], vectorstore=<langchain_community.vectorstores.faiss.FAISS object at 0x7d0a37e0c520>)"
            ]
          },
          "metadata": {},
          "execution_count": 64
        }
      ]
    },
    {
      "cell_type": "code",
      "source": [
        "rewarding_document_retriever"
      ],
      "metadata": {
        "colab": {
          "base_uri": "https://localhost:8080/"
        },
        "id": "rbQ6EO8ndpYb",
        "outputId": "e614dbda-5d40-4476-8d10-0d37610ef891"
      },
      "execution_count": null,
      "outputs": [
        {
          "output_type": "execute_result",
          "data": {
            "text/plain": [
              "<langchain_community.vectorstores.faiss.FAISS at 0x7d0a41369420>"
            ]
          },
          "metadata": {},
          "execution_count": 65
        }
      ]
    },
    {
      "cell_type": "code",
      "source": [
        "from langchain.prompts.prompt import PromptTemplate\n",
        "\n",
        "_template = \"\"\"Given the following conversation and a follow up question, rephrase the follow up question to be a standalone question, in its original language.\n",
        "\n",
        "Chat History:\n",
        "{chat_history}\n",
        "Follow Up Input: {question}\n",
        "Standalone question:\"\"\"\n",
        "CONDENSE_QUESTION_PROMPT = PromptTemplate.from_template(_template)"
      ],
      "metadata": {
        "id": "GnT-HBoIN32H"
      },
      "execution_count": null,
      "outputs": []
    },
    {
      "cell_type": "code",
      "source": [
        "#template = \"\"\"Answer the question based only on the following context:\n",
        "#{context}\n",
        "\n",
        "#Question: {question}\n",
        "#\"\"\"\n",
        "template = \"\"\"You're a helpful expert who has extensive knowledge on compliances. Answer the question based on the provided context but always respond to the question even if the context doesn't provide the information.\n",
        " :\n",
        "{context}\n",
        "\n",
        "Question: {question}\n",
        "\"\"\"\n",
        "\n",
        "ANSWER_PROMPT = ChatPromptTemplate.from_template(template)"
      ],
      "metadata": {
        "id": "kD8AAcDePqfg"
      },
      "execution_count": null,
      "outputs": []
    },
    {
      "cell_type": "code",
      "source": [
        "DEFAULT_DOCUMENT_PROMPT = PromptTemplate.from_template(template=\"{page_content}\")\n",
        "\n",
        "\n",
        "def _combine_documents(\n",
        "    docs, document_prompt=DEFAULT_DOCUMENT_PROMPT, document_separator=\"\\n\\n\"\n",
        "):\n",
        "    doc_strings = [format_document(doc, document_prompt) for doc in docs]\n",
        "    return document_separator.join(doc_strings)"
      ],
      "metadata": {
        "id": "YpP4R0hJPvVA"
      },
      "execution_count": null,
      "outputs": []
    },
    {
      "cell_type": "code",
      "source": [
        "_inputs = RunnableParallel(\n",
        "    standalone_question=RunnablePassthrough.assign(\n",
        "        chat_history=lambda x: get_buffer_string(x[\"chat_history\"])\n",
        "    )\n",
        "    | CONDENSE_QUESTION_PROMPT\n",
        "    | ChatOpenAI(temperature=0)\n",
        "    | StrOutputParser(),\n",
        ")\n",
        "_context = {\n",
        "    \"context\": itemgetter(\"standalone_question\") | retriever | _combine_documents,\n",
        "    \"question\": lambda x: x[\"standalone_question\"],\n",
        "}\n",
        "conversational_qa_chain = _inputs | _context | ANSWER_PROMPT | ChatOpenAI()"
      ],
      "metadata": {
        "id": "tkbzbVKlPxtg"
      },
      "execution_count": null,
      "outputs": []
    },
    {
      "cell_type": "code",
      "source": [
        "conversational_qa_chain.invoke(\n",
        "    {\n",
        "        #\"question\": \"where did harrison work?\",\n",
        "        \"question\": \"what is MCO?\",\n",
        "        \"chat_history\": [],\n",
        "    }\n",
        ")"
      ],
      "metadata": {
        "colab": {
          "base_uri": "https://localhost:8080/"
        },
        "id": "82hwDxwlP35-",
        "outputId": "bf81ce83-1e6d-4e40-b97c-084431c85674"
      },
      "execution_count": null,
      "outputs": [
        {
          "output_type": "execute_result",
          "data": {
            "text/plain": [
              "AIMessage(content='MCO is a company that provides integrated and comprehensive compliance software for financial services firms worldwide. Their mission is to help these firms effectively manage and mitigate compliance risk on a singular platform.')"
            ]
          },
          "metadata": {},
          "execution_count": 16
        }
      ]
    },
    {
      "cell_type": "code",
      "source": [
        "#from langchain.chat_models import ChatOpenAI\n",
        "from langchain.schema import AIMessage, HumanMessage\n",
        "import openai\n",
        "import gradio as gr\n",
        "\n",
        "#llm = ChatOpenAI(temperature=1.0, model='gpt-3.5-turbo-0613')\n",
        "\n",
        "def predict(message, history):\n",
        "    history_langchain_format = []\n",
        "    for human, ai in history:\n",
        "        history_langchain_format.append(HumanMessage(content=human))\n",
        "        history_langchain_format.append(AIMessage(content=ai))\n",
        "    history_langchain_format.append(HumanMessage(content=message))\n",
        "\n",
        "    gpt_response = conversational_qa_chain.invoke(\n",
        "        {\n",
        "          \"question\": message,\n",
        "          \"chat_history\": history_langchain_format\n",
        "        })\n",
        "    return gpt_response.content\n",
        "\n",
        "\n",
        "gr.ChatInterface(predict,\n",
        "                 title='MCO Assistant',\n",
        "                 description='A generative AI assistant here to help you with your compliance related questions.',\n",
        "                 #textbox=gr.Textbox(placeholder=\"Type your question here...\", min_width=220),\n",
        "                 examples=[\"What does MCO provide?\", \"C'est facile?\", \"Are tomatoes vegetables?\"],\n",
        "                 theme='Soft'\n",
        "                 ).launch()"
      ],
      "metadata": {
        "colab": {
          "base_uri": "https://localhost:8080/",
          "height": 626
        },
        "id": "nRnsPfRyQK3O",
        "outputId": "67acd020-36c9-478e-e751-1939e5c597b6"
      },
      "execution_count": null,
      "outputs": [
        {
          "output_type": "stream",
          "name": "stdout",
          "text": [
            "Setting queue=True in a Colab notebook requires sharing enabled. Setting `share=True` (you can turn this off by setting `share=False` in `launch()` explicitly).\n",
            "\n",
            "Colab notebook detected. To show errors in colab notebook, set debug=True in launch()\n",
            "Running on public URL: https://7dc553b6339aa66da5.gradio.live\n",
            "\n",
            "This share link expires in 72 hours. For free permanent hosting and GPU upgrades, run `gradio deploy` from Terminal to deploy to Spaces (https://huggingface.co/spaces)\n"
          ]
        },
        {
          "output_type": "display_data",
          "data": {
            "text/plain": [
              "<IPython.core.display.HTML object>"
            ],
            "text/html": [
              "<div><iframe src=\"https://7dc553b6339aa66da5.gradio.live\" width=\"100%\" height=\"500\" allow=\"autoplay; camera; microphone; clipboard-read; clipboard-write;\" frameborder=\"0\" allowfullscreen></iframe></div>"
            ]
          },
          "metadata": {}
        },
        {
          "output_type": "execute_result",
          "data": {
            "text/plain": []
          },
          "metadata": {},
          "execution_count": 17
        }
      ]
    },
    {
      "cell_type": "markdown",
      "source": [
        "##### 3.3.2.3 RAG Example with Single MCO HTML\n",
        "\n",
        "**Sources:**\n",
        "\n",
        "- [LangChain HTML Document Loaders](https://python.langchain.com/docs/modules/data_connection/document_loaders/html)\n",
        "- [LangChain RAG](https://python.langchain.com/docs/expression_language/cookbook/retrieval)\n",
        "- [LangChain FAISS](https://python.langchain.com/docs/integrations/vectorstores/faiss)"
      ],
      "metadata": {
        "id": "hvBu-sf9Xzfr"
      }
    },
    {
      "cell_type": "code",
      "source": [
        "!pip install gradio\n",
        "!pip install langchain_openai"
      ],
      "metadata": {
        "id": "rnHJo72TX-QZ"
      },
      "execution_count": null,
      "outputs": []
    },
    {
      "cell_type": "code",
      "source": [
        "from langchain_core.messages import AIMessage, HumanMessage, get_buffer_string\n",
        "from langchain_core.prompts import format_document\n",
        "from langchain_core.runnables import RunnableParallel\n",
        "\n",
        "from operator import itemgetter\n",
        "\n",
        "from langchain_community.vectorstores import FAISS\n",
        "from langchain_core.output_parsers import StrOutputParser\n",
        "from langchain_core.prompts import ChatPromptTemplate\n",
        "from langchain_core.runnables import RunnableLambda, RunnablePassthrough\n",
        "from langchain_openai import ChatOpenAI, OpenAIEmbeddings"
      ],
      "metadata": {
        "id": "v8Q3t5zvYD2o"
      },
      "execution_count": null,
      "outputs": []
    },
    {
      "cell_type": "code",
      "source": [
        "from google.colab import userdata\n",
        "import os\n",
        "os.environ[\"OPENAI_API_KEY\"] = userdata.get('openai_key')"
      ],
      "metadata": {
        "id": "dtEaVk52YPGG"
      },
      "execution_count": null,
      "outputs": []
    },
    {
      "cell_type": "code",
      "source": [
        "# This didn't work due to the different format with RunnableParallel retreiver input type\n",
        "# rewarding_document_retriever = rewarding_document_vector_index.as_retriever()"
      ],
      "metadata": {
        "id": "tD9SNCt9a8ZR"
      },
      "execution_count": null,
      "outputs": []
    },
    {
      "cell_type": "code",
      "source": [
        "from langchain_community.document_loaders import UnstructuredHTMLLoader\n",
        "file1_loc = \"/content/drive/My Drive/Colab Notebooks/3220. Rewarding Employees.html\"\n",
        "file2_loc = \"/content/drive/My Drive/Colab Notebooks/3280. Private Transactions.html\"\n",
        "rewarding_document_loader = UnstructuredHTMLLoader(file1_loc)\n",
        "rewarding_data = rewarding_document_loader.load()\n",
        "rewarding_document_vector_store = FAISS.from_documents(rewarding_data, embedding=OpenAIEmbeddings())\n",
        "\n",
        "rewarding_document_retriever = rewarding_document_vector_store.as_retriever()"
      ],
      "metadata": {
        "id": "4gk2k37RAAKd"
      },
      "execution_count": null,
      "outputs": []
    },
    {
      "cell_type": "code",
      "source": [
        "from langchain.prompts.prompt import PromptTemplate\n",
        "\n",
        "_template = \"\"\"Given the following conversation and a follow up question, rephrase the follow up question to be a standalone question, in its original language.\n",
        "\n",
        "Chat History:\n",
        "{chat_history}\n",
        "Follow Up Input: {question}\n",
        "Standalone question:\"\"\"\n",
        "CONDENSE_QUESTION_PROMPT = PromptTemplate.from_template(_template)"
      ],
      "metadata": {
        "id": "nVU_YnnpbQBj"
      },
      "execution_count": null,
      "outputs": []
    },
    {
      "cell_type": "code",
      "source": [
        "#template = \"\"\"Answer the question based only on the following context:\n",
        "#{context}\n",
        "\n",
        "#Question: {question}\n",
        "#\"\"\"\n",
        "template = \"\"\"You're a helpful expert who has extensive knowledge on compliances. Answer the question based on the provided context but always respond to the question even if the context doesn't provide the information.\n",
        " :\n",
        "{context}\n",
        "\n",
        "Question: {question}\n",
        "\"\"\"\n",
        "\n",
        "ANSWER_PROMPT = ChatPromptTemplate.from_template(template)"
      ],
      "metadata": {
        "id": "WS2GzCezbTlX"
      },
      "execution_count": null,
      "outputs": []
    },
    {
      "cell_type": "code",
      "source": [
        "DEFAULT_DOCUMENT_PROMPT = PromptTemplate.from_template(template=\"{page_content}\")\n",
        "\n",
        "\n",
        "def _combine_documents(\n",
        "    docs, document_prompt=DEFAULT_DOCUMENT_PROMPT, document_separator=\"\\n\\n\"\n",
        "):\n",
        "    doc_strings = [format_document(doc, document_prompt) for doc in docs]\n",
        "    return document_separator.join(doc_strings)"
      ],
      "metadata": {
        "id": "pnbofklubXSp"
      },
      "execution_count": null,
      "outputs": []
    },
    {
      "cell_type": "code",
      "source": [
        "_inputs = RunnableParallel(\n",
        "    standalone_question=RunnablePassthrough.assign(\n",
        "        chat_history=lambda x: get_buffer_string(x[\"chat_history\"])\n",
        "    )\n",
        "    | CONDENSE_QUESTION_PROMPT\n",
        "    | ChatOpenAI(temperature=0)\n",
        "    | StrOutputParser(),\n",
        ")\n",
        "_context = {\n",
        "    \"context\": itemgetter(\"standalone_question\") | rewarding_document_retriever | _combine_documents,\n",
        "    \"question\": lambda x: x[\"standalone_question\"],\n",
        "}\n",
        "conversational_qa_chain = _inputs | _context | ANSWER_PROMPT | ChatOpenAI()"
      ],
      "metadata": {
        "id": "qmby9vXCbcC8"
      },
      "execution_count": null,
      "outputs": []
    },
    {
      "cell_type": "code",
      "source": [
        "conversational_qa_chain.invoke(\n",
        "    {\n",
        "        \"question\": \"Can a member give anything of value more than a hundred dollar?\",\n",
        "        \"chat_history\": [],\n",
        "    }\n",
        ")"
      ],
      "metadata": {
        "colab": {
          "base_uri": "https://localhost:8080/"
        },
        "id": "Lfq98Clrbgww",
        "outputId": "4af303c6-273f-43c7-aa16-4063269f5b6e"
      },
      "execution_count": null,
      "outputs": [
        {
          "output_type": "execute_result",
          "data": {
            "text/plain": [
              "AIMessage(content='Based on Rule 3220, a member or person associated with a member cannot give or permit to be given anything of value, including gratuities, in excess of one hundred dollars per individual per year to any person in relation to the business of the employer of the recipient of the payment or gratuity.')"
            ]
          },
          "metadata": {},
          "execution_count": 68
        }
      ]
    },
    {
      "cell_type": "markdown",
      "source": [
        "##### 3.3.2.4 RAG Example with MCO Link  ✅\n",
        "\n",
        "**Sources:**\n",
        "\n",
        "- [LangChain HTML Document Loaders](https://python.langchain.com/docs/modules/data_connection/document_loaders/html)\n",
        "- [LangChain RAG](https://python.langchain.com/docs/expression_language/cookbook/retrieval)\n",
        "- [LangChain FAISS](https://python.langchain.com/docs/integrations/vectorstores/faiss)\n",
        "- [Retrieval Chain](https://python.langchain.com/docs/get_started/quickstart)"
      ],
      "metadata": {
        "id": "2yfIstF-RKva"
      }
    },
    {
      "cell_type": "code",
      "source": [
        "!pip install beautifulsoup4"
      ],
      "metadata": {
        "colab": {
          "base_uri": "https://localhost:8080/"
        },
        "id": "uCwRFxENhvu1",
        "outputId": "84d094b3-9696-4ee1-ee4d-154c3a9ef5d7"
      },
      "execution_count": null,
      "outputs": [
        {
          "output_type": "stream",
          "name": "stdout",
          "text": [
            "Requirement already satisfied: beautifulsoup4 in /usr/local/lib/python3.10/dist-packages (4.12.3)\n",
            "Requirement already satisfied: soupsieve>1.2 in /usr/local/lib/python3.10/dist-packages (from beautifulsoup4) (2.5)\n"
          ]
        }
      ]
    },
    {
      "cell_type": "code",
      "source": [
        "!pip install faiss-cpu"
      ],
      "metadata": {
        "colab": {
          "base_uri": "https://localhost:8080/",
          "height": 218
        },
        "id": "Jk7cEf4ORrAH",
        "outputId": "0e34d590-1f86-470b-878a-710044856bb2"
      },
      "execution_count": null,
      "outputs": [
        {
          "output_type": "stream",
          "name": "stdout",
          "text": [
            "Collecting faiss-cpu\n",
            "  Downloading faiss_cpu-1.8.0-cp310-cp310-manylinux_2_17_x86_64.manylinux2014_x86_64.whl (27.0 MB)\n",
            "\u001b[2K     \u001b[90m━━━━━━━━━━━━━━━━━━━━━━━━━━━━━━━━━━━━━━━━\u001b[0m \u001b[32m27.0/27.0 MB\u001b[0m \u001b[31m26.6 MB/s\u001b[0m eta \u001b[36m0:00:00\u001b[0m\n",
            "\u001b[?25hRequirement already satisfied: numpy in /usr/local/lib/python3.10/dist-packages (from faiss-cpu) (1.26.4)\n",
            "Installing collected packages: faiss-cpu\n",
            "Successfully installed faiss-cpu-1.8.0\n"
          ]
        },
        {
          "output_type": "display_data",
          "data": {
            "application/vnd.colab-display-data+json": {
              "pip_warning": {
                "packages": [
                  "faiss"
                ]
              },
              "id": "7fbbd48ec18d44899bd9b3ed81edec3e"
            }
          },
          "metadata": {}
        }
      ]
    },
    {
      "cell_type": "code",
      "source": [
        "from langchain_core.messages import AIMessage, HumanMessage, get_buffer_string\n",
        "from langchain_core.prompts import format_document\n",
        "from langchain_core.runnables import RunnableParallel\n",
        "\n",
        "from operator import itemgetter\n",
        "\n",
        "from langchain_community.vectorstores import FAISS\n",
        "from langchain_core.output_parsers import StrOutputParser\n",
        "from langchain_core.prompts import ChatPromptTemplate\n",
        "from langchain_core.runnables import RunnableLambda, RunnablePassthrough\n",
        "from langchain_openai import ChatOpenAI, OpenAIEmbeddings\n",
        "\n",
        "from langchain_text_splitters import RecursiveCharacterTextSplitter"
      ],
      "metadata": {
        "id": "A7FtX1iHSmWM"
      },
      "execution_count": null,
      "outputs": []
    },
    {
      "cell_type": "code",
      "source": [
        "from langchain_community.document_loaders import WebBaseLoader\n",
        "loader = WebBaseLoader(\"https://www.finra.org/rules-guidance/rulebooks/finra-rules/3220#the-rule\")\n",
        "\n",
        "docs = loader.load()"
      ],
      "metadata": {
        "id": "eQnwTP62RgN-"
      },
      "execution_count": null,
      "outputs": []
    },
    {
      "cell_type": "code",
      "source": [
        "from google.colab import userdata\n",
        "import os\n",
        "os.environ[\"OPENAI_API_KEY\"] = userdata.get('openai_key')"
      ],
      "metadata": {
        "id": "HC7MJwhPSF6c"
      },
      "execution_count": null,
      "outputs": []
    },
    {
      "cell_type": "code",
      "source": [
        "embeddings = OpenAIEmbeddings()\n",
        "\n",
        "text_splitter = RecursiveCharacterTextSplitter()\n",
        "documents = text_splitter.split_documents(docs)\n",
        "web_vector = FAISS.from_documents(documents, embeddings)\n",
        "web_retreiver = web_vector.as_retriever()"
      ],
      "metadata": {
        "id": "JVzEeEpySuoW"
      },
      "execution_count": null,
      "outputs": []
    },
    {
      "cell_type": "code",
      "source": [
        "from langchain.prompts.prompt import PromptTemplate\n",
        "\n",
        "_template = \"\"\"Given the following conversation and a follow up question, rephrase the follow up question to be a standalone question, in its original language.\n",
        "\n",
        "Chat History:\n",
        "{chat_history}\n",
        "Follow Up Input: {question}\n",
        "Standalone question:\"\"\"\n",
        "CONDENSE_QUESTION_PROMPT = PromptTemplate.from_template(_template)"
      ],
      "metadata": {
        "id": "afInlyRiSMmQ"
      },
      "execution_count": null,
      "outputs": []
    },
    {
      "cell_type": "code",
      "source": [
        "#template = \"\"\"Answer the question based only on the following context:\n",
        "#{context}\n",
        "\n",
        "#Question: {question}\n",
        "#\"\"\"\n",
        "template = \"\"\"You're a helpful expert who has extensive knowledge on compliances. Answer the question based on the provided context but always respond to the question even if the context doesn't provide the information.\n",
        " :\n",
        "{context}\n",
        "\n",
        "Question: {question}\n",
        "\"\"\"\n",
        "\n",
        "ANSWER_PROMPT = ChatPromptTemplate.from_template(template)"
      ],
      "metadata": {
        "id": "j03lPb_uSTa5"
      },
      "execution_count": null,
      "outputs": []
    },
    {
      "cell_type": "code",
      "source": [
        "DEFAULT_DOCUMENT_PROMPT = PromptTemplate.from_template(template=\"{page_content}\")\n",
        "\n",
        "\n",
        "def _combine_documents(\n",
        "    docs, document_prompt=DEFAULT_DOCUMENT_PROMPT, document_separator=\"\\n\\n\"\n",
        "):\n",
        "    doc_strings = [format_document(doc, document_prompt) for doc in docs]\n",
        "    return document_separator.join(doc_strings)"
      ],
      "metadata": {
        "id": "JamhV_mhSUxa"
      },
      "execution_count": null,
      "outputs": []
    },
    {
      "cell_type": "code",
      "source": [
        "_inputs = RunnableParallel(\n",
        "    standalone_question=RunnablePassthrough.assign(\n",
        "        chat_history=lambda x: get_buffer_string(x[\"chat_history\"])\n",
        "    )\n",
        "    | CONDENSE_QUESTION_PROMPT\n",
        "    | ChatOpenAI(temperature=0)\n",
        "    | StrOutputParser(),\n",
        ")\n",
        "_context = {\n",
        "    \"context\": itemgetter(\"standalone_question\") | web_retreiver | _combine_documents,\n",
        "    \"question\": lambda x: x[\"standalone_question\"],\n",
        "}\n",
        "conversational_qa_chain = _inputs | _context | ANSWER_PROMPT | ChatOpenAI()"
      ],
      "metadata": {
        "id": "BM_V79nvScjX"
      },
      "execution_count": null,
      "outputs": []
    },
    {
      "cell_type": "code",
      "source": [
        "conversational_qa_chain.invoke(\n",
        "    {\n",
        "        \"question\": \"Can a member give anything of value more than a hundred dollar?\",\n",
        "        \"chat_history\": [],\n",
        "    }\n",
        ")"
      ],
      "metadata": {
        "colab": {
          "base_uri": "https://localhost:8080/"
        },
        "id": "mgnkfVj_SdZr",
        "outputId": "dfc89ea5-99db-4268-a00d-0aad99d07961"
      },
      "execution_count": null,
      "outputs": [
        {
          "output_type": "execute_result",
          "data": {
            "text/plain": [
              "AIMessage(content='No, according to FINRA Rule 3220, a member or person associated with a member cannot give or permit to be given anything of value, including gratuities, in excess of one hundred dollars per individual per year to any person in relation to the business of the employer of the recipient of the payment or gratuity.')"
            ]
          },
          "metadata": {},
          "execution_count": 18
        }
      ]
    },
    {
      "cell_type": "code",
      "source": [
        "#from langchain.chat_models import ChatOpenAI\n",
        "from langchain.schema import AIMessage, HumanMessage\n",
        "import openai\n",
        "import gradio as gr\n",
        "\n",
        "#llm = ChatOpenAI(temperature=1.0, model='gpt-3.5-turbo-0613')\n",
        "\n",
        "def predict(message, history):\n",
        "    history_langchain_format = []\n",
        "    for human, ai in history:\n",
        "        history_langchain_format.append(HumanMessage(content=human))\n",
        "        history_langchain_format.append(AIMessage(content=ai))\n",
        "    history_langchain_format.append(HumanMessage(content=message))\n",
        "\n",
        "    gpt_response = conversational_qa_chain.invoke(\n",
        "        {\n",
        "          \"question\": message,\n",
        "          \"chat_history\": history_langchain_format\n",
        "        })\n",
        "    return gpt_response.content\n",
        "\n",
        "\n",
        "gr.ChatInterface(predict,\n",
        "                 title='MCO Assistant',\n",
        "                 description='A generative AI assistant here to help you with your compliance related questions.',\n",
        "                 #textbox=gr.Textbox(placeholder=\"Type your question here...\", min_width=220),\n",
        "                 examples=[\"What does MCO provide?\", \"C'est facile?\", \"Can a member give anything of value more than a hundred dollar?\"],\n",
        "                 theme='Soft'\n",
        "                 ).launch()"
      ],
      "metadata": {
        "colab": {
          "base_uri": "https://localhost:8080/",
          "height": 626
        },
        "id": "Fx0SD2OFoM_4",
        "outputId": "a09098c9-21c1-43d4-e48c-c7d2d8bffa08"
      },
      "execution_count": null,
      "outputs": [
        {
          "output_type": "stream",
          "name": "stdout",
          "text": [
            "Setting queue=True in a Colab notebook requires sharing enabled. Setting `share=True` (you can turn this off by setting `share=False` in `launch()` explicitly).\n",
            "\n",
            "Colab notebook detected. To show errors in colab notebook, set debug=True in launch()\n",
            "Running on public URL: https://f17e31514c62b0210c.gradio.live\n",
            "\n",
            "This share link expires in 72 hours. For free permanent hosting and GPU upgrades, run `gradio deploy` from Terminal to deploy to Spaces (https://huggingface.co/spaces)\n"
          ]
        },
        {
          "output_type": "display_data",
          "data": {
            "text/plain": [
              "<IPython.core.display.HTML object>"
            ],
            "text/html": [
              "<div><iframe src=\"https://f17e31514c62b0210c.gradio.live\" width=\"100%\" height=\"500\" allow=\"autoplay; camera; microphone; clipboard-read; clipboard-write;\" frameborder=\"0\" allowfullscreen></iframe></div>"
            ]
          },
          "metadata": {}
        },
        {
          "output_type": "execute_result",
          "data": {
            "text/plain": []
          },
          "metadata": {},
          "execution_count": 68
        }
      ]
    },
    {
      "cell_type": "markdown",
      "source": [
        "|   |  Description |\n",
        "|---|---|\n",
        "| **Advantages** ✅ | It supports various languages and answers back in the original questions' language   |\n",
        "|   |  It history aware - that means it keeps record of the previous queries  |\n",
        "| **Disadvantages** ❌ |  Sometimes it doesn't changed back the language to its original format |"
      ],
      "metadata": {
        "id": "6yLy6Ccto7EB"
      }
    },
    {
      "cell_type": "markdown",
      "source": [
        "##### 3.3.2.5 RAG Example with MCO Link and Conversation Retrieval Chain\n",
        "**Sources:**\n",
        "- [Conversation Retrieval Chain](https://python.langchain.com/docs/get_started/quickstart#:~:text=of%20documentation.-,Conversation%20Retrieval%20Chain%E2%80%8B,final%20LLM%20chain%20should%20likewise%20take%20the%20whole%20history%20into%20account,-Updating%20Retrieval)"
      ],
      "metadata": {
        "id": "zOfJvg2iUoxu"
      }
    },
    {
      "cell_type": "code",
      "source": [
        "from langchain_core.messages import AIMessage, HumanMessage, get_buffer_string\n",
        "from langchain_core.prompts import format_document\n",
        "from langchain_core.runnables import RunnableParallel\n",
        "\n",
        "from operator import itemgetter\n",
        "\n",
        "from langchain_community.vectorstores import FAISS\n",
        "from langchain_core.output_parsers import StrOutputParser\n",
        "from langchain_core.prompts import ChatPromptTemplate\n",
        "from langchain_core.runnables import RunnableLambda, RunnablePassthrough\n",
        "from langchain_openai import ChatOpenAI, OpenAIEmbeddings\n",
        "\n",
        "from langchain_text_splitters import RecursiveCharacterTextSplitter"
      ],
      "metadata": {
        "id": "t8lXS_lTUnoL"
      },
      "execution_count": null,
      "outputs": []
    },
    {
      "cell_type": "code",
      "source": [
        "from langchain_community.document_loaders import WebBaseLoader\n",
        "loader = WebBaseLoader(\"https://www.finra.org/rules-guidance/rulebooks/finra-rules/3220#the-rule\")\n",
        "\n",
        "docs = loader.load()"
      ],
      "metadata": {
        "id": "oqYDaUtzUlR3"
      },
      "execution_count": null,
      "outputs": []
    },
    {
      "cell_type": "code",
      "source": [
        "from google.colab import userdata\n",
        "import os\n",
        "os.environ[\"OPENAI_API_KEY\"] = userdata.get('openai_key')"
      ],
      "metadata": {
        "id": "dEocUmhJVUw9"
      },
      "execution_count": null,
      "outputs": []
    },
    {
      "cell_type": "code",
      "source": [
        "embeddings = OpenAIEmbeddings()\n",
        "\n",
        "text_splitter = RecursiveCharacterTextSplitter()\n",
        "documents = text_splitter.split_documents(docs)\n",
        "web_vector = FAISS.from_documents(documents, embeddings)\n",
        "web_retreiver = web_vector.as_retriever()"
      ],
      "metadata": {
        "id": "Ua2MwW6gVkn7"
      },
      "execution_count": null,
      "outputs": []
    },
    {
      "cell_type": "code",
      "source": [
        "from langchain.chains import create_history_aware_retriever\n",
        "from langchain_core.prompts import MessagesPlaceholder\n",
        "\n",
        "ChatOpenAI()\n",
        "# First we need a prompt that we can pass into an LLM to generate this search query\n",
        "\n",
        "prompt = ChatPromptTemplate.from_messages([\n",
        "    MessagesPlaceholder(variable_name=\"chat_history\"),\n",
        "    (\"user\", \"{input}\"),\n",
        "    (\"user\", \"Given the above conversation, generate a search query to look up in order to get information relevant to the conversation\")\n",
        "])\n",
        "retriever_chain = create_history_aware_retriever(llm, web_retreiver, prompt)"
      ],
      "metadata": {
        "id": "46qHKeYjk5cI"
      },
      "execution_count": null,
      "outputs": []
    },
    {
      "cell_type": "code",
      "source": [
        "from langchain_core.messages import HumanMessage, AIMessage\n",
        "\n",
        "chat_history = [HumanMessage(content=\"Can LangSmith help test my LLM applications?\"), AIMessage(content=\"Yes!\")]\n",
        "retriever_chain.invoke({\n",
        "    \"chat_history\": chat_history,\n",
        "    \"input\": \"Tell me how\"\n",
        "})"
      ],
      "metadata": {
        "id": "VJ5cTi3OVqvQ"
      },
      "execution_count": null,
      "outputs": []
    },
    {
      "cell_type": "code",
      "source": [
        "chat_history = [HumanMessage(content=\"Can LangSmith help test my LLM applications?\"), AIMessage(content=\"Yes!\")]\n",
        "test = retrieval_chain.invoke({\n",
        "    \"chat_history\": chat_history,\n",
        "    \"input\": \"Tell me how\"\n",
        "})"
      ],
      "metadata": {
        "id": "_q5zOQx7mjRw"
      },
      "execution_count": null,
      "outputs": []
    },
    {
      "cell_type": "code",
      "source": [
        "print(test)"
      ],
      "metadata": {
        "colab": {
          "base_uri": "https://localhost:8080/"
        },
        "id": "R9V_Xa9hmy9n",
        "outputId": "1ba87619-f37c-41ef-ae6c-1f3001272c3b"
      },
      "execution_count": null,
      "outputs": [
        {
          "output_type": "stream",
          "name": "stdout",
          "text": [
            "{'chat_history': [HumanMessage(content='Can LangSmith help test my LLM applications?'), AIMessage(content='Yes!')], 'input': 'Tell me how', 'context': [Document(page_content=\"(b) This Rule shall not apply to contracts of employment with or to compensation for services rendered by persons enumerated in paragraph (a) provided that there is in existence prior to the time of employment or before the services are rendered, a written agreement between the member and the person who is to be employed to perform such services. Such agreement shall include the nature of the proposed employment, the amount of the proposed compensation, and the written consent of such person's employer or principal.\\n\\n\\n  (c) A separate record of all payments or gratuities in any amount known to the member, the employment agreement referred to in paragraph (b) and any employment compensation paid as a result thereof shall be retained by the member for the period specified by SEA Rule 17a-4.\\n\\n\\n      Amended by SR-FINRA-2008-027 eff. Dec. 15, 2008.\\n      Amended by SR-NASD-92-40 eff. Dec. 28, 1992.\\n      Amended by SR-NASD-84-8 eff. June 20, 1984.\\n      Amended eff. Sept. 1, 1969.Selected Notices: 82-44, 93-8, 08-57.\\n    \\n\\n\\n\\n\\n\\n\\n\\n\\n\\n\\n\\n\\n\\n\\nRegulatory Notice 16-29FINRA Requests Comment on Proposed Amendments to Its Gifts, Gratuities and Non-Cash Compensation RulesAugust 08, 2016\\nRegulatory Notice 14-15FINRA Requests Comment on the Effectiveness and Efficiency of its Gifts and Gratuities and Non-Cash Compensation RulesApril 08, 2014\\nRegulatory Notice 08-57FINRA Announces SEC Approval and Effective Date for New Consolidated FINRA RulesOctober 16, 2008\\n\\n\\n\\n\\n\\n\\n\\n\\n\\n\\n\\n\\n\\n\\n\\n\\nNo Results Found\\n\\n\\n\\n\\n\\n\\n\\n\\n\\n\\n\\n\\n\\n\\nNo Results Found\\n\\n\\n\\n\\n\\n\\n\\n\\n\\n\\n\\n\\n\\n\\nNo Results Found\\n\\n\\n\\n\\n\\n\\n\\n\\n\\n\\n\\n\\n\\n\\n\\n\\n\\n\\nBook traversal links for 3220. Influencing or Rewarding Employees of Others\\n\\n\\n‹ 3210. Accounts At Other Broker-Dealers and Financial Institutions\\n\\n\\nUp\\n\\n\\n3230. Telemarketing ›\\n\\n\\n\\n\\n\\n\\n\\n\\n\\n\\n\\n\\n\\n\\n\\n \\n\\n\\n\\n  Disclaimer: The summary and detailed topics are only available for\\xa040\\n    FINRA Rules and have been applied as part of\\n  the\\xa0FINRA Rulebook Search Tool™ (FIRST™)\\xa0prototype.\\xa0FIRST\\n  is for informational purposes only and does not provide\\n  regulatory or compliance advice. You should always review the relevant rule text and the related guidance to\\n  understand your regulatory obligations. Usage or reliance on this tool is not a defense to a failure to comply with\\n  the FINRA rules. Learn\\n    More\\n\\n\\nSummary Topics \\n\\n\\n\\n\\n\\nDetailed Topics\\n\\n\\n\\n\\n\\n\\n\\n\\n\\n\\n\\n\\n\\n\\n\\n\\n\\n\\n\\n\\n\\nFINRA Main Navigation\\n\\n\\nRules & Guidance\\n\\n\\nRegistration, Exams & CE\\n\\n\\nEvents & Training\\n\\n\\nFiling & Reporting\\n\\n\\nCompliance Tools\\n\\n\\nFor Investors\\n\\n\\n\\n\\nFINRA Utility Menu\\n\\n\\nAbout FINRA\\n\\n\\nCareers\\n\\n\\nBrokerCheck\\n\\n\\nData\\n\\n\\nMedia Center\\n\\n\\nFor Firms\\n\\n\\nContact Us\\n\\n\\n\\n\\n\\n\\n\\n\\n\\n\\n\\nARBITRATION & MEDIATION\\nFINRA operates the largest securities dispute resolution forum in the United States\\nLearn More\\n\\n\\n\\n\\n\\n\\n\\n\\n\\n\\n\\nGeneral Inquiries\\n301-590-6500\\n\\nSecurities Helpline for Seniors®\\n844-574-3577 (Mon-Fri 9am-5pm ET)\\n\\nFile a Regulatory Tip\\nTo report on abuse or fraud in the industry\\n\\n\\n\\n\\n\\n\\n\\n\\nFile an Investor Complaint\\nFile a complaint about fraud or unfair practices.\\n\\nSmall Firm Help Line\\n833-26-FINRA (Mon-Fri 9am-6pm ET)\\n\\nOffice of the Ombuds\\nReport a concern about FINRA at 888-700-0028\\n\\n\\n\\n\\n\\n\\n\\n\\nFooter Legal Links\\n\\n\\nSite Map\\n\\n\\nPrivacy Policy\\n\\n\\nTerms of Use\\n\\n\\n\\n\\n\\n\\nFooter Legal 2\\n\\n\\nTranslate\\n\\n\\nContact\\n\\n\\n\\n\\n\\n\\n\\n\\n\\n\\n\\n\\n\\n    \\n\\n\\n\\n\\n\\n\\n\\n© FINRA. All Rights Reserved.\\nFINRA IS A REGISTERED TRADEMARK OF THE FINANCIAL INDUSTRY REGULATORY AUTHORITY, INC.\", metadata={'source': 'https://www.finra.org/rules-guidance/rulebooks/finra-rules/3220#the-rule', 'title': '3220. Influencing or Rewarding Employees of Others | FINRA.org', 'description': '(a) No member or person associated with a member shall, directly or indirectly, give or permit to be given anything of value, including gratuities, in excess of one hundred dollars per individual per year to any person, principal, proprietor, employee, agent or representative of another person where such payment or gratuity is in relation to the business of the employer of the recipient of the payment or gratuity. A gift of any kind is considered a gratuity. (b) This Rule shall not apply to contracts of employment with or to compensation for services rendered by persons enumerated in paragraph', 'language': 'en'}), Document(page_content='3220. Influencing or Rewarding Employees of Others | FINRA.org\\n\\n\\n\\n\\n\\n\\n\\n\\n\\n\\n\\n\\n\\n\\n\\n      Skip to main content\\n    \\n\\n\\n\\n\\n\\n\\n\\n\\n\\n\\n\\n\\n\\n\\n\\n\\n\\n\\n\\n\\n\\n\\n\\n\\n\\n\\n\\n\\n\\n\\n\\n\\n\\n\\n\\n\\n\\n\\n\\n\\n\\n\\n\\n\\n\\n\\n\\n\\n\\n\\n\\n\\n\\n\\n\\n\\n\\n\\n\\n\\n\\n\\n\\n\\nFINRA Utility Menu\\n\\n\\nAbout FINRA\\n\\n\\nCareers\\n\\n\\nBrokerCheck\\n\\n\\nData\\n\\n\\nMedia Center\\n\\n\\nFor Firms\\n\\n\\nContact Us\\n\\n\\n\\n\\n\\n\\n\\n\\n\\n\\n\\nLog In\\xa0FINRA DataFor the PublicFINRA Data provides non-commercial use of data, specifically the ability to save data views and create and manage a Bond Watchlist.LOG INFinProFor Industry ProfessionalsRegistered representatives can fulfill Continuing Education requirements, view their industry CRD record and perform other compliance tasks.LOG INFINRA GatewayFor Member FirmsFirm compliance professionals can access filings and requests, run reports and submit support tickets.LOG INDR PortalFor Case ParticipantsArbitration and mediation case participants and FINRA neutrals can view case information and submit documents through this Dispute Resolution Portal.LOG INNeed Help? | Check Systems StatusLog In to other FINRA systems\\n\\n\\n\\n\\n\\n\\n\\n\\n\\n\\n\\nRules & GuidanceR&G section 1FINRA ManualUpdatesInterpreting the RulesNoticesGuidanceFrequently Asked QuestionsKey TopicsInterpretive QuestionsR&G section 2The Rulemaking ProcessRule FilingsRule Filing Status ReportRequests for CommentsRulebook ConsolidationAdjudication & DecisionsNational Adjudicatory Council (NAC)Office of Hearing Officers (OHO)R&G section 3EnforcementDisciplinary Actions OnlineMonthly Disciplinary ActionsSanction GuidelinesIndividuals Barred by FINRARegistration, Exams & CERegistration section 1RegistrationBroker DealersCapital Acquisition BrokersFunding PortalsIndividualsRegistration section 2Qualification ExamsSecurities Industry Essentials Exam (SIE)Series 7AllContinuing Education (CE)Registration section 3Registration SystemsClassic CRDFinancial Professional Gateway (FinPro)Financial Industry Networking Directory (FIND)Events & TrainingConferences & EventsFINRA Institute at GeorgetownE-Learning CoursesSmall Firm Conference CallWebinarsFiling & ReportingFINRA GatewaySystems StatusEntitlement ProgramMarket Transparency Reporting ToolsRegulatory Filing SystemsData Transfer ToolsE-BillCompliance ToolsCybersecurity ChecklistCompliance CalendarWeekly Update Email ArchivePeer-2-Peer Compliance LibraryCompliance Vendor DirectoryFor InvestorsFor Investors section 1Investor InsightsTools &  CalculatorsPersonal FinanceNet WorthSpendingDebtCredit ScoresEmergency FundsFor Investors section 2InvestingInvesting BasicsInvestment ProductsInvestment AccountsWorking With an Investment ProfessionalProtect Your MoneyInvestor AlertsAsk and CheckAvoid FraudProtect Your IdentityFor Investors section 3For the MilitaryNeed Help?File a ComplaintFINRA Securities Helpline for SeniorsDispute ResolutionAvenues for Recovery of Losses\\n\\n\\n\\n\\n\\n\\n\\n\\n\\n\\n\\n\\n\\n\\n\\n\\n\\n\\n\\n\\n\\n\\n\\n\\n\\n\\n\\n\\n\\n\\n\\n\\n\\n\\nFINRA Rules\\n\\n\\n3000. SUPERVISION AND RESPONSIBILITIES RELATING TO ASSOCIATED PERSONS\\n\\n\\n3200. RESPONSIBILITIES RELATING TO ASSOCIATED PERSONS\\n\\n\\n\\n\\n\\n\\n\\n\\n\\n\\n\\n\\n3220. Influencing or Rewarding Employees of Others\\n\\n\\n\\n\\n\\nThe Rule\\nNotices\\nGuidance\\nNews Releases\\nFAQs\\n\\n\\n\\n\\n\\n\\n\\n  (a) No member or person associated with a member shall, directly or indirectly, give or permit to be given anything of value, including gratuities, in excess of one hundred dollars per individual per year to any person, principal, proprietor, employee, agent or representative of another person where such payment or gratuity is in relation to the business of the employer of the recipient of the payment or gratuity. A gift of any kind is considered a gratuity.', metadata={'source': 'https://www.finra.org/rules-guidance/rulebooks/finra-rules/3220#the-rule', 'title': '3220. Influencing or Rewarding Employees of Others | FINRA.org', 'description': '(a) No member or person associated with a member shall, directly or indirectly, give or permit to be given anything of value, including gratuities, in excess of one hundred dollars per individual per year to any person, principal, proprietor, employee, agent or representative of another person where such payment or gratuity is in relation to the business of the employer of the recipient of the payment or gratuity. A gift of any kind is considered a gratuity. (b) This Rule shall not apply to contracts of employment with or to compensation for services rendered by persons enumerated in paragraph', 'language': 'en'})], 'answer': \"I'm sorry, I don't have information on LangSmith or their services. If you have any other questions or need assistance, feel free to ask.\"}\n"
          ]
        }
      ]
    },
    {
      "cell_type": "code",
      "source": [
        "test['answer']"
      ],
      "metadata": {
        "colab": {
          "base_uri": "https://localhost:8080/",
          "height": 35
        },
        "id": "FUhbb5TZnPTg",
        "outputId": "e4bf827e-4755-4c21-a0ac-86ea39e839f6"
      },
      "execution_count": null,
      "outputs": [
        {
          "output_type": "execute_result",
          "data": {
            "text/plain": [
              "\"I'm sorry, I don't have information on LangSmith or their services. If you have any other questions or need assistance, feel free to ask.\""
            ],
            "application/vnd.google.colaboratory.intrinsic+json": {
              "type": "string"
            }
          },
          "metadata": {},
          "execution_count": 66
        }
      ]
    },
    {
      "cell_type": "code",
      "source": [
        "conversational_qa_chain.invoke(\n",
        "    {\n",
        "        #\"question\": \"where did harrison work?\",\n",
        "        \"question\": \"what is MCO?\",\n",
        "        \"chat_history\": [],\n",
        "    }\n",
        ")"
      ],
      "metadata": {
        "id": "xuK6Hh68cp4S"
      },
      "execution_count": null,
      "outputs": []
    },
    {
      "cell_type": "code",
      "source": [
        "#from langchain.chat_models import ChatOpenAI\n",
        "from langchain.schema import AIMessage, HumanMessage\n",
        "import openai\n",
        "import gradio as gr\n",
        "\n",
        "#llm = ChatOpenAI(temperature=1.0, model='gpt-3.5-turbo-0613')\n",
        "\n",
        "def predict(message, history):\n",
        "    history_langchain_format = []\n",
        "    for human, ai in history:\n",
        "        history_langchain_format.append(HumanMessage(content=human))\n",
        "        history_langchain_format.append(AIMessage(content=ai))\n",
        "    history_langchain_format.append(HumanMessage(content=message))\n",
        "\n",
        "    gpt_response = retriever_chain.invoke(\n",
        "        {\n",
        "          \"chat_history\": history_langchain_format,\n",
        "          \"input\": message,\n",
        "        })\n",
        "    return gpt_response['answer']\n",
        "\n",
        "\n",
        "gr.ChatInterface(predict,\n",
        "                 title='MCO Assistant',\n",
        "                 description='A generative AI assistant here to help you with your compliance related questions.',\n",
        "                 #textbox=gr.Textbox(placeholder=\"Type your question here...\", min_width=220),\n",
        "                 examples=[\"What does MCO provide?\", \"C'est facile?\", \"Are tomatoes vegetables?\"],\n",
        "                 theme='Soft'\n",
        "                 ).launch()"
      ],
      "metadata": {
        "colab": {
          "base_uri": "https://localhost:8080/",
          "height": 626
        },
        "id": "c6mTxiNXaI84",
        "outputId": "dd1da6d4-eed3-4351-f3d9-ae3b8f1fa570"
      },
      "execution_count": null,
      "outputs": [
        {
          "output_type": "stream",
          "name": "stdout",
          "text": [
            "Setting queue=True in a Colab notebook requires sharing enabled. Setting `share=True` (you can turn this off by setting `share=False` in `launch()` explicitly).\n",
            "\n",
            "Colab notebook detected. To show errors in colab notebook, set debug=True in launch()\n",
            "Running on public URL: https://dba65dc5a4148afaef.gradio.live\n",
            "\n",
            "This share link expires in 72 hours. For free permanent hosting and GPU upgrades, run `gradio deploy` from Terminal to deploy to Spaces (https://huggingface.co/spaces)\n"
          ]
        },
        {
          "output_type": "display_data",
          "data": {
            "text/plain": [
              "<IPython.core.display.HTML object>"
            ],
            "text/html": [
              "<div><iframe src=\"https://dba65dc5a4148afaef.gradio.live\" width=\"100%\" height=\"500\" allow=\"autoplay; camera; microphone; clipboard-read; clipboard-write;\" frameborder=\"0\" allowfullscreen></iframe></div>"
            ]
          },
          "metadata": {}
        },
        {
          "output_type": "execute_result",
          "data": {
            "text/plain": []
          },
          "metadata": {},
          "execution_count": 65
        }
      ]
    },
    {
      "cell_type": "markdown",
      "source": [
        "## ∞. Sandbox"
      ],
      "metadata": {
        "id": "-SZD_vl8kDgr"
      }
    },
    {
      "cell_type": "code",
      "source": [
        "from bs4 import BeautifulSoup\n",
        "\n",
        "# Parse HTML and extract text\n",
        "def process_html(html_content):\n",
        "  soup = BeautifulSoup(html_content, 'html.parser')\n",
        "  text = soup.get_text(separator='\\n')\n",
        "  return text\n"
      ],
      "metadata": {
        "id": "D1HY6E3LslrM"
      },
      "execution_count": null,
      "outputs": []
    },
    {
      "cell_type": "code",
      "source": [
        "process_html('https://www.finra.org/rules-guidance/rulebooks/finra-rules/3220')"
      ],
      "metadata": {
        "colab": {
          "base_uri": "https://localhost:8080/",
          "height": 90
        },
        "id": "Me4QUryqs2VJ",
        "outputId": "76d803b7-5139-438a-975e-03ea4ab4f465"
      },
      "execution_count": null,
      "outputs": [
        {
          "output_type": "stream",
          "name": "stderr",
          "text": [
            "<ipython-input-24-6bb12ccefa66>:5: MarkupResemblesLocatorWarning: The input looks more like a URL than markup. You may want to use an HTTP client like requests to get the document behind the URL, and feed that document to Beautiful Soup.\n",
            "  soup = BeautifulSoup(html_content, 'html.parser')\n"
          ]
        },
        {
          "output_type": "execute_result",
          "data": {
            "text/plain": [
              "'https://www.finra.org/rules-guidance/rulebooks/finra-rules/3220'"
            ],
            "application/vnd.google.colaboratory.intrinsic+json": {
              "type": "string"
            }
          },
          "metadata": {},
          "execution_count": 25
        }
      ]
    },
    {
      "cell_type": "code",
      "source": [
        "FAISS.from_documents(rewarding_document_vector_index, embedding=OpenAIEmbeddings())"
      ],
      "metadata": {
        "colab": {
          "base_uri": "https://localhost:8080/",
          "height": 263
        },
        "id": "lyX1A75ms-Fe",
        "outputId": "3ec0f0e8-b549-4287-9a8b-426541ad0627"
      },
      "execution_count": null,
      "outputs": [
        {
          "output_type": "error",
          "ename": "TypeError",
          "evalue": "'VectorStoreIndex' object is not iterable",
          "traceback": [
            "\u001b[0;31m---------------------------------------------------------------------------\u001b[0m",
            "\u001b[0;31mTypeError\u001b[0m                                 Traceback (most recent call last)",
            "\u001b[0;32m<ipython-input-30-63eea9aa2e1e>\u001b[0m in \u001b[0;36m<cell line: 1>\u001b[0;34m()\u001b[0m\n\u001b[0;32m----> 1\u001b[0;31m \u001b[0mFAISS\u001b[0m\u001b[0;34m.\u001b[0m\u001b[0mfrom_documents\u001b[0m\u001b[0;34m(\u001b[0m\u001b[0mrewarding_document_vector_index\u001b[0m\u001b[0;34m,\u001b[0m \u001b[0membedding\u001b[0m\u001b[0;34m=\u001b[0m\u001b[0mOpenAIEmbeddings\u001b[0m\u001b[0;34m(\u001b[0m\u001b[0;34m)\u001b[0m\u001b[0;34m)\u001b[0m\u001b[0;34m\u001b[0m\u001b[0;34m\u001b[0m\u001b[0m\n\u001b[0m",
            "\u001b[0;32m/usr/local/lib/python3.10/dist-packages/langchain_core/vectorstores.py\u001b[0m in \u001b[0;36mfrom_documents\u001b[0;34m(cls, documents, embedding, **kwargs)\u001b[0m\n\u001b[1;32m    524\u001b[0m     ) -> VST:\n\u001b[1;32m    525\u001b[0m         \u001b[0;34m\"\"\"Return VectorStore initialized from documents and embeddings.\"\"\"\u001b[0m\u001b[0;34m\u001b[0m\u001b[0;34m\u001b[0m\u001b[0m\n\u001b[0;32m--> 526\u001b[0;31m         \u001b[0mtexts\u001b[0m \u001b[0;34m=\u001b[0m \u001b[0;34m[\u001b[0m\u001b[0md\u001b[0m\u001b[0;34m.\u001b[0m\u001b[0mpage_content\u001b[0m \u001b[0;32mfor\u001b[0m \u001b[0md\u001b[0m \u001b[0;32min\u001b[0m \u001b[0mdocuments\u001b[0m\u001b[0;34m]\u001b[0m\u001b[0;34m\u001b[0m\u001b[0;34m\u001b[0m\u001b[0m\n\u001b[0m\u001b[1;32m    527\u001b[0m         \u001b[0mmetadatas\u001b[0m \u001b[0;34m=\u001b[0m \u001b[0;34m[\u001b[0m\u001b[0md\u001b[0m\u001b[0;34m.\u001b[0m\u001b[0mmetadata\u001b[0m \u001b[0;32mfor\u001b[0m \u001b[0md\u001b[0m \u001b[0;32min\u001b[0m \u001b[0mdocuments\u001b[0m\u001b[0;34m]\u001b[0m\u001b[0;34m\u001b[0m\u001b[0;34m\u001b[0m\u001b[0m\n\u001b[1;32m    528\u001b[0m         \u001b[0;32mreturn\u001b[0m \u001b[0mcls\u001b[0m\u001b[0;34m.\u001b[0m\u001b[0mfrom_texts\u001b[0m\u001b[0;34m(\u001b[0m\u001b[0mtexts\u001b[0m\u001b[0;34m,\u001b[0m \u001b[0membedding\u001b[0m\u001b[0;34m,\u001b[0m \u001b[0mmetadatas\u001b[0m\u001b[0;34m=\u001b[0m\u001b[0mmetadatas\u001b[0m\u001b[0;34m,\u001b[0m \u001b[0;34m**\u001b[0m\u001b[0mkwargs\u001b[0m\u001b[0;34m)\u001b[0m\u001b[0;34m\u001b[0m\u001b[0;34m\u001b[0m\u001b[0m\n",
            "\u001b[0;31mTypeError\u001b[0m: 'VectorStoreIndex' object is not iterable"
          ]
        }
      ]
    },
    {
      "cell_type": "code",
      "source": [],
      "metadata": {
        "id": "57gU5kk5s2Sn"
      },
      "execution_count": null,
      "outputs": []
    },
    {
      "cell_type": "code",
      "source": [],
      "metadata": {
        "id": "kT2PVRiUs2QL"
      },
      "execution_count": null,
      "outputs": []
    },
    {
      "cell_type": "code",
      "source": [],
      "metadata": {
        "id": "BZ2c21HUs2EN"
      },
      "execution_count": null,
      "outputs": []
    },
    {
      "cell_type": "code",
      "source": [],
      "metadata": {
        "id": "C0t6ITCBslo2"
      },
      "execution_count": null,
      "outputs": []
    },
    {
      "cell_type": "code",
      "source": [],
      "metadata": {
        "id": "jn5bP5q-sldg"
      },
      "execution_count": null,
      "outputs": []
    },
    {
      "cell_type": "code",
      "source": [
        "from langchain_community.document_loaders import TextLoader\n",
        "from langchain_community.vectorstores import FAISS\n",
        "from langchain_openai import OpenAIEmbeddings\n",
        "from langchain_text_splitters import CharacterTextSplitter\n"
      ],
      "metadata": {
        "id": "IkIcuOn-pXtJ"
      },
      "execution_count": null,
      "outputs": []
    },
    {
      "cell_type": "code",
      "source": [
        "loader = TextLoader(rewarding_documents)\n",
        "documents = loader.load()\n",
        "text_splitter = CharacterTextSplitter(chunk_size=1000, chunk_overlap=0)\n",
        "docs = text_splitter.split_documents(documents)\n",
        "embeddings = OpenAIEmbeddings()\n",
        "db = FAISS.from_documents(docs, embeddings)\n",
        "print(db.index.ntotal)"
      ],
      "metadata": {
        "colab": {
          "base_uri": "https://localhost:8080/",
          "height": 547
        },
        "id": "Rn0DUHS7m-fS",
        "outputId": "48bbbe8c-d84b-45c8-8285-a9589a7e24ae"
      },
      "execution_count": null,
      "outputs": [
        {
          "output_type": "error",
          "ename": "RuntimeError",
          "evalue": "Error loading [Document(id_='https://www.finra.org/rules-guidance/rulebooks/finra-rules/3220', embedding=None, metadata={}, excluded_embed_metadata_keys=[], excluded_llm_metadata_keys=[], relationships={}, text='Skip to main content\\n\\n[ ![Home](/themes/custom/finra_bootstrap_sass/images/FINRA_Logo_Web_Rev.png)\\n](/ \"Home\")\\n\\n__\\n\\n[ ![Home](/themes/custom/finra_bootstrap_sass/images/FINRA_Logo_Web_Rev.png)\\n](/ \"Home\")\\n\\n## FINRA Utility Menu\\n\\n  * [About FINRA](/about)\\n  * [Careers](/careers)\\n  * [BrokerCheck](https://brokercheck.finra.org)\\n  * [Data](/finra-data)\\n  * [Media Center](/media-center)\\n  * [For Firms](/member-firm-hub)\\n  * [Contact Us](/contact-finra)\\n\\nLog In\\n\\n[FINRA\\nData](https://ews.finra.org/auth/logon?realm=ews&goto=https%3A//gateway.finra.org/app/data%3FrcpRedirNum%3D1)\\n\\nFor the Public\\n\\nFINRA Data provides non-commercial use of data, specifically the ability to\\nsave data views and create and manage a Bond Watchlist.\\n\\n[LOG\\nIN](https://ews.finra.org/auth/logon?realm=ews&goto=https%3A//gateway.finra.org/app/data%3FrcpRedirNum%3D1)\\n\\n[FinPro](https://finpro.finra.org/)\\n\\nFor Industry Professionals\\n\\nRegistered representatives can fulfill Continuing Education requirements, view\\ntheir industry CRD record and perform other compliance tasks.\\n\\n[LOG IN](https://finpro.finra.org/)\\n\\n[FINRA Gateway](https://gateway.finra.org/)\\n\\nFor Member Firms\\n\\nFirm compliance professionals can access filings and requests, run reports and\\nsubmit support tickets.\\n\\n[LOG IN](https://gateway.finra.org/)\\n\\n[DR Portal](https://drportal.finra.org/)\\n\\nFor Case Participants\\n\\nArbitration and mediation case participants and FINRA neutrals can view case\\ninformation and submit documents through this Dispute Resolution Portal.\\n\\n[LOG IN](https://drportal.finra.org/)\\n\\n[Need Help?](https://tools.finra.org/cc_support/) | [Check Systems\\nStatus](/systems-status/)\\n\\n[Log In to other FINRA systems](/filing-reporting/entitlement/systems)\\n\\n  * [Rules & Guidance](/rules-guidance)\\n    *       1. [R&G section 1](/)\\n        1. [FINRA Manual](/rules-guidance/finra-manual)\\n          1. [Updates](/rules-guidance/rulebooks/updates)\\n        2. [Interpreting the Rules](/rules-guidance/interpreting-rules)\\n          1. [Notices](/rules-guidance/notices)\\n          2. [Guidance](/rules-guidance/guidance)\\n          3. [Frequently Asked Questions](/rules-guidance/guidance/faqs)\\n          4. [Key Topics](/rules-guidance/key-topics)\\n          5. [Interpretive Questions](/rules-guidance/interpretive-questions)\\n\\n      2. [R&G section 2](/)\\n        1. [The Rulemaking Process](/rules-guidance/rulemaking-process)\\n          1. [Rule Filings](/rules-guidance/rule-filings)\\n          2. [Rule Filing Status Report](https://tools.finra.org/rule_filings/)\\n          3. [Requests for Comments](/rules-guidance/requests-for-comments)\\n          4. [Rulebook Consolidation](/rules-guidance/rulebook-consolidation)\\n        2. [Adjudication & Decisions](/rules-guidance/adjudication-decisions)\\n          1. [National Adjudicatory Council (NAC)](/rules-guidance/adjudication-decisions/national-adjudicatory-council-nac)\\n          2. [Office of Hearing Officers (OHO)](/rules-guidance/adjudication-decisions/office-hearing-officers-oho/about)\\n\\n      3. [R&G section 3](/)\\n        1. [Enforcement](/rules-guidance/enforcement)\\n          1. [Disciplinary Actions Online](/rules-guidance/oversight-enforcement/disciplinary-actions-online)\\n          2. [Monthly Disciplinary Actions](/rules-guidance/oversight-enforcement/disciplinary-actions)\\n          3. [Sanction Guidelines](/rules-guidance/oversight-enforcement/sanction-guidelines)\\n          4. [Individuals Barred by FINRA](/rules-guidance/oversight-Oversight%20%26%20Enforcement/individuals-barred-finra)\\n\\n  * [Registration, Exams & CE](/registration-exams-ce)\\n    *       1. [Registration section 1](/)\\n        1. [Registration](/registration-exams-ce/registration)\\n          1. [Broker Dealers](/registration-exams-ce/broker-dealers)\\n          2. [Capital Acquisition Brokers](/registration-exams-ce/capital-acquisition-brokers)\\n          3. [Funding Portals](/registration-exams-ce/funding-portals)\\n          4. [Individuals](/registration-exams-ce/individuals)\\n\\n      2. [Registration section 2](/)\\n        1. [Qualification Exams](/registration-exams-ce/qualification-exams)\\n          1. [Securities Industry Essentials Exam (SIE)](/registration-exams-ce/qualification-exams/securities-industry-essentials-exam-sie)\\n          2. [Series 7](/registration-exams-ce/qualification-exams/series7)\\n          3. [All](/registration-exams-ce/qualification-exams)\\n        2. [Continuing Education (CE)](/registration-exams-ce/continuing-education)\\n\\n      3. [Registration section 3](/)\\n        1. [Registration Systems](/registration-exams-ce/classic-crd)\\n          1. [Classic CRD](/registration-exams-ce/classic-crd)\\n          2. [Financial Professional Gateway (FinPro)](/registration-exams-ce/finpro)\\n          3. [Financial Industry Networking Directory (FIND)](/registration-exams-ce/financial-industry-networking-directory)\\n\\n  * [Events & Training](/events-training)\\n    *       1. [Conferences & Events](/events-training/conferences-events)\\n      2. [FINRA Institute at Georgetown](/events-training/finra-georgetown)\\n      3. [E-Learning Courses](/events-training/e-learning)\\n      4. [Small Firm Conference Call](/compliance-tools/small-firms-information/small-firm-report)\\n      5. [Webinars](/events-training/webinars)\\n  * [Filing & Reporting](/filing-reporting)\\n    *       1. [FINRA Gateway](/filing-reporting/finra-gateway)\\n      2. [Systems Status](/filing-reporting/systems-status)\\n      3. [Entitlement Program](/filing-reporting/finra-entitlement-program)\\n      4. [Market Transparency Reporting Tools](/filing-reporting/market-transparency-reporting)\\n      5. [Regulatory Filing Systems](/filing-reporting/regulatory-filing-systems)\\n      6. [Data Transfer Tools](/filing-reporting/data-transfer-tools)\\n      7. [E-Bill](/filing-reporting/e-bill)\\n  * [Compliance Tools](/compliance-tools)\\n    *       1. [Cybersecurity Checklist](/compliance-tools/cybersecurity-checklist)\\n      2. [Compliance Calendar](/compliance-tools/compliance-calendar)\\n      3. [Weekly Update Email Archive](/compliance-tools/weekly-archive)\\n      4. [Peer-2-Peer Compliance Library](/compliance-tools/peer-2-peer-compliance-library)\\n      5. [Compliance Vendor Directory](/compliance-tools/compliance-vendor-directory)\\n  * [For Investors](/investors)\\n    *       1. [For Investors section 1](/)\\n        1. [Investor Insights](/investors/insights)\\n        2. [Tools & Calculators](/investors/tools-and-calculators)\\n        3. [Personal Finance](/investors/personal-finance)\\n          1. [Net Worth](/investors/personal-finance/know-your-net-worth)\\n          2. [Spending](/investors/personal-finance/control-spending-calculate-cash-flow)\\n          3. [Debt](/investors/personal-finance/manage-your-debt)\\n          4. [Credit Scores](/investors/personal-finance/how-your-credit-score-impacts-your-financial-future)\\n          5. [Emergency Funds](/investors/personal-finance/start-emergency-fund)\\n\\n      2. [For Investors section 2](/)\\n        1. [Investing](/investors/investing)\\n          1. [Investing Basics](/investors/investing/investing-basics)\\n          2. [Investment Products](/investors/investing/investment-products)\\n          3. [Investment Accounts](/investors/investing/investment-accounts)\\n          4. [Working With an Investment Professional](/investors/investing/working-with-investment-professional)\\n        2. [Protect Your Money](/investors/protect-your-money)\\n          1. [Investor Alerts](/investors/alerts)\\n          2. [Ask and Check](/investors/protect-your-money/ask-and-check)\\n          3. [Avoid Fraud](/investors/protect-your-money/avoid-fraud)\\n          4. [Protect Your Identity](/investors/protect-your-money/protect-your-identity)\\n\\n      3. [For Investors section 3](/)\\n        1. [For the Military](/investors/military)\\n        2. [Need Help?](/investors/need-help)\\n          1. [File a Complaint](/investors/need-help/file-a-complaint)\\n          2. [FINRA Securities Helpline for Seniors](/investors/need-help/helpline-seniors)\\n          3. [Dispute Resolution](/arbitration-mediation)\\n          4. [Avenues for Recovery of Losses](/investors/need-help/legitimate-avenues-recovery-investment-losses)\\n\\n__\\n\\n  1. [FINRA Rules](/rules-guidance/rulebooks/finra-rules)\\n  2. [3000\\\\. SUPERVISION AND RESPONSIBILITIES RELATING TO ASSOCIATED PERSONS](/rules-guidance/rulebooks/finra-rules/3000)\\n  3. [3200\\\\. RESPONSIBILITIES RELATING TO ASSOCIATED PERSONS](/rules-guidance/rulebooks/finra-rules/3200)\\n\\n# 3220\\\\. Influencing or Rewarding Employees of Others\\n\\nThe Rule Notices Guidance News Releases FAQs\\n\\n(a) No member or person associated with a member shall, directly or\\nindirectly, give or permit to be given anything of value, including\\ngratuities, in excess of one hundred dollars per individual per year to any\\nperson, principal, proprietor, employee, agent or representative of another\\nperson where such payment or gratuity is in relation to the business of the\\nemployer of the recipient of the payment or gratuity. A gift of any kind is\\nconsidered a gratuity.\\n\\n(b) This Rule shall not apply to contracts of employment with or to\\ncompensation for services rendered by persons enumerated in paragraph (a)\\nprovided that there is in existence prior to the time of employment or before\\nthe services are rendered, a written agreement between the member and the\\nperson who is to be employed to perform such services. Such agreement shall\\ninclude the nature of the proposed employment, the amount of the proposed\\ncompensation, and the written consent of such person\\'s employer or principal.\\n\\n(c) A separate record of all payments or gratuities in any amount known to the\\nmember, the employment agreement referred to in paragraph (b) and any\\nemployment compensation paid as a result thereof shall be retained by the\\nmember for the period specified by SEA Rule 17a-4.\\n\\nAmended by SR-FINRA-2008-027 eff. Dec. 15, 2008.  \\nAmended by SR-NASD-92-40 eff. Dec. 28, 1992.  \\nAmended by SR-NASD-84-8 eff. June 20, 1984.  \\nAmended eff. Sept. 1, 1969.  \\n  \\n **Selected Notices:** 82-44, 93-8, 08-57.  \\n---  \\n  \\n  * **Regulatory Notice 16-29**\\n\\n[FINRA Requests Comment on Proposed Amendments to Its Gifts, Gratuities and\\nNon-Cash Compensation Rules](/rules-guidance/notices/16-29)\\n\\n _August 08, 2016_\\n\\n  * **Regulatory Notice 14-15**\\n\\n[FINRA Requests Comment on the Effectiveness and Efficiency of its Gifts and\\nGratuities and Non-Cash Compensation Rules](/rules-guidance/notices/14-15)\\n\\n _April 08, 2014_\\n\\n  * **Regulatory Notice 08-57**\\n\\n[FINRA Announces SEC Approval and Effective Date for New Consolidated FINRA\\nRules](/rules-guidance/notices/08-57)\\n\\n _October 16, 2008_\\n\\n### No Results Found\\n\\n### No Results Found\\n\\n### No Results Found\\n\\n## Book traversal links for 3220. Influencing or Rewarding Employees of Others\\n\\n  * [**‹** 3210\\\\. Accounts At Other Broker-Dealers and Financial Institutions](/rules-guidance/rulebooks/finra-rules/3210 \"Go to previous page\")\\n  * [Up](/rules-guidance/rulebooks/finra-rules/3200 \"Go to parent page\")\\n  * [3230\\\\. Telemarketing **›**](/rules-guidance/rulebooks/finra-rules/3230 \"Go to next page\")\\n\\nDisclaimer: The summary and detailed topics are only available for [40 FINRA\\nRules](/rules-guidance/rulebooks/finra-rulebook-search-tool-first#first-rules)\\nand have been applied as part of the [FINRA Rulebook Search Tool™\\n(FIRST™)](/rules-guidance/rulebooks/finra-rules) prototype. FIRST is for\\ninformational purposes only and does not provide regulatory or compliance\\nadvice. You should always review the relevant rule text and the related\\nguidance to understand your regulatory obligations. Usage or reliance on this\\ntool is not a defense to a failure to comply with the FINRA rules. [Learn\\nMore](/rules-guidance/rulebooks/finra-rulebook-search-tool-first)\\n\\n## Summary Topics\\n\\n## Detailed Topics\\n\\n[ ![Home](/themes/custom/finra_bootstrap_sass/images/FINRA_Logo_Web_Rev.png)\\n](/ \"Home\")\\n\\n## FINRA Main Navigation\\n\\n  * [Rules & Guidance](/rules-guidance)\\n  * [Registration, Exams & CE](/registration-exams-ce)\\n  * [Events & Training](/events-training)\\n  * [Filing & Reporting](/filing-reporting)\\n  * [Compliance Tools](/compliance-tools)\\n  * [For Investors](/investors)\\n\\n## FINRA Utility Menu\\n\\n  * [About FINRA](/about)\\n  * [Careers](/careers)\\n  * [BrokerCheck](https://brokercheck.finra.org)\\n  * [Data](/finra-data)\\n  * [Media Center](/media-center)\\n  * [For Firms](/member-firm-hub)\\n  * [Contact Us](/contact-finra)\\n\\n[ARBITRATION & MEDIATION](/arbitration-mediation)\\n\\nFINRA operates the largest securities dispute resolution forum in the United\\nStates\\n\\n[Learn More](/arbitration-mediation)\\n\\n[General Inquiries](/contact-finra/)\\n\\n301-590-6500\\n\\n[Securities Helpline for Seniors®](/investors/have-a-problem/helpline-seniors)\\n\\n844-574-3577 (Mon-Fri 9am-5pm ET)\\n\\n[File a Regulatory Tip](/contact-finra/file-tip)\\n\\nTo report on abuse or fraud in the industry\\n\\n[File an Investor Complaint](/investors/need-help/file-a-complaint)\\n\\nFile a complaint about fraud or unfair practices.\\n\\n[Small Firm Help Line](/compliance-tools/finra-small-firm-helpline)\\n\\n833-26-FINRA (Mon-Fri 9am-6pm ET)\\n\\n[Office of the Ombuds](/about/office-ombuds)\\n\\nReport a concern about FINRA at 888-700-0028\\n\\n## Footer Legal Links\\n\\n  * [Site Map](/site-map)\\n  * [Privacy Policy](/privacy-policy)\\n  * [Terms of Use](/terms-of-use)\\n\\n## Footer Legal 2\\n\\n  * [Translate](/translate)\\n  * [Contact](/contact-finra)\\n\\n[](https://www.twitter.com/finra) [](https://www.linkedin.com/company/finra/)\\n[](https://www.facebook.com/FinancialIndustryRegulatoryAuthority/)\\n[](/newsroom/follow-finra)\\n[](https://tools.finra.org/email_subscriptions/?lists=prof)\\n\\n© FINRA. All Rights Reserved.\\n\\nFINRA IS A REGISTERED TRADEMARK OF THE FINANCIAL INDUSTRY REGULATORY\\nAUTHORITY, INC.\\n\\n', start_char_idx=None, end_char_idx=None, text_template='{metadata_str}\\n\\n{content}', metadata_template='{key}: {value}', metadata_seperator='\\n')]",
          "traceback": [
            "\u001b[0;31m---------------------------------------------------------------------------\u001b[0m",
            "\u001b[0;31mTypeError\u001b[0m                                 Traceback (most recent call last)",
            "\u001b[0;32m/usr/local/lib/python3.10/dist-packages/langchain_community/document_loaders/text.py\u001b[0m in \u001b[0;36mlazy_load\u001b[0;34m(self)\u001b[0m\n\u001b[1;32m     40\u001b[0m         \u001b[0;32mtry\u001b[0m\u001b[0;34m:\u001b[0m\u001b[0;34m\u001b[0m\u001b[0;34m\u001b[0m\u001b[0m\n\u001b[0;32m---> 41\u001b[0;31m             \u001b[0;32mwith\u001b[0m \u001b[0mopen\u001b[0m\u001b[0;34m(\u001b[0m\u001b[0mself\u001b[0m\u001b[0;34m.\u001b[0m\u001b[0mfile_path\u001b[0m\u001b[0;34m,\u001b[0m \u001b[0mencoding\u001b[0m\u001b[0;34m=\u001b[0m\u001b[0mself\u001b[0m\u001b[0;34m.\u001b[0m\u001b[0mencoding\u001b[0m\u001b[0;34m)\u001b[0m \u001b[0;32mas\u001b[0m \u001b[0mf\u001b[0m\u001b[0;34m:\u001b[0m\u001b[0;34m\u001b[0m\u001b[0;34m\u001b[0m\u001b[0m\n\u001b[0m\u001b[1;32m     42\u001b[0m                 \u001b[0mtext\u001b[0m \u001b[0;34m=\u001b[0m \u001b[0mf\u001b[0m\u001b[0;34m.\u001b[0m\u001b[0mread\u001b[0m\u001b[0;34m(\u001b[0m\u001b[0;34m)\u001b[0m\u001b[0;34m\u001b[0m\u001b[0;34m\u001b[0m\u001b[0m\n",
            "\u001b[0;31mTypeError\u001b[0m: expected str, bytes or os.PathLike object, not list",
            "\nThe above exception was the direct cause of the following exception:\n",
            "\u001b[0;31mRuntimeError\u001b[0m                              Traceback (most recent call last)",
            "\u001b[0;32m<ipython-input-23-438568e402d8>\u001b[0m in \u001b[0;36m<cell line: 2>\u001b[0;34m()\u001b[0m\n\u001b[1;32m      1\u001b[0m \u001b[0mloader\u001b[0m \u001b[0;34m=\u001b[0m \u001b[0mTextLoader\u001b[0m\u001b[0;34m(\u001b[0m\u001b[0mrewarding_documents\u001b[0m\u001b[0;34m)\u001b[0m\u001b[0;34m\u001b[0m\u001b[0;34m\u001b[0m\u001b[0m\n\u001b[0;32m----> 2\u001b[0;31m \u001b[0mdocuments\u001b[0m \u001b[0;34m=\u001b[0m \u001b[0mloader\u001b[0m\u001b[0;34m.\u001b[0m\u001b[0mload\u001b[0m\u001b[0;34m(\u001b[0m\u001b[0;34m)\u001b[0m\u001b[0;34m\u001b[0m\u001b[0;34m\u001b[0m\u001b[0m\n\u001b[0m\u001b[1;32m      3\u001b[0m \u001b[0mtext_splitter\u001b[0m \u001b[0;34m=\u001b[0m \u001b[0mCharacterTextSplitter\u001b[0m\u001b[0;34m(\u001b[0m\u001b[0mchunk_size\u001b[0m\u001b[0;34m=\u001b[0m\u001b[0;36m1000\u001b[0m\u001b[0;34m,\u001b[0m \u001b[0mchunk_overlap\u001b[0m\u001b[0;34m=\u001b[0m\u001b[0;36m0\u001b[0m\u001b[0;34m)\u001b[0m\u001b[0;34m\u001b[0m\u001b[0;34m\u001b[0m\u001b[0m\n\u001b[1;32m      4\u001b[0m \u001b[0mdocs\u001b[0m \u001b[0;34m=\u001b[0m \u001b[0mtext_splitter\u001b[0m\u001b[0;34m.\u001b[0m\u001b[0msplit_documents\u001b[0m\u001b[0;34m(\u001b[0m\u001b[0mdocuments\u001b[0m\u001b[0;34m)\u001b[0m\u001b[0;34m\u001b[0m\u001b[0;34m\u001b[0m\u001b[0m\n\u001b[1;32m      5\u001b[0m \u001b[0membeddings\u001b[0m \u001b[0;34m=\u001b[0m \u001b[0mOpenAIEmbeddings\u001b[0m\u001b[0;34m(\u001b[0m\u001b[0;34m)\u001b[0m\u001b[0;34m\u001b[0m\u001b[0;34m\u001b[0m\u001b[0m\n",
            "\u001b[0;32m/usr/local/lib/python3.10/dist-packages/langchain_core/document_loaders/base.py\u001b[0m in \u001b[0;36mload\u001b[0;34m(self)\u001b[0m\n\u001b[1;32m     27\u001b[0m     \u001b[0;32mdef\u001b[0m \u001b[0mload\u001b[0m\u001b[0;34m(\u001b[0m\u001b[0mself\u001b[0m\u001b[0;34m)\u001b[0m \u001b[0;34m->\u001b[0m \u001b[0mList\u001b[0m\u001b[0;34m[\u001b[0m\u001b[0mDocument\u001b[0m\u001b[0;34m]\u001b[0m\u001b[0;34m:\u001b[0m\u001b[0;34m\u001b[0m\u001b[0;34m\u001b[0m\u001b[0m\n\u001b[1;32m     28\u001b[0m         \u001b[0;34m\"\"\"Load data into Document objects.\"\"\"\u001b[0m\u001b[0;34m\u001b[0m\u001b[0;34m\u001b[0m\u001b[0m\n\u001b[0;32m---> 29\u001b[0;31m         \u001b[0;32mreturn\u001b[0m \u001b[0mlist\u001b[0m\u001b[0;34m(\u001b[0m\u001b[0mself\u001b[0m\u001b[0;34m.\u001b[0m\u001b[0mlazy_load\u001b[0m\u001b[0;34m(\u001b[0m\u001b[0;34m)\u001b[0m\u001b[0;34m)\u001b[0m\u001b[0;34m\u001b[0m\u001b[0;34m\u001b[0m\u001b[0m\n\u001b[0m\u001b[1;32m     30\u001b[0m \u001b[0;34m\u001b[0m\u001b[0m\n\u001b[1;32m     31\u001b[0m     def load_and_split(\n",
            "\u001b[0;32m/usr/local/lib/python3.10/dist-packages/langchain_community/document_loaders/text.py\u001b[0m in \u001b[0;36mlazy_load\u001b[0;34m(self)\u001b[0m\n\u001b[1;32m     55\u001b[0m                 \u001b[0;32mraise\u001b[0m \u001b[0mRuntimeError\u001b[0m\u001b[0;34m(\u001b[0m\u001b[0;34mf\"Error loading {self.file_path}\"\u001b[0m\u001b[0;34m)\u001b[0m \u001b[0;32mfrom\u001b[0m \u001b[0me\u001b[0m\u001b[0;34m\u001b[0m\u001b[0;34m\u001b[0m\u001b[0m\n\u001b[1;32m     56\u001b[0m         \u001b[0;32mexcept\u001b[0m \u001b[0mException\u001b[0m \u001b[0;32mas\u001b[0m \u001b[0me\u001b[0m\u001b[0;34m:\u001b[0m\u001b[0;34m\u001b[0m\u001b[0;34m\u001b[0m\u001b[0m\n\u001b[0;32m---> 57\u001b[0;31m             \u001b[0;32mraise\u001b[0m \u001b[0mRuntimeError\u001b[0m\u001b[0;34m(\u001b[0m\u001b[0;34mf\"Error loading {self.file_path}\"\u001b[0m\u001b[0;34m)\u001b[0m \u001b[0;32mfrom\u001b[0m \u001b[0me\u001b[0m\u001b[0;34m\u001b[0m\u001b[0;34m\u001b[0m\u001b[0m\n\u001b[0m\u001b[1;32m     58\u001b[0m \u001b[0;34m\u001b[0m\u001b[0m\n\u001b[1;32m     59\u001b[0m         \u001b[0mmetadata\u001b[0m \u001b[0;34m=\u001b[0m \u001b[0;34m{\u001b[0m\u001b[0;34m\"source\"\u001b[0m\u001b[0;34m:\u001b[0m \u001b[0mself\u001b[0m\u001b[0;34m.\u001b[0m\u001b[0mfile_path\u001b[0m\u001b[0;34m}\u001b[0m\u001b[0;34m\u001b[0m\u001b[0;34m\u001b[0m\u001b[0m\n",
            "\u001b[0;31mRuntimeError\u001b[0m: Error loading [Document(id_='https://www.finra.org/rules-guidance/rulebooks/finra-rules/3220', embedding=None, metadata={}, excluded_embed_metadata_keys=[], excluded_llm_metadata_keys=[], relationships={}, text='Skip to main content\\n\\n[ ![Home](/themes/custom/finra_bootstrap_sass/images/FINRA_Logo_Web_Rev.png)\\n](/ \"Home\")\\n\\n__\\n\\n[ ![Home](/themes/custom/finra_bootstrap_sass/images/FINRA_Logo_Web_Rev.png)\\n](/ \"Home\")\\n\\n## FINRA Utility Menu\\n\\n  * [About FINRA](/about)\\n  * [Careers](/careers)\\n  * [BrokerCheck](https://brokercheck.finra.org)\\n  * [Data](/finra-data)\\n  * [Media Center](/media-center)\\n  * [For Firms](/member-firm-hub)\\n  * [Contact Us](/contact-finra)\\n\\nLog In\\n\\n[FINRA\\nData](https://ews.finra.org/auth/logon?realm=ews&goto=https%3A//gateway.finra.org/app/data%3FrcpRedirNum%3D1)\\n\\nFor the Public\\n\\nFINRA Data provides non-commercial use of data, specifically the ability to\\nsave data views and create and manage a Bond Watchlist.\\n\\n[LOG\\nIN](https://ews.finra.org/auth/logon?realm=ews&goto=https%3A//gateway.finra.org/app/data%3FrcpRedirNum%3D1)\\n\\n[FinPro](https://finpro.finra.org/)\\n\\nFor Industry Professionals\\n\\nRegistered representatives can fulfill Continuing Education requirements, view\\ntheir industry CRD record and perform other compliance tasks.\\n\\n[LOG IN](https://finpro.finra.org/)\\n\\n[FINRA Gateway](https://gateway.finra.org/)\\n\\nFor Member Firms\\n\\nFirm compliance professionals can access filings and requests, r..."
          ]
        }
      ]
    },
    {
      "cell_type": "code",
      "source": [],
      "metadata": {
        "id": "rAZElIXcm-cR"
      },
      "execution_count": null,
      "outputs": []
    },
    {
      "cell_type": "code",
      "source": [],
      "metadata": {
        "id": "89iNuJOMmsMO"
      },
      "execution_count": null,
      "outputs": []
    },
    {
      "cell_type": "code",
      "source": [],
      "metadata": {
        "id": "w1uQ0TDdmsJa"
      },
      "execution_count": null,
      "outputs": []
    },
    {
      "cell_type": "code",
      "source": [],
      "metadata": {
        "id": "abCuY-ztmsHD"
      },
      "execution_count": null,
      "outputs": []
    },
    {
      "cell_type": "code",
      "source": [
        "!pip install xmltodict"
      ],
      "metadata": {
        "colab": {
          "base_uri": "https://localhost:8080/"
        },
        "id": "cDyIAI7Oh6kc",
        "outputId": "eba0efa6-fdcf-42e1-fc4c-6b682b0bfd2c"
      },
      "execution_count": null,
      "outputs": [
        {
          "output_type": "stream",
          "name": "stdout",
          "text": [
            "Collecting xmltodict\n",
            "  Downloading xmltodict-0.13.0-py2.py3-none-any.whl (10.0 kB)\n",
            "Installing collected packages: xmltodict\n",
            "Successfully installed xmltodict-0.13.0\n"
          ]
        }
      ]
    },
    {
      "cell_type": "code",
      "source": [
        "from langchain_community.document_loaders.sitemap import SitemapLoader"
      ],
      "metadata": {
        "id": "UKJx2oKDiVr5"
      },
      "execution_count": null,
      "outputs": []
    },
    {
      "cell_type": "code",
      "source": [
        "import nest_asyncio\n",
        "nest_asyncio.apply()"
      ],
      "metadata": {
        "id": "_86pIIYyjleb"
      },
      "execution_count": null,
      "outputs": []
    },
    {
      "cell_type": "code",
      "source": [
        "# Import the libraries\n",
        "import xmltodict\n",
        "import requests\n",
        "from langchain.vectorstores import FAISS\n",
        "from langchain.embeddings import OpenAIEmbeddings\n",
        "\n",
        "url = \"https://www.finra.org/rules-guidance/rulebooks/finra-rules/3220\"\n",
        "url_site_map = f\"{url}/sitemap.xml\"\n",
        "\n",
        "sitemap_loader = SitemapLoader(web_path=url,\n",
        "    # filter_urls=filter_urls\n",
        "    )\n",
        "\n",
        "docs = sitemap_loader.load()"
      ],
      "metadata": {
        "colab": {
          "base_uri": "https://localhost:8080/"
        },
        "id": "uYGHLT4rhw5q",
        "outputId": "7afb9de6-6756-4630-b8a4-d607490020c6"
      },
      "execution_count": null,
      "outputs": [
        {
          "output_type": "stream",
          "name": "stderr",
          "text": [
            "Fetching pages: 0it [00:00, ?it/s]\n"
          ]
        }
      ]
    },
    {
      "cell_type": "code",
      "source": [
        "print(rewarding_documents)"
      ],
      "metadata": {
        "colab": {
          "base_uri": "https://localhost:8080/"
        },
        "id": "jIva_yZIj89y",
        "outputId": "3662f4f5-eeed-4d0b-bb37-b00c52d96faf"
      },
      "execution_count": null,
      "outputs": [
        {
          "output_type": "stream",
          "name": "stdout",
          "text": [
            "[Document(id_='https://www.finra.org/rules-guidance/rulebooks/finra-rules/3220', embedding=None, metadata={}, excluded_embed_metadata_keys=[], excluded_llm_metadata_keys=[], relationships={}, text='Skip to main content\\n\\n[ ![Home](/themes/custom/finra_bootstrap_sass/images/FINRA_Logo_Web_Rev.png)\\n](/ \"Home\")\\n\\n__\\n\\n[ ![Home](/themes/custom/finra_bootstrap_sass/images/FINRA_Logo_Web_Rev.png)\\n](/ \"Home\")\\n\\n## FINRA Utility Menu\\n\\n  * [About FINRA](/about)\\n  * [Careers](/careers)\\n  * [BrokerCheck](https://brokercheck.finra.org)\\n  * [Data](/finra-data)\\n  * [Media Center](/media-center)\\n  * [For Firms](/member-firm-hub)\\n  * [Contact Us](/contact-finra)\\n\\nLog In\\n\\n[FINRA\\nData](https://ews.finra.org/auth/logon?realm=ews&goto=https%3A//gateway.finra.org/app/data%3FrcpRedirNum%3D1)\\n\\nFor the Public\\n\\nFINRA Data provides non-commercial use of data, specifically the ability to\\nsave data views and create and manage a Bond Watchlist.\\n\\n[LOG\\nIN](https://ews.finra.org/auth/logon?realm=ews&goto=https%3A//gateway.finra.org/app/data%3FrcpRedirNum%3D1)\\n\\n[FinPro](https://finpro.finra.org/)\\n\\nFor Industry Professionals\\n\\nRegistered representatives can fulfill Continuing Education requirements, view\\ntheir industry CRD record and perform other compliance tasks.\\n\\n[LOG IN](https://finpro.finra.org/)\\n\\n[FINRA Gateway](https://gateway.finra.org/)\\n\\nFor Member Firms\\n\\nFirm compliance professionals can access filings and requests, run reports and\\nsubmit support tickets.\\n\\n[LOG IN](https://gateway.finra.org/)\\n\\n[DR Portal](https://drportal.finra.org/)\\n\\nFor Case Participants\\n\\nArbitration and mediation case participants and FINRA neutrals can view case\\ninformation and submit documents through this Dispute Resolution Portal.\\n\\n[LOG IN](https://drportal.finra.org/)\\n\\n[Need Help?](https://tools.finra.org/cc_support/) | [Check Systems\\nStatus](/systems-status/)\\n\\n[Log In to other FINRA systems](/filing-reporting/entitlement/systems)\\n\\n  * [Rules & Guidance](/rules-guidance)\\n    *       1. [R&G section 1](/)\\n        1. [FINRA Manual](/rules-guidance/finra-manual)\\n          1. [Updates](/rules-guidance/rulebooks/updates)\\n        2. [Interpreting the Rules](/rules-guidance/interpreting-rules)\\n          1. [Notices](/rules-guidance/notices)\\n          2. [Guidance](/rules-guidance/guidance)\\n          3. [Frequently Asked Questions](/rules-guidance/guidance/faqs)\\n          4. [Key Topics](/rules-guidance/key-topics)\\n          5. [Interpretive Questions](/rules-guidance/interpretive-questions)\\n\\n      2. [R&G section 2](/)\\n        1. [The Rulemaking Process](/rules-guidance/rulemaking-process)\\n          1. [Rule Filings](/rules-guidance/rule-filings)\\n          2. [Rule Filing Status Report](https://tools.finra.org/rule_filings/)\\n          3. [Requests for Comments](/rules-guidance/requests-for-comments)\\n          4. [Rulebook Consolidation](/rules-guidance/rulebook-consolidation)\\n        2. [Adjudication & Decisions](/rules-guidance/adjudication-decisions)\\n          1. [National Adjudicatory Council (NAC)](/rules-guidance/adjudication-decisions/national-adjudicatory-council-nac)\\n          2. [Office of Hearing Officers (OHO)](/rules-guidance/adjudication-decisions/office-hearing-officers-oho/about)\\n\\n      3. [R&G section 3](/)\\n        1. [Enforcement](/rules-guidance/enforcement)\\n          1. [Disciplinary Actions Online](/rules-guidance/oversight-enforcement/disciplinary-actions-online)\\n          2. [Monthly Disciplinary Actions](/rules-guidance/oversight-enforcement/disciplinary-actions)\\n          3. [Sanction Guidelines](/rules-guidance/oversight-enforcement/sanction-guidelines)\\n          4. [Individuals Barred by FINRA](/rules-guidance/oversight-Oversight%20%26%20Enforcement/individuals-barred-finra)\\n\\n  * [Registration, Exams & CE](/registration-exams-ce)\\n    *       1. [Registration section 1](/)\\n        1. [Registration](/registration-exams-ce/registration)\\n          1. [Broker Dealers](/registration-exams-ce/broker-dealers)\\n          2. [Capital Acquisition Brokers](/registration-exams-ce/capital-acquisition-brokers)\\n          3. [Funding Portals](/registration-exams-ce/funding-portals)\\n          4. [Individuals](/registration-exams-ce/individuals)\\n\\n      2. [Registration section 2](/)\\n        1. [Qualification Exams](/registration-exams-ce/qualification-exams)\\n          1. [Securities Industry Essentials Exam (SIE)](/registration-exams-ce/qualification-exams/securities-industry-essentials-exam-sie)\\n          2. [Series 7](/registration-exams-ce/qualification-exams/series7)\\n          3. [All](/registration-exams-ce/qualification-exams)\\n        2. [Continuing Education (CE)](/registration-exams-ce/continuing-education)\\n\\n      3. [Registration section 3](/)\\n        1. [Registration Systems](/registration-exams-ce/classic-crd)\\n          1. [Classic CRD](/registration-exams-ce/classic-crd)\\n          2. [Financial Professional Gateway (FinPro)](/registration-exams-ce/finpro)\\n          3. [Financial Industry Networking Directory (FIND)](/registration-exams-ce/financial-industry-networking-directory)\\n\\n  * [Events & Training](/events-training)\\n    *       1. [Conferences & Events](/events-training/conferences-events)\\n      2. [FINRA Institute at Georgetown](/events-training/finra-georgetown)\\n      3. [E-Learning Courses](/events-training/e-learning)\\n      4. [Small Firm Conference Call](/compliance-tools/small-firms-information/small-firm-report)\\n      5. [Webinars](/events-training/webinars)\\n  * [Filing & Reporting](/filing-reporting)\\n    *       1. [FINRA Gateway](/filing-reporting/finra-gateway)\\n      2. [Systems Status](/filing-reporting/systems-status)\\n      3. [Entitlement Program](/filing-reporting/finra-entitlement-program)\\n      4. [Market Transparency Reporting Tools](/filing-reporting/market-transparency-reporting)\\n      5. [Regulatory Filing Systems](/filing-reporting/regulatory-filing-systems)\\n      6. [Data Transfer Tools](/filing-reporting/data-transfer-tools)\\n      7. [E-Bill](/filing-reporting/e-bill)\\n  * [Compliance Tools](/compliance-tools)\\n    *       1. [Cybersecurity Checklist](/compliance-tools/cybersecurity-checklist)\\n      2. [Compliance Calendar](/compliance-tools/compliance-calendar)\\n      3. [Weekly Update Email Archive](/compliance-tools/weekly-archive)\\n      4. [Peer-2-Peer Compliance Library](/compliance-tools/peer-2-peer-compliance-library)\\n      5. [Compliance Vendor Directory](/compliance-tools/compliance-vendor-directory)\\n  * [For Investors](/investors)\\n    *       1. [For Investors section 1](/)\\n        1. [Investor Insights](/investors/insights)\\n        2. [Tools & Calculators](/investors/tools-and-calculators)\\n        3. [Personal Finance](/investors/personal-finance)\\n          1. [Net Worth](/investors/personal-finance/know-your-net-worth)\\n          2. [Spending](/investors/personal-finance/control-spending-calculate-cash-flow)\\n          3. [Debt](/investors/personal-finance/manage-your-debt)\\n          4. [Credit Scores](/investors/personal-finance/how-your-credit-score-impacts-your-financial-future)\\n          5. [Emergency Funds](/investors/personal-finance/start-emergency-fund)\\n\\n      2. [For Investors section 2](/)\\n        1. [Investing](/investors/investing)\\n          1. [Investing Basics](/investors/investing/investing-basics)\\n          2. [Investment Products](/investors/investing/investment-products)\\n          3. [Investment Accounts](/investors/investing/investment-accounts)\\n          4. [Working With an Investment Professional](/investors/investing/working-with-investment-professional)\\n        2. [Protect Your Money](/investors/protect-your-money)\\n          1. [Investor Alerts](/investors/alerts)\\n          2. [Ask and Check](/investors/protect-your-money/ask-and-check)\\n          3. [Avoid Fraud](/investors/protect-your-money/avoid-fraud)\\n          4. [Protect Your Identity](/investors/protect-your-money/protect-your-identity)\\n\\n      3. [For Investors section 3](/)\\n        1. [For the Military](/investors/military)\\n        2. [Need Help?](/investors/need-help)\\n          1. [File a Complaint](/investors/need-help/file-a-complaint)\\n          2. [FINRA Securities Helpline for Seniors](/investors/need-help/helpline-seniors)\\n          3. [Dispute Resolution](/arbitration-mediation)\\n          4. [Avenues for Recovery of Losses](/investors/need-help/legitimate-avenues-recovery-investment-losses)\\n\\n__\\n\\n  1. [FINRA Rules](/rules-guidance/rulebooks/finra-rules)\\n  2. [3000\\\\. SUPERVISION AND RESPONSIBILITIES RELATING TO ASSOCIATED PERSONS](/rules-guidance/rulebooks/finra-rules/3000)\\n  3. [3200\\\\. RESPONSIBILITIES RELATING TO ASSOCIATED PERSONS](/rules-guidance/rulebooks/finra-rules/3200)\\n\\n# 3220\\\\. Influencing or Rewarding Employees of Others\\n\\nThe Rule Notices Guidance News Releases FAQs\\n\\n(a) No member or person associated with a member shall, directly or\\nindirectly, give or permit to be given anything of value, including\\ngratuities, in excess of one hundred dollars per individual per year to any\\nperson, principal, proprietor, employee, agent or representative of another\\nperson where such payment or gratuity is in relation to the business of the\\nemployer of the recipient of the payment or gratuity. A gift of any kind is\\nconsidered a gratuity.\\n\\n(b) This Rule shall not apply to contracts of employment with or to\\ncompensation for services rendered by persons enumerated in paragraph (a)\\nprovided that there is in existence prior to the time of employment or before\\nthe services are rendered, a written agreement between the member and the\\nperson who is to be employed to perform such services. Such agreement shall\\ninclude the nature of the proposed employment, the amount of the proposed\\ncompensation, and the written consent of such person\\'s employer or principal.\\n\\n(c) A separate record of all payments or gratuities in any amount known to the\\nmember, the employment agreement referred to in paragraph (b) and any\\nemployment compensation paid as a result thereof shall be retained by the\\nmember for the period specified by SEA Rule 17a-4.\\n\\nAmended by SR-FINRA-2008-027 eff. Dec. 15, 2008.  \\nAmended by SR-NASD-92-40 eff. Dec. 28, 1992.  \\nAmended by SR-NASD-84-8 eff. June 20, 1984.  \\nAmended eff. Sept. 1, 1969.  \\n  \\n **Selected Notices:** 82-44, 93-8, 08-57.  \\n---  \\n  \\n  * **Regulatory Notice 16-29**\\n\\n[FINRA Requests Comment on Proposed Amendments to Its Gifts, Gratuities and\\nNon-Cash Compensation Rules](/rules-guidance/notices/16-29)\\n\\n _August 08, 2016_\\n\\n  * **Regulatory Notice 14-15**\\n\\n[FINRA Requests Comment on the Effectiveness and Efficiency of its Gifts and\\nGratuities and Non-Cash Compensation Rules](/rules-guidance/notices/14-15)\\n\\n _April 08, 2014_\\n\\n  * **Regulatory Notice 08-57**\\n\\n[FINRA Announces SEC Approval and Effective Date for New Consolidated FINRA\\nRules](/rules-guidance/notices/08-57)\\n\\n _October 16, 2008_\\n\\n### No Results Found\\n\\n### No Results Found\\n\\n### No Results Found\\n\\n## Book traversal links for 3220. Influencing or Rewarding Employees of Others\\n\\n  * [**‹** 3210\\\\. Accounts At Other Broker-Dealers and Financial Institutions](/rules-guidance/rulebooks/finra-rules/3210 \"Go to previous page\")\\n  * [Up](/rules-guidance/rulebooks/finra-rules/3200 \"Go to parent page\")\\n  * [3230\\\\. Telemarketing **›**](/rules-guidance/rulebooks/finra-rules/3230 \"Go to next page\")\\n\\nDisclaimer: The summary and detailed topics are only available for [40 FINRA\\nRules](/rules-guidance/rulebooks/finra-rulebook-search-tool-first#first-rules)\\nand have been applied as part of the [FINRA Rulebook Search Tool™\\n(FIRST™)](/rules-guidance/rulebooks/finra-rules) prototype. FIRST is for\\ninformational purposes only and does not provide regulatory or compliance\\nadvice. You should always review the relevant rule text and the related\\nguidance to understand your regulatory obligations. Usage or reliance on this\\ntool is not a defense to a failure to comply with the FINRA rules. [Learn\\nMore](/rules-guidance/rulebooks/finra-rulebook-search-tool-first)\\n\\n## Summary Topics\\n\\n## Detailed Topics\\n\\n[ ![Home](/themes/custom/finra_bootstrap_sass/images/FINRA_Logo_Web_Rev.png)\\n](/ \"Home\")\\n\\n## FINRA Main Navigation\\n\\n  * [Rules & Guidance](/rules-guidance)\\n  * [Registration, Exams & CE](/registration-exams-ce)\\n  * [Events & Training](/events-training)\\n  * [Filing & Reporting](/filing-reporting)\\n  * [Compliance Tools](/compliance-tools)\\n  * [For Investors](/investors)\\n\\n## FINRA Utility Menu\\n\\n  * [About FINRA](/about)\\n  * [Careers](/careers)\\n  * [BrokerCheck](https://brokercheck.finra.org)\\n  * [Data](/finra-data)\\n  * [Media Center](/media-center)\\n  * [For Firms](/member-firm-hub)\\n  * [Contact Us](/contact-finra)\\n\\n[ARBITRATION & MEDIATION](/arbitration-mediation)\\n\\nFINRA operates the largest securities dispute resolution forum in the United\\nStates\\n\\n[Learn More](/arbitration-mediation)\\n\\n[General Inquiries](/contact-finra/)\\n\\n301-590-6500\\n\\n[Securities Helpline for Seniors®](/investors/have-a-problem/helpline-seniors)\\n\\n844-574-3577 (Mon-Fri 9am-5pm ET)\\n\\n[File a Regulatory Tip](/contact-finra/file-tip)\\n\\nTo report on abuse or fraud in the industry\\n\\n[File an Investor Complaint](/investors/need-help/file-a-complaint)\\n\\nFile a complaint about fraud or unfair practices.\\n\\n[Small Firm Help Line](/compliance-tools/finra-small-firm-helpline)\\n\\n833-26-FINRA (Mon-Fri 9am-6pm ET)\\n\\n[Office of the Ombuds](/about/office-ombuds)\\n\\nReport a concern about FINRA at 888-700-0028\\n\\n## Footer Legal Links\\n\\n  * [Site Map](/site-map)\\n  * [Privacy Policy](/privacy-policy)\\n  * [Terms of Use](/terms-of-use)\\n\\n## Footer Legal 2\\n\\n  * [Translate](/translate)\\n  * [Contact](/contact-finra)\\n\\n[](https://www.twitter.com/finra) [](https://www.linkedin.com/company/finra/)\\n[](https://www.facebook.com/FinancialIndustryRegulatoryAuthority/)\\n[](/newsroom/follow-finra)\\n[](https://tools.finra.org/email_subscriptions/?lists=prof)\\n\\n© FINRA. All Rights Reserved.\\n\\nFINRA IS A REGISTERED TRADEMARK OF THE FINANCIAL INDUSTRY REGULATORY\\nAUTHORITY, INC.\\n\\n', start_char_idx=None, end_char_idx=None, text_template='{metadata_str}\\n\\n{content}', metadata_template='{key}: {value}', metadata_seperator='\\n')]\n"
          ]
        }
      ]
    },
    {
      "cell_type": "code",
      "source": [
        "text_splitter = RecursiveCharacterTextSplitter(\n",
        "    chunk_size = 1000,\n",
        "    chunk_overlap  = 100,\n",
        "    length_function = len,\n",
        ")\n",
        "\n",
        "texts = text_splitter.split_documents(rewarding_documents)"
      ],
      "metadata": {
        "colab": {
          "base_uri": "https://localhost:8080/",
          "height": 263
        },
        "id": "ueto7TJdlNnN",
        "outputId": "a2a42f04-33b5-4278-f3ec-2eccd0390fd4"
      },
      "execution_count": null,
      "outputs": [
        {
          "output_type": "stream",
          "name": "stderr",
          "text": [
            "/usr/lib/python3.10/tokenize.py:527: RuntimeWarning: coroutine 'WebBaseLoader.fetch_all' was never awaited\n",
            "  pseudomatch = _compile(PseudoToken).match(line, pos)\n",
            "RuntimeWarning: Enable tracemalloc to get the object allocation traceback\n"
          ]
        },
        {
          "output_type": "error",
          "ename": "NameError",
          "evalue": "name 'RecursiveCharacterTextSplitter' is not defined",
          "traceback": [
            "\u001b[0;31m---------------------------------------------------------------------------\u001b[0m",
            "\u001b[0;31mNameError\u001b[0m                                 Traceback (most recent call last)",
            "\u001b[0;32m<ipython-input-86-141c460d294f>\u001b[0m in \u001b[0;36m<cell line: 1>\u001b[0;34m()\u001b[0m\n\u001b[0;32m----> 1\u001b[0;31m text_splitter = RecursiveCharacterTextSplitter(\n\u001b[0m\u001b[1;32m      2\u001b[0m     \u001b[0mchunk_size\u001b[0m \u001b[0;34m=\u001b[0m \u001b[0;36m1000\u001b[0m\u001b[0;34m,\u001b[0m\u001b[0;34m\u001b[0m\u001b[0;34m\u001b[0m\u001b[0m\n\u001b[1;32m      3\u001b[0m     \u001b[0mchunk_overlap\u001b[0m  \u001b[0;34m=\u001b[0m \u001b[0;36m100\u001b[0m\u001b[0;34m,\u001b[0m\u001b[0;34m\u001b[0m\u001b[0;34m\u001b[0m\u001b[0m\n\u001b[1;32m      4\u001b[0m     \u001b[0mlength_function\u001b[0m \u001b[0;34m=\u001b[0m \u001b[0mlen\u001b[0m\u001b[0;34m,\u001b[0m\u001b[0;34m\u001b[0m\u001b[0;34m\u001b[0m\u001b[0m\n\u001b[1;32m      5\u001b[0m )\n",
            "\u001b[0;31mNameError\u001b[0m: name 'RecursiveCharacterTextSplitter' is not defined"
          ]
        }
      ]
    },
    {
      "cell_type": "code",
      "source": [
        "FAISS.from_documents(rewarding_documents, embedding=OpenAIEmbeddings())"
      ],
      "metadata": {
        "colab": {
          "base_uri": "https://localhost:8080/",
          "height": 341
        },
        "id": "y4i05y8EkmMO",
        "outputId": "a8710e86-fb59-4220-fb11-5190d061981d"
      },
      "execution_count": null,
      "outputs": [
        {
          "output_type": "stream",
          "name": "stderr",
          "text": [
            "/usr/local/lib/python3.10/dist-packages/langchain_core/_api/deprecation.py:117: LangChainDeprecationWarning: The class `langchain_community.embeddings.openai.OpenAIEmbeddings` was deprecated in langchain-community 0.0.9 and will be removed in 0.2.0. An updated version of the class exists in the langchain-openai package and should be used instead. To use it run `pip install -U langchain-openai` and import as `from langchain_openai import OpenAIEmbeddings`.\n",
            "  warn_deprecated(\n"
          ]
        },
        {
          "output_type": "error",
          "ename": "AttributeError",
          "evalue": "'Document' object has no attribute 'page_content'",
          "traceback": [
            "\u001b[0;31m---------------------------------------------------------------------------\u001b[0m",
            "\u001b[0;31mAttributeError\u001b[0m                            Traceback (most recent call last)",
            "\u001b[0;32m<ipython-input-85-386afd9f9428>\u001b[0m in \u001b[0;36m<cell line: 1>\u001b[0;34m()\u001b[0m\n\u001b[0;32m----> 1\u001b[0;31m \u001b[0mFAISS\u001b[0m\u001b[0;34m.\u001b[0m\u001b[0mfrom_documents\u001b[0m\u001b[0;34m(\u001b[0m\u001b[0mrewarding_documents\u001b[0m\u001b[0;34m,\u001b[0m \u001b[0membedding\u001b[0m\u001b[0;34m=\u001b[0m\u001b[0mOpenAIEmbeddings\u001b[0m\u001b[0;34m(\u001b[0m\u001b[0;34m)\u001b[0m\u001b[0;34m)\u001b[0m\u001b[0;34m\u001b[0m\u001b[0;34m\u001b[0m\u001b[0m\n\u001b[0m",
            "\u001b[0;32m/usr/local/lib/python3.10/dist-packages/langchain_core/vectorstores.py\u001b[0m in \u001b[0;36mfrom_documents\u001b[0;34m(cls, documents, embedding, **kwargs)\u001b[0m\n\u001b[1;32m    524\u001b[0m     ) -> VST:\n\u001b[1;32m    525\u001b[0m         \u001b[0;34m\"\"\"Return VectorStore initialized from documents and embeddings.\"\"\"\u001b[0m\u001b[0;34m\u001b[0m\u001b[0;34m\u001b[0m\u001b[0m\n\u001b[0;32m--> 526\u001b[0;31m         \u001b[0mtexts\u001b[0m \u001b[0;34m=\u001b[0m \u001b[0;34m[\u001b[0m\u001b[0md\u001b[0m\u001b[0;34m.\u001b[0m\u001b[0mpage_content\u001b[0m \u001b[0;32mfor\u001b[0m \u001b[0md\u001b[0m \u001b[0;32min\u001b[0m \u001b[0mdocuments\u001b[0m\u001b[0;34m]\u001b[0m\u001b[0;34m\u001b[0m\u001b[0;34m\u001b[0m\u001b[0m\n\u001b[0m\u001b[1;32m    527\u001b[0m         \u001b[0mmetadatas\u001b[0m \u001b[0;34m=\u001b[0m \u001b[0;34m[\u001b[0m\u001b[0md\u001b[0m\u001b[0;34m.\u001b[0m\u001b[0mmetadata\u001b[0m \u001b[0;32mfor\u001b[0m \u001b[0md\u001b[0m \u001b[0;32min\u001b[0m \u001b[0mdocuments\u001b[0m\u001b[0;34m]\u001b[0m\u001b[0;34m\u001b[0m\u001b[0;34m\u001b[0m\u001b[0m\n\u001b[1;32m    528\u001b[0m         \u001b[0;32mreturn\u001b[0m \u001b[0mcls\u001b[0m\u001b[0;34m.\u001b[0m\u001b[0mfrom_texts\u001b[0m\u001b[0;34m(\u001b[0m\u001b[0mtexts\u001b[0m\u001b[0;34m,\u001b[0m \u001b[0membedding\u001b[0m\u001b[0;34m,\u001b[0m \u001b[0mmetadatas\u001b[0m\u001b[0;34m=\u001b[0m\u001b[0mmetadatas\u001b[0m\u001b[0;34m,\u001b[0m \u001b[0;34m**\u001b[0m\u001b[0mkwargs\u001b[0m\u001b[0;34m)\u001b[0m\u001b[0;34m\u001b[0m\u001b[0;34m\u001b[0m\u001b[0m\n",
            "\u001b[0;32m/usr/local/lib/python3.10/dist-packages/langchain_core/vectorstores.py\u001b[0m in \u001b[0;36m<listcomp>\u001b[0;34m(.0)\u001b[0m\n\u001b[1;32m    524\u001b[0m     ) -> VST:\n\u001b[1;32m    525\u001b[0m         \u001b[0;34m\"\"\"Return VectorStore initialized from documents and embeddings.\"\"\"\u001b[0m\u001b[0;34m\u001b[0m\u001b[0;34m\u001b[0m\u001b[0m\n\u001b[0;32m--> 526\u001b[0;31m         \u001b[0mtexts\u001b[0m \u001b[0;34m=\u001b[0m \u001b[0;34m[\u001b[0m\u001b[0md\u001b[0m\u001b[0;34m.\u001b[0m\u001b[0mpage_content\u001b[0m \u001b[0;32mfor\u001b[0m \u001b[0md\u001b[0m \u001b[0;32min\u001b[0m \u001b[0mdocuments\u001b[0m\u001b[0;34m]\u001b[0m\u001b[0;34m\u001b[0m\u001b[0;34m\u001b[0m\u001b[0m\n\u001b[0m\u001b[1;32m    527\u001b[0m         \u001b[0mmetadatas\u001b[0m \u001b[0;34m=\u001b[0m \u001b[0;34m[\u001b[0m\u001b[0md\u001b[0m\u001b[0;34m.\u001b[0m\u001b[0mmetadata\u001b[0m \u001b[0;32mfor\u001b[0m \u001b[0md\u001b[0m \u001b[0;32min\u001b[0m \u001b[0mdocuments\u001b[0m\u001b[0;34m]\u001b[0m\u001b[0;34m\u001b[0m\u001b[0;34m\u001b[0m\u001b[0m\n\u001b[1;32m    528\u001b[0m         \u001b[0;32mreturn\u001b[0m \u001b[0mcls\u001b[0m\u001b[0;34m.\u001b[0m\u001b[0mfrom_texts\u001b[0m\u001b[0;34m(\u001b[0m\u001b[0mtexts\u001b[0m\u001b[0;34m,\u001b[0m \u001b[0membedding\u001b[0m\u001b[0;34m,\u001b[0m \u001b[0mmetadatas\u001b[0m\u001b[0;34m=\u001b[0m\u001b[0mmetadatas\u001b[0m\u001b[0;34m,\u001b[0m \u001b[0;34m**\u001b[0m\u001b[0mkwargs\u001b[0m\u001b[0;34m)\u001b[0m\u001b[0;34m\u001b[0m\u001b[0;34m\u001b[0m\u001b[0m\n",
            "\u001b[0;31mAttributeError\u001b[0m: 'Document' object has no attribute 'page_content'"
          ]
        }
      ]
    },
    {
      "cell_type": "code",
      "source": [],
      "metadata": {
        "id": "gwswrZbXhw3H"
      },
      "execution_count": null,
      "outputs": []
    },
    {
      "cell_type": "code",
      "source": [],
      "metadata": {
        "id": "UuqgRoRuhw0f"
      },
      "execution_count": null,
      "outputs": []
    },
    {
      "cell_type": "code",
      "source": [],
      "metadata": {
        "id": "lJ7lwT_Yhwxo"
      },
      "execution_count": null,
      "outputs": []
    },
    {
      "cell_type": "code",
      "source": [],
      "metadata": {
        "id": "Ktp4nKtDhwuc"
      },
      "execution_count": null,
      "outputs": []
    },
    {
      "cell_type": "code",
      "source": [],
      "metadata": {
        "id": "h7Rk82Lqhwko"
      },
      "execution_count": null,
      "outputs": []
    },
    {
      "cell_type": "code",
      "source": [
        "import gradio as gr\n",
        "import time\n",
        "\n",
        "def echo(message, history, system_prompt, tokens):\n",
        "    response = f\"System prompt: {system_prompt}\\n Message: {message}.\"\n",
        "    for i in range(min(len(response), int(tokens))):\n",
        "        time.sleep(0.05)\n",
        "        yield response[: i+1]\n",
        "\n",
        "demo = gr.ChatInterface(echo,\n",
        "                        additional_inputs=[\n",
        "                            gr.Textbox(\"You are helpful AI.\", label=\"System Prompt\"),\n",
        "                            gr.Slider(10, 100)\n",
        "                        ]\n",
        "                       )\n",
        "\n",
        "if __name__ == \"__main__\":\n",
        "    demo.queue().launch()"
      ],
      "metadata": {
        "colab": {
          "base_uri": "https://localhost:8080/",
          "height": 626
        },
        "id": "vCG63qNHQKyg",
        "outputId": "23892124-e77a-4887-e8ce-595236b50b0e"
      },
      "execution_count": null,
      "outputs": [
        {
          "output_type": "stream",
          "name": "stdout",
          "text": [
            "Setting queue=True in a Colab notebook requires sharing enabled. Setting `share=True` (you can turn this off by setting `share=False` in `launch()` explicitly).\n",
            "\n",
            "Colab notebook detected. To show errors in colab notebook, set debug=True in launch()\n",
            "Running on public URL: https://1786774fb47e4169f7.gradio.live\n",
            "\n",
            "This share link expires in 72 hours. For free permanent hosting and GPU upgrades, run `gradio deploy` from Terminal to deploy to Spaces (https://huggingface.co/spaces)\n"
          ]
        },
        {
          "output_type": "display_data",
          "data": {
            "text/plain": [
              "<IPython.core.display.HTML object>"
            ],
            "text/html": [
              "<div><iframe src=\"https://1786774fb47e4169f7.gradio.live\" width=\"100%\" height=\"500\" allow=\"autoplay; camera; microphone; clipboard-read; clipboard-write;\" frameborder=\"0\" allowfullscreen></iframe></div>"
            ]
          },
          "metadata": {}
        }
      ]
    },
    {
      "cell_type": "code",
      "source": [
        "import gradio as gr\n",
        "\n",
        "def yes_man(message, history):\n",
        "    if message.endswith(\"?\"):\n",
        "        return \"Yes\"\n",
        "    else:\n",
        "        return \"Ask me anything!\"\n",
        "\n",
        "gr.ChatInterface(\n",
        "    yes_man,\n",
        "    chatbot=gr.Chatbot(height=300),\n",
        "    textbox=gr.Textbox(placeholder=\"Ask me a yes or no question\", container=False, scale=7),\n",
        "    title=\"Yes Man\",\n",
        "    description=\"Ask Yes Man any question\",\n",
        "    theme=\"soft\",\n",
        "    examples=[\"Hello\", \"Am I cool?\", \"Are tomatoes vegetables?\"],\n",
        "    cache_examples=True,\n",
        "    retry_btn=None,\n",
        "    undo_btn=\"Delete Previous\",\n",
        "    clear_btn=\"Clear\",\n",
        ").launch()"
      ],
      "metadata": {
        "colab": {
          "base_uri": "https://localhost:8080/",
          "height": 715
        },
        "id": "9znkSMnUkpp9",
        "outputId": "09687763-3e0b-417b-ceb1-9fa69307f7d6"
      },
      "execution_count": null,
      "outputs": [
        {
          "output_type": "stream",
          "name": "stdout",
          "text": [
            "Caching examples at: '/content/gradio_cached_examples/201'\n",
            "Caching example 1/3\n",
            "Caching example 2/3\n",
            "Caching example 3/3\n",
            "Setting queue=True in a Colab notebook requires sharing enabled. Setting `share=True` (you can turn this off by setting `share=False` in `launch()` explicitly).\n",
            "\n",
            "Colab notebook detected. To show errors in colab notebook, set debug=True in launch()\n",
            "Running on public URL: https://359c81fee63337403a.gradio.live\n",
            "\n",
            "This share link expires in 72 hours. For free permanent hosting and GPU upgrades, run `gradio deploy` from Terminal to deploy to Spaces (https://huggingface.co/spaces)\n"
          ]
        },
        {
          "output_type": "display_data",
          "data": {
            "text/plain": [
              "<IPython.core.display.HTML object>"
            ],
            "text/html": [
              "<div><iframe src=\"https://359c81fee63337403a.gradio.live\" width=\"100%\" height=\"500\" allow=\"autoplay; camera; microphone; clipboard-read; clipboard-write;\" frameborder=\"0\" allowfullscreen></iframe></div>"
            ]
          },
          "metadata": {}
        },
        {
          "output_type": "execute_result",
          "data": {
            "text/plain": []
          },
          "metadata": {},
          "execution_count": 42
        }
      ]
    },
    {
      "cell_type": "markdown",
      "source": [
        "##### Liking / Disliking Chat Messages"
      ],
      "metadata": {
        "id": "u0e59dCMm8pg"
      }
    },
    {
      "cell_type": "code",
      "source": [
        "#from langchain.chat_models import ChatOpenAI\n",
        "from langchain.schema import AIMessage, HumanMessage\n",
        "import openai\n",
        "import gradio as gr\n",
        "\n",
        "#llm = ChatOpenAI(temperature=1.0, model='gpt-3.5-turbo-0613')\n",
        "\n",
        "def predict(message, history):\n",
        "    history_langchain_format = []\n",
        "    for human, ai in history:\n",
        "        history_langchain_format.append(HumanMessage(content=human))\n",
        "        history_langchain_format.append(AIMessage(content=ai))\n",
        "    history_langchain_format.append(HumanMessage(content=message))\n",
        "\n",
        "    gpt_response = conversational_qa_chain.invoke(\n",
        "        {\n",
        "          \"question\": message,\n",
        "          \"chat_history\": history_langchain_format\n",
        "        })\n",
        "    return gpt_response.content\n",
        "\n",
        "\n",
        "def vote(data: gr.LikeData):\n",
        "    if data.liked:\n",
        "        print(\"You upvoted this response: \" + data.value)\n",
        "    else:\n",
        "        print(\"You downvoted this response: \" + data.value)\n",
        "\n",
        "\n",
        "#gr.ChatInterface(predict,\n",
        "#                 title='MCO Assistant',\n",
        "#                 description='A generative AI assistant which can enable use cases such as customer or field support, employee training and developer productivity.\\n You can use the examples provided to get started. This model has the ability to answer the questions in its orignal language.',\n",
        "#                 textbox=gr.Textbox(placeholder=\"Type your question here...\"),\n",
        "#                 examples=[\"What does MCO provide?\", \"C'est facile?\", \"Are tomatoes vegetables?\"],\n",
        "#                 theme='soft'\n",
        "#                 ).launch()\n",
        "\n",
        "\n",
        "with gr.Blocks() as demo:\n",
        "    chatbot = gr.Chatbot()\n",
        "    textbox = gr.Textbox()\n",
        "    textbox.submit(greet, [chatbot, textbox], [chatbot])\n",
        "    chatbot.like(vote, None, None)  # Adding this line causes the like/dislike icons to appear in your chatbot\n",
        "\n",
        "demo.launch()"
      ],
      "metadata": {
        "colab": {
          "base_uri": "https://localhost:8080/",
          "height": 391
        },
        "id": "Klor9sOnVp7m",
        "outputId": "39e5fcd6-dcd6-467c-cc7f-6188b74a632d"
      },
      "execution_count": null,
      "outputs": [
        {
          "output_type": "error",
          "ename": "DuplicateBlockError",
          "evalue": "A block with id: 23 has already been rendered in the current Blocks.",
          "traceback": [
            "\u001b[0;31m---------------------------------------------------------------------------\u001b[0m",
            "\u001b[0;31mDuplicateBlockError\u001b[0m                       Traceback (most recent call last)",
            "\u001b[0;32m<ipython-input-21-08f39f63111c>\u001b[0m in \u001b[0;36m<cell line: 39>\u001b[0;34m()\u001b[0m\n\u001b[1;32m     38\u001b[0m \u001b[0;34m\u001b[0m\u001b[0m\n\u001b[1;32m     39\u001b[0m \u001b[0;32mwith\u001b[0m \u001b[0mgr\u001b[0m\u001b[0;34m.\u001b[0m\u001b[0mBlocks\u001b[0m\u001b[0;34m(\u001b[0m\u001b[0;34m)\u001b[0m \u001b[0;32mas\u001b[0m \u001b[0mdemo\u001b[0m\u001b[0;34m:\u001b[0m\u001b[0;34m\u001b[0m\u001b[0;34m\u001b[0m\u001b[0m\n\u001b[0;32m---> 40\u001b[0;31m     chatbot = gr.ChatInterface(predict, \n\u001b[0m\u001b[1;32m     41\u001b[0m                  \u001b[0mtitle\u001b[0m\u001b[0;34m=\u001b[0m\u001b[0;34m'MCO Assistant'\u001b[0m\u001b[0;34m,\u001b[0m\u001b[0;34m\u001b[0m\u001b[0;34m\u001b[0m\u001b[0m\n\u001b[1;32m     42\u001b[0m                  \u001b[0mdescription\u001b[0m\u001b[0;34m=\u001b[0m\u001b[0;34m'A generative AI assistant which can enable use cases such as customer or field support, employee training and developer productivity.\\n You can use the examples provided to get started. This model has the ability to answer the questions in its orignal language.'\u001b[0m\u001b[0;34m,\u001b[0m\u001b[0;34m\u001b[0m\u001b[0;34m\u001b[0m\u001b[0m\n",
            "\u001b[0;32m/usr/local/lib/python3.10/dist-packages/gradio/chat_interface.py\u001b[0m in \u001b[0;36m__init__\u001b[0;34m(self, fn, chatbot, textbox, additional_inputs, additional_inputs_accordion_name, additional_inputs_accordion, examples, cache_examples, title, description, theme, css, js, head, analytics_enabled, submit_btn, stop_btn, retry_btn, undo_btn, clear_btn, autofocus, concurrency_limit, fill_height)\u001b[0m\n\u001b[1;32m    199\u001b[0m                         \u001b[0mtextbox\u001b[0m\u001b[0;34m.\u001b[0m\u001b[0mcontainer\u001b[0m \u001b[0;34m=\u001b[0m \u001b[0;32mFalse\u001b[0m\u001b[0;34m\u001b[0m\u001b[0;34m\u001b[0m\u001b[0m\n\u001b[1;32m    200\u001b[0m                         \u001b[0mtextbox\u001b[0m\u001b[0;34m.\u001b[0m\u001b[0mshow_label\u001b[0m \u001b[0;34m=\u001b[0m \u001b[0;32mFalse\u001b[0m\u001b[0;34m\u001b[0m\u001b[0;34m\u001b[0m\u001b[0m\n\u001b[0;32m--> 201\u001b[0;31m                         \u001b[0mtextbox_\u001b[0m \u001b[0;34m=\u001b[0m \u001b[0mtextbox\u001b[0m\u001b[0;34m.\u001b[0m\u001b[0mrender\u001b[0m\u001b[0;34m(\u001b[0m\u001b[0;34m)\u001b[0m\u001b[0;34m\u001b[0m\u001b[0;34m\u001b[0m\u001b[0m\n\u001b[0m\u001b[1;32m    202\u001b[0m                         \u001b[0;32mif\u001b[0m \u001b[0;32mnot\u001b[0m \u001b[0misinstance\u001b[0m\u001b[0;34m(\u001b[0m\u001b[0mtextbox_\u001b[0m\u001b[0;34m,\u001b[0m \u001b[0mTextbox\u001b[0m\u001b[0;34m)\u001b[0m\u001b[0;34m:\u001b[0m\u001b[0;34m\u001b[0m\u001b[0;34m\u001b[0m\u001b[0m\n\u001b[1;32m    203\u001b[0m                             raise TypeError(\n",
            "\u001b[0;32m/usr/local/lib/python3.10/dist-packages/gradio/blocks.py\u001b[0m in \u001b[0;36mrender\u001b[0;34m(self)\u001b[0m\n\u001b[1;32m    150\u001b[0m         \"\"\"\n\u001b[1;32m    151\u001b[0m         \u001b[0;32mif\u001b[0m \u001b[0mContext\u001b[0m\u001b[0;34m.\u001b[0m\u001b[0mroot_block\u001b[0m \u001b[0;32mis\u001b[0m \u001b[0;32mnot\u001b[0m \u001b[0;32mNone\u001b[0m \u001b[0;32mand\u001b[0m \u001b[0mself\u001b[0m\u001b[0;34m.\u001b[0m\u001b[0m_id\u001b[0m \u001b[0;32min\u001b[0m \u001b[0mContext\u001b[0m\u001b[0;34m.\u001b[0m\u001b[0mroot_block\u001b[0m\u001b[0;34m.\u001b[0m\u001b[0mblocks\u001b[0m\u001b[0;34m:\u001b[0m\u001b[0;34m\u001b[0m\u001b[0;34m\u001b[0m\u001b[0m\n\u001b[0;32m--> 152\u001b[0;31m             raise DuplicateBlockError(\n\u001b[0m\u001b[1;32m    153\u001b[0m                 \u001b[0;34mf\"A block with id: {self._id} has already been rendered in the current Blocks.\"\u001b[0m\u001b[0;34m\u001b[0m\u001b[0;34m\u001b[0m\u001b[0m\n\u001b[1;32m    154\u001b[0m             )\n",
            "\u001b[0;31mDuplicateBlockError\u001b[0m: A block with id: 23 has already been rendered in the current Blocks."
          ]
        }
      ]
    },
    {
      "cell_type": "code",
      "source": [
        "import gradio as gr\n",
        "\n",
        "def greet(history, input):\n",
        "    return history + [(input, \"Hello, \" + input)]\n",
        "\n",
        "def vote(data: gr.LikeData):\n",
        "    if data.liked:\n",
        "        print(\"You upvoted this response: \" + data.value)\n",
        "    else:\n",
        "        print(\"You downvoted this response: \" + data.value)\n",
        "\n",
        "\n",
        "with gr.Blocks() as demo:\n",
        "    chatbot = gr.Chatbot()\n",
        "    textbox = gr.Textbox()\n",
        "    textbox.submit(greet, [chatbot, textbox], [chatbot])\n",
        "    chatbot.like(vote, None, None)  # Adding this line causes the like/dislike icons to appear in your chatbot\n",
        "\n",
        "demo.launch()"
      ],
      "metadata": {
        "colab": {
          "base_uri": "https://localhost:8080/",
          "height": 645
        },
        "id": "dp7gn87qm6Cl",
        "outputId": "1a853829-0756-4aa7-83a2-ad58e653cf13"
      },
      "execution_count": null,
      "outputs": [
        {
          "output_type": "stream",
          "name": "stdout",
          "text": [
            "Setting queue=True in a Colab notebook requires sharing enabled. Setting `share=True` (you can turn this off by setting `share=False` in `launch()` explicitly).\n",
            "\n",
            "Colab notebook detected. To show errors in colab notebook, set debug=True in launch()\n",
            "Running on public URL: https://25e0e30865a0577475.gradio.live\n",
            "\n",
            "This share link expires in 72 hours. For free permanent hosting and GPU upgrades, run `gradio deploy` from Terminal to deploy to Spaces (https://huggingface.co/spaces)\n"
          ]
        },
        {
          "output_type": "display_data",
          "data": {
            "text/plain": [
              "<IPython.core.display.HTML object>"
            ],
            "text/html": [
              "<div><iframe src=\"https://25e0e30865a0577475.gradio.live\" width=\"100%\" height=\"500\" allow=\"autoplay; camera; microphone; clipboard-read; clipboard-write;\" frameborder=\"0\" allowfullscreen></iframe></div>"
            ]
          },
          "metadata": {}
        },
        {
          "output_type": "execute_result",
          "data": {
            "text/plain": []
          },
          "metadata": {},
          "execution_count": 44
        }
      ]
    }
  ]
}